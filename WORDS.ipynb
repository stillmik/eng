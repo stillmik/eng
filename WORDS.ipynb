{
 "cells": [
  {
   "cell_type": "markdown",
   "metadata": {},
   "source": [
    "| **📌Meaning + (level, Formality, Slang)** | **📌Synonyms** | **📌3 example sentences** |\n",
    "|---|---|---|\n",
    "| **1. The top layer of the earth in which plants grow.** 🌱🌍 (A1, Neutral, No Slang) | ground 🌍, earth 🌏, dirt 🧑‍🌾, terrain 🌄 | 1. The farmer tilled the **soil** to prepare it for planting. 🌾🚜<br>2. The soil in this area is very rich and perfect for growing vegetables. 🥕🌿<br>3. The tree's roots spread deep into the **soil**. 🌳🪴 |\n",
    "| **2. To make something dirty or unclean, especially by touching or contaminating.** 🧼💩 (B2, Neutral, No Slang) | dirty 🧹, stain 💧, smudge 🌚, pollute 🌫️ | 1. The kids **soiled** their clothes while playing in the mud. 🏃‍♂️🌧️<br>2. He **soiled** the tablecloth with ink. 🖋️🧻<br>3. The accident caused oil to **soil** the water. 🌊🛢️ |\n",
    "| **3. To corrupt or dishonor something, like a reputation.** 🚫💔 (C1, Formal, No Slang) | taint ☣️, degrade ⬇️, defile ⚠️, dishonor 🚷 | 1. The scandal **soiled** the company's reputation. 💼💩<br>2. Her actions **soiled** the trust between them. 💔🤫<br>3. The rumors began to **soil** his image in the public eye. 🎭🗣️ |"
   ]
  },
  {
   "cell_type": "markdown",
   "metadata": {},
   "source": [
    "| **📌Meaning + (level, Formality, Slang)** | **📌Synonyms** | **📌3 example sentences** |\n",
    "|---|---|---|\n",
    "| **1. As a result of that or because of that.**  ➡️💡 (C1, Formal, No Slang) | thus ⬇️, as a result 🏁, consequently 🎯, hence 🏅, Тем самым✈️ | 1. He forgot to set the alarm, **thereby** missing his appointment. ⏰❌<br>2. The company reduced its costs, **thereby** increasing its profits. 💸📈<br>3. She studied hard, **thereby** passing the exam with top marks. 📚🎓 <br>4. She broke the window, thereby letting cold air into the room. ❄️🪟 |"
   ]
  },
  {
   "cell_type": "markdown",
   "metadata": {},
   "source": [
    "| **📌Meaning + (level, Formality, Slang)** | **📌Synonyms** | **📌3 example sentences** |\n",
    "|---|---|---|\n",
    "| **As a result or consequence of something.** 💥➡️📈 (B2, Formal, Not slang) | Therefore 📚, Hence 🧠, Consequently 🔁, As a result 🎯, Врезультате🎯 | 1. He didn’t study; **thus**, he failed the test. 📉📘<br>2. The company grew rapidly, and **thus** expanded overseas. 🌍🚀<br>3. It was raining; **thus**, the match was postponed. 🌧️⚽ |\n",
    "| **In this way or manner.** 🧭🧩 (C1, Formal, Not slang) | So 💡, In such a way 🛠️, Like this 👉, Accordingly 🧾 | 1. She bent the paper **thus** to make the shape. 📄🌀<br>2. He held his hand out **thus**, demanding silence. ✋🤫<br>3. **Thus** ends the story of the brave knight. 🏰📖 |"
   ]
  },
  {
   "cell_type": "markdown",
   "metadata": {},
   "source": [
    "| **📌Meaning + (level, Formality, Slang)** | **📌Synonyms** | **📌3 example sentences** |\n",
    "|---|---|---|\n",
    "| **As a result of what was just stated; for that reason.** 🎯📚 (B2, Formal, Not slang) | Thus 🧠, Hence 📘, Consequently 💼, As a result 🌀, Следовательно🚩 | 1. The roads were icy; **therefore**, we stayed home. ❄️🏠<br>2. She was the most experienced; **therefore**, she led the team. 💪🚩<br>3. We didn’t book early, **therefore** the prices were high. 💸📅 |"
   ]
  },
  {
   "cell_type": "markdown",
   "metadata": {},
   "source": [
    "| **📌Meaning + (level, Formality, Slang)** | **📌Synonyms** | **📌3 example sentences** |\n",
    "|---|---|---|\n",
    "| **Used to show that something happens as a result of a particular action or method.** ⚙️🎯 (C1, Formal, Not slang) | Thus 🧠, Consequently 📈, Hence ✨, As a result 🔥, Тем самым ✈️ | 1. He improved his diet, **by that means** boosting his energy levels. 🥗⚡<br>2. She completed the project early, **by that means** impressing her boss. 🏆🧠<br>3. They opened more stores, **by that means** expanding their brand across the country. 🏬🌎 |"
   ]
  },
  {
   "cell_type": "markdown",
   "metadata": {},
   "source": [
    "| **Word** | **Meaning 🤔** | **Main Difference 🔥** |\n",
    "|---|---|---|\n",
    "| **Thus** 🎯 | Shows a **logical result** or **conclusion** from what was mentioned before. 🧠➡️✨ | **Thus** is super **classic and formal**, linking cause and effect with a **sharp, neat vibe**! 🎩📜 |\n",
    "| **Therefore** 📚 | Means **\"for that reason\"** — a bit **heavier** than \"thus\" when explaining consequences. 💬🏗️ | **Therefore** is **stronger and clearer** for **formal explanations**, sounding **more solid** and **official**. 🏛️✅ |\n",
    "| **Thereby** 🔗 | Means **\"by that action\"**, focusing on **how** something happened, **not just the result**. 🔍🏃 | **Thereby** is about **method or process**—**this caused that** by a specific **means**! 🛤️🎯 |\n",
    "| **By that means** 🛠️ | A phrase that literally points to **using that method** to make something happen. 🧰🎯 | **By that means** is **more descriptive** and **wordy**, not one-word sleek like \"thereby\", but super **direct**. 🚀📖 |"
   ]
  },
  {
   "cell_type": "markdown",
   "metadata": {},
   "source": [
    "| **📌Meaning + (level, Formality, Slang)** | **📌Synonyms** | **📌3 example sentences** |\n",
    "|---|---|---|\n",
    "| **1. Lack of interest, concern, or sympathy.** 😶‍🌫️💤<br> **When someone simply doesn't care or feel emotionally involved.** 🚫❤️(B2, Neutral, No Slang) | apathy 😴, detachment 💤, unconcern 🙄, disregard 🚫 | 1. His **indifference** to the project was clear from his actions. 🚶‍♂️📉<br>2. The teacher was frustrated by the students' **indifference** to the subject. 📚😑<br>3. She showed complete **indifference** to the outcome of the meeting. 💤🤷‍♀️ |\n"
   ]
  },
  {
   "cell_type": "markdown",
   "metadata": {},
   "source": [
    "| **📌Meaning + (level, Formality, Slang)** | **📌Synonyms** | **📌3 example sentences** |\n",
    "|---|---|---|\n",
    "| **Emotionally disconnected or not involved.** 💔🚶 (B2, Neutral, Not slang) | Aloof 🧊, Distant 🌌, Dispassionate 🧠, Reserved 🔒 | 1. He seemed strangely **detached** during the conversation. 🗣️🛸<br>2. She remained **detached** from the drama unfolding around her. 🎭🚶‍♀️<br>3. His **detached** attitude made it hard to know what he was thinking. 🧩🤷 |\n",
    "| **Physically separated from something.** ✂️🏡 (B1, Neutral, Not slang) | Disconnected 🔌, Isolated 🏝️, Removed 🚪, Separated ✋ | 1. The garage is **detached** from the main house. 🏠🚗<br>2. A **detached** button lay on the floor. 🧵🪡<br>3. After the storm, several branches were **detached** from the trees. 🌳🌪️ |"
   ]
  },
  {
   "cell_type": "markdown",
   "metadata": {},
   "source": [
    "| **📌Meaning + (level, Formality, Slang)** | **📌Synonyms** | **📌3 example sentences** |\n",
    "|---|---|---|\n",
    "| **1. To be or form something; to make up a whole.** 🧩🏗️ (B2, Formal, No Slang) | compose 📝, comprise 🧱, form 🛠️, represent 🎭 | 1. Twelve players **constitute** a team. ⚽📋<br>2. Women **constitute** half the population. 👩🌍<br>3. These actions do not **constitute** a crime. 🚫⚖️ |\n",
    "| **2. To be considered or viewed as.** 🔎📜 (C1, Formal, No Slang) | amount to 📊, equate to ➗, be regarded as 👀, count as 🧮 | 1. His refusal to help **constitutes** a serious betrayal. 🗡️💔<br>2. Missing a deadline can **constitute** a violation of the agreement. ⏳📑<br>3. Does this **constitute** harassment under the law? ⚖️❓ |"
   ]
  },
  {
   "cell_type": "markdown",
   "metadata": {},
   "source": [
    "| **📌Meaning + (level, Formality, Slang)** | **📌Synonyms** | **📌3 example sentences** |\n",
    "|---|---|---|\n",
    "| **1. Extreme behavior that goes beyond what is reasonable or acceptable.** 😵🔥 (C1, Formal, No Slang) | indulgence 🍰, extravagance 💸, overindulgence 🛒, intemperance 🥂 | 1. The movie exposed the **excesses** of the rich and powerful. 💰🎭<br>2. She later regretted the **excesses** of her youth. 😬🕺<br>3. They were punished for their **excesses** during the regime. 🚨🏛️ |\n",
    "| **2. An amount that is more than necessary or allowed.** 📦📈 (B2, Neutral, No Slang) | surplus ➕, overflow 🌊, glut 🛍️, redundancy 🔁 | 1. Any **excesses** of food were donated to charity. 🍽️❤️<br>2. The **excesses** in the budget were immediately cut. ✂️📊<br>3. His luggage was charged for **excesses** in weight. 🧳⚖️ |"
   ]
  },
  {
   "cell_type": "markdown",
   "metadata": {},
   "source": [
    "| **📌Meaning + (level, Formality, Slang)** | **📌Synonyms** | **📌3 example sentences** |\n",
    "|---|---|---|\n",
    "| **The state of being no longer needed or useful.** 🗑️😓 (C1, Formal, Not slang) | Superfluity ♻️, Excess 🧃, Surplus 📦, Unnecessariness 🚫 | 1. The company faced massive **redundancy** after the merger. 💼💥<br>2. The extra wires were removed due to **redundancy**. 🔌✂️<br>3. Technological advances often create **redundancy** in older roles. 🤖📉 |\n",
    "| **Being laid off from a job because the role is no longer needed.** 🧾🚪 (B2, Formal, Not slang) | Dismissal 🔔, Termination 🚷, Layoff 💼, Discharge 🛑 | 1. She was made **redundant** last month when the company downsized. 📉📋<br>2. Thousands of workers faced **redundancy** during the economic crisis. 💣👷‍♂️<br>3. They offered compensation to employees at risk of **redundancy**. 💰🧾 |\n",
    "| **Unnecessary repetition of information.** 🔁🗣️ (C1, Neutral, Not slang) | Repetition 🔂, Overlap 🎯, Wordiness 🗨️, Pleonasm 🌀 | 1. The editor removed **redundancy** from the article to make it concise. ✍️🧼<br>2. There’s a lot of **redundancy** in your essay—try to tighten it up! 📚✂️<br>3. Good writing avoids **redundancy** while keeping clarity. 🔍🖋️ |"
   ]
  },
  {
   "cell_type": "markdown",
   "metadata": {},
   "source": [
    "| **📌Meaning + (level, Formality, Slang)** | **📌Synonyms** | **📌3 example sentences** |\n",
    "|---|---|---|\n",
    "| **1. To use or spend something (like time, money, or resources) carelessly or inefficiently.** 💸🕒 (B2, Neutral, No Slang) | squander 💸, misuse ❌, dissipate 💨, throw away 🗑️ | 1. She didn’t want to **waste** any more time on the project. ⏳🚫<br>2. They **wasted** money on things they didn’t need. 💵❌<br>3. Don’t **waste** your talents on things that don’t matter. 🎯 |\n",
    "| **2. Something that is useless or thrown away, often something that has been discarded.** 🗑️👋 (B1, Neutral, No Slang) | trash 🗑️, rubbish 🗑️, refuse 🚮, junk 🏚️ | 1. The backyard was filled with **waste** from the renovation. 🏚️💥<br>2. He’s tired of dealing with all the **waste** from the construction site. 🏗️🚧<br>3. We need to figure out how to reduce **waste** in our daily lives. ♻️💡 |\n",
    "| **3. A barren or desolate area, often used to describe land or a place that is unused or unproductive.** 🌵 (C1, Formal, No Slang) | desert 🌵, wasteland 🏜️, ruin 🏚️, void 💀 | 1. The **waste** land stretched for miles with nothing but dust and rocks. 🏜️<br>2. The abandoned factory had become a **waste** of space. 🏚️❌<br>3. He wandered through the **waste** land, searching for survivors. 🌍💀 |"
   ]
  },
  {
   "cell_type": "markdown",
   "metadata": {},
   "source": [
    "| **📌Meaning + (level, Formality, Slang)** | **📌Synonyms** | **📌3 example sentences** |\n",
    "|---|---|---|\n",
    "| **To throw something away because it is no longer useful or wanted.** 🗑️🌀 (B2, Neutral, Not slang) | Throw away 🗑️, Get rid of ✂️, Dispose of 🚮, Dump 🛻 | 1. Please **discard** any trash before leaving the room. 🚪🧹<br>2. He **discarded** his old clothes after the move. 👕📦<br>3. They decided to **discard** the broken furniture. 🪑💥 |\n",
    "| **To reject or abandon an idea, plan, or suggestion.** 🧠🚫 (C1, Neutral, Not slang) | Dismiss ❌, Reject 🚷, Drop 🛑, Abandon 🏃‍♂️ | 1. The team quickly **discarded** the risky plan. 🧠🚀<br>2. She **discarded** his advice without a second thought. 🧠🙅‍♀️<br>3. We should **discard** old strategies that no longer work. 🔄⚡ |"
   ]
  },
  {
   "cell_type": "markdown",
   "metadata": {},
   "source": [
    "| **Word** | **Meaning 🤔** | **Meaning Difference 🔥** |\n",
    "|---|---|---|\n",
    "| **Toss out** 🗑️💨 | To casually or quickly throw something away, often without much thought or care. (Can also mean suggesting ideas casually!) 💬🎯 | It’s the most **chill and slangy** 😎—like “meh, who needs this?” You’d “toss out” trash **or** ideas in a group chat 😆🧃 |\n",
    "| **Discard** ❌📤 | To **intentionally get rid** of something no longer useful or desired, often in a more **formal** or careful context. 🧾📦 | Sounds **clean and proper**—like “I discarded the outdated files” 🗃️🗑️ Not casual, def more serious than \"toss out.\" 🎓 |\n",
    "| **Throw away** 🪣🚮 | To **put something in the trash** with the intention of removing it permanently. Common and neutral 💼 | Super **everyday and basic**—the middle ground. Not slangy like “toss out,” not formal like “discard.” It’s your go-to move for actual garbage 🗑️✨ |\n",
    "| **Dispose (of)** ⚠️♻️ | To **get rid of something properly**, especially when it requires care or specific steps (hazards, waste, etc). 🧪🔋 | Most **formal and technical**. You “dispose of chemicals” or “dispose of the evidence.” It’s not just trash—it’s **handled with purpose**! 🧤📜 |"
   ]
  },
  {
   "cell_type": "markdown",
   "metadata": {},
   "source": [
    "| **📌Meaning + (level, Formality, Slang)** | **📌Synonyms** | **📌3 example sentences** |\n",
    "|---|---|---|\n",
    "| **1. Physical strength and good health; energy and force.** 💪✨ (B2, Neutral, No Slang) | energy ⚡, vitality 🌞, strength 🏋️, robustness 🧱 | 1. He attacked the project with **vigor**, finishing in record time. 🏁🔥<br>2. The young athlete radiated **vigor** and confidence. 🏃‍♂️🌟<br>3. Despite his age, he still hikes with surprising **vigor**. 🏔️💥 |\n",
    "| **2. Intensity or forcefulness in action or expression.** 🗣️💥 (C1, Formal, No Slang) | passion ❤️‍🔥, intensity 🚀, enthusiasm 🎉, fervor 🔥 | 1. She defended her beliefs with **vigor**. ⚔️🧠<br>2. The speech was delivered with great **vigor**, moving the entire crowd. 🎤🌊<br>3. He threw the ball with such **vigor** that it broke the window. ⚾🪟 |"
   ]
  },
  {
   "cell_type": "markdown",
   "metadata": {},
   "source": [
    "| **📌Meaning + (level, Formality, Slang)** | **📌Synonyms** | **📌3 example sentences** |\n",
    "|---|---|---|\n",
    "| **1. Covered in plants or vegetation that has grown wild and uncontrolled.** 🌿🌱 (B2, Neutral, No Slang) | unkempt 🌾, weedy 🌵, wild 🌳, tangled 🌬️ | 1. The garden was completely **overgrown** after a month of rain. 🌧️🌿<br>2. Vines had **overgrown** the old building, hiding its walls. 🏚️🍃<br>3. The path was barely visible under the **overgrown** grass. 🚶🌾 |\n",
    "| **2. Grown too large or beyond the normal or suitable size.** 🔼📏 (C1, Neutral, No Slang) | oversized 🐘, huge 🦍, bulky 💼, swollen 🧠 | 1. That **overgrown** puppy still thinks he’s small enough to sit on laps. 🐶🪑<br>2. The boy wore an **overgrown** coat that reached his knees. 🧥👖<br>3. These **overgrown** bushes block the view from the window. 🌳🚫 |"
   ]
  },
  {
   "cell_type": "markdown",
   "metadata": {},
   "source": [
    "| **📌Meaning + (level, Formality, Slang)** | **📌Synonyms** | **📌3 example sentences** |\n",
    "|---|---|---|\n",
    "| **1. To control and make use of something, especially a natural force or resource.** 🔌🌪️ (B2, Neutral, No Slang) | utilize 🧠, exploit 💼, channel 🔄, employ ⚙️ | 1. Scientists are working to **harness** solar energy more efficiently. ☀️🔋<br>2. We need to **harness** the power of technology to solve this problem. 💻🧩<br>3. She tried to **harness** her emotions and stay calm. 💓🧘‍♀️ |\n",
    "| **2. To put a harness (a set of straps) on an animal, especially a horse.** 🐎🪢 (A2, Neutral, No Slang) | strap in 🪢, gear up ⚙️, fasten 🔗, equip 🧰 | 1. He **harnessed** the horse before the ride. 🐴🌄<br>2. The farmer **harnessed** the oxen to plow the field. 🌾🚜<br>3. She carefully **harnessed** the dog for its pulling competition. 🐕🏋️ |"
   ]
  },
  {
   "cell_type": "markdown",
   "metadata": {},
   "source": [
    "| **📌Meaning + (level, Formality, Slang)** | **📌Synonyms** | **📌3 example sentences** |\n",
    "|---|---|---|\n",
    "| **1. To limit or restrict something within boundaries—physically, mentally, or abstractly.** 🚪⛓️ (B2, Formal, No Slang) | restrict 🚫, imprison 🏚️, enclose 🧱, contain 📦 | 1. Please **confine** your answers to one paragraph. ✍️📄<br>2. He was **confined** to his room after the surgery. 🛏️🏥<br>3. Her creativity couldn’t be **confined** by tradition. 🎨🔥 |"
   ]
  },
  {
   "cell_type": "markdown",
   "metadata": {},
   "source": [
    "| **📌Meaning + (level, Formality, Slang)** | **📌Synonyms** | **📌3 example sentences** |\n",
    "|---|---|---|\n",
    "| **1. To have or own something.** 🧳✨ (A2, Neutral, No Slang) | own 💼, have 👐, hold 🤲, carry 🎒 | 1. She **possesses** great artistic talent. 🎨🔥<br>2. Do you **possess** a valid ID? 🪪📋<br>3. The island **possesses** natural beauty and rich culture. 🏝️💖 |\n",
    "| **2. (Of a quality or feeling) to take control of someone.** 🧠💫 (B2, Formal, No Slang) | overtake 🌪️, seize 🧲, control 🎮, consume 🔥 | 1. A sudden fear **possessed** him. 😱👻<br>2. What **possessed** you to say that?! 🤷‍♂️😬<br>3. She was **possessed** by jealousy. 🧿💚 |\n",
    "| **3. (Archaic/rare) To keep or occupy a space.** 🏠🗝️ (C2, Formal, Rare Use) | inhabit 🛏️, reside 🧳, dwell 🏡, lodge 🕰️ | 1. The spirit is said to **possess** the old house. 🏚️👻<br>2. They **possessed** the land for generations. 🌾📜<br>3. The knight **possessed** the castle after victory. 🏰⚔️ |"
   ]
  },
  {
   "cell_type": "markdown",
   "metadata": {},
   "source": [
    "| **📌Meaning + (level, Formality, Slang)** | **📌Synonyms** | **📌3 example sentences** |\n",
    "|---|---|---|\n",
    "| **1. In a way that shows no emotion, expression, or reaction.** 🥶🧊 (B2, Neutral, No Slang) | expressionlessly 😐, vacantly 🪟, emotionlessly 🧘, indifferently 🙄 | 1. She stared **blankly** at the screen, unable to process what just happened. 💻😵‍💫<br>2. He looked **blankly** at me when I asked the question. ❓👀<br>3. The student sat **blankly**, clearly lost during the lecture. 🎓😶 |\n",
    "| **2. Without any clear purpose, aim, or direction.** 🌀🚶 (C1, Neutral, No Slang) | aimlessly 🚫🎯, vaguely 🌫️, pointlessly 🔄, randomly 🎲 | 1. He wandered **blankly** through the empty hallway. 🏢🚶‍♂️<br>2. She scrolled **blankly** through her phone, not really reading anything. 📱🫥<br>3. They drove **blankly** for hours, trying to escape the stress. 🚗💭 |"
   ]
  },
  {
   "cell_type": "markdown",
   "metadata": {},
   "source": [
    "| **📌Meaning + (level, Formality, Slang)** | **📌Synonyms** | **📌3 example sentences** |\n",
    "|---|---|---|\n",
    "| **1. Completely lacking or empty of something.** 🚫😶 (C1, Formal, No Slang) | lacking ❌, barren 🏜️, empty 🕳️, stripped 🔓 | 1. His voice was **devoid of** any emotion. 🎤🧊<br>2. The desert is almost completely **devoid of** life. 🌵🐫<br>3. Her eyes were **devoid of** hope. 👁️😢 |\n",
    "| **2. Not possessing a quality, feature, or element expected or needed.** ❌📉 (C1, Formal, No Slang) | absent 💨, void 🌌, free from 🚫, destitute of 🧾 | 1. The film was **devoid of** originality. 🎬💤<br>2. His argument was **devoid of** logic. 🧠🚫<br>3. The city’s outer districts were **devoid of** proper infrastructure. 🏗️📉 |"
   ]
  },
  {
   "cell_type": "markdown",
   "metadata": {},
   "source": [
    "| **📌Meaning + (level, Formality, Slang)** | **📌Synonyms** | **📌3 example sentences** |\n",
    "|---|---|---|\n",
    "| **1. Land covered with grass and other low plants, suitable for grazing animals.** 🐄🌿 (A2, Neutral, No Slang) | meadow 🌼, grassland 🌾, field 🌻, range 🐑 | 1. The sheep grazed peacefully in the green **pastures**. 🐑🌿<br>2. They own several acres of rich **pasture** near the farm. 🚜🌾<br>3. The cows are taken out to **pasture** every morning. 🐄🌞 |\n",
    "| **2. A place offering rest, peace, or a new phase in life (often plural).** 🧘‍♂️🌄 (B2, Neutral, Slightly Figurative) | retirement 🧓, retreat 🏞️, haven 🛶, refuge 🛐 | 1. After decades in the industry, she moved on to **greener pastures**. 🍃💼<br>2. He left the city in search of **pastures new**. 🌍🚶<br>3. They decided to seek **pastures** abroad for a better life. ✈️🗺️ |"
   ]
  },
  {
   "cell_type": "markdown",
   "metadata": {},
   "source": [
    "| **📌Meaning + (level, Formality, Slang)** | **📌Synonyms** | **📌3 example sentences** |\n",
    "|---|---|---|\n",
    "| **1. To begin a journey or trip.** 🧳🚶‍♂️ (B1, Neutral, No Slang) | depart 🛫, embark ⛴️, leave 🏃‍♂️, head out 🧭 | 1. They **set out** early to avoid traffic. 🌅🚗<br>2. We **set out** for the mountains at dawn. 🏔️🌄<br>3. She **set out** on a new adventure. 🎒🌍 |\n",
    "| **2. To start doing something with a particular aim.** 🎯💪 (B2, Neutral, No Slang) | aim 🎯, strive 🔥, endeavor 🚀, intend 💡 | 1. He **set out** to improve his health. 🏋️‍♂️🍎<br>2. She **set out** to write a novel. 📖✍️<br>3. They **set out** to build their dream home. 🏠🛠️ |\n",
    "| **3. To arrange or display something clearly.** 📄🧾 (C1, Formal, No Slang) | present 🎁, outline 🖊️, lay out 📋, structure 🧱 | 1. The lawyer **set out** the terms of the contract. ⚖️📜<br>2. He **set out** his ideas clearly. 🧠💬<br>3. The rules were **set out** in the manual. 📘📏 |"
   ]
  },
  {
   "cell_type": "markdown",
   "metadata": {},
   "source": [
    "| **📌Meaning + (level, Formality, Slang)** | **📌Synonyms** | **📌3 example sentences** |\n",
    "|---|---|---|\n",
    "| **1. To have or own something, especially as a quality or property.** 🧠💎 (B2, Formal, No Slang) | own 🏠, hold 👐, retain 💼, carry 🎒 | 1. She **possessed** great intelligence and charm. 🧠✨<br>2. He **possessed** the skills necessary for the job. 🔧📋<br>3. The island **possessed** a rare beauty. 🏝️🌅 |\n",
    "| **2. (Of a spirit) To take control of someone’s body or mind.** 👻🧠 (C1, Formal, No Slang) | control 🧲, haunt 👻, consume 🔥, dominate 🧬 | 1. Legend says the house is **possessed** by ghosts. 🏚️👻<br>2. A strange fury **possessed** him. 😤💢<br>3. She seemed **possessed** by fear. 😨🕳️ |"
   ]
  },
  {
   "cell_type": "markdown",
   "metadata": {},
   "source": [
    "| **📌Meaning + (level, Formality, Slang)** | **📌Synonyms** | **📌3 example sentences** |\n",
    "|---|---|---|\n",
    "| **1. Surrounded or completely covered in something, usually for protection or containment.** 🛡️📦 (B2, Neutral, No Slang) | enclosed 📪, wrapped 🎁, sheathed 🗡️, embedded 💎 | 1. The ancient artifact was **encased** in glass. 🏺🪟<br>2. His leg was **encased** in a plaster cast. 🦵🩹<br>3. The dessert was **encased** in a chocolate shell. 🍫🍰 |\n",
    "| **2. Trapped or fixed tightly within something.** 🔒🪨 (C1, Formal, No Slang) | imprisoned 🚪, locked in 🔐, encapsulated 🧬, sealed 🧴 | 1. The town was **encased** in thick fog. 🌫️🏘️<br>2. Her feelings were **encased** beneath a cold exterior. 🧊💔<br>3. The fossils were **encased** in layers of stone. 🦴🪨 |"
   ]
  },
  {
   "cell_type": "markdown",
   "metadata": {},
   "source": [
    "| **Word**  | **Meaning 🤔** (What makes it unique?)  | **Meaning Difference 🔥** (How’s it different from the others?) |\n",
    "|---|---|---|\n",
    "| **Penetrate** 🔑🕳️ | To **enter deeply** into something, whether it’s physical, emotional, or intellectual. It’s all about **going deep**, getting thorough, and being **involved**! 😎💡 Oh, and you’re definitely not staying on the surface! 💦✨ | **Penetrate** is like a deep dive, whether you’re slicing through armor or diving into a tough problem. It’s **gradual** and **thorough**—totally not about rushing! 🚀💭 |\n",
    "| **Pierce** 🗡️💥 | To **break through** something with **force** and **precision**, like an arrow hitting its mark or a needle through fabric. **Sharp, clear, and decisive!** 🎯✨ It’s all about the **strike**! 💥 | **Pierce** is super **forceful** and **intentional**—think of that sharp object making a **direct path**. It’s **not messing around**, it’s direct! 😈⚡ |\n",
    "| **Puncture** 🧷💨 | To **make a small hole** quickly, often **accidentally**—like when you step on a nail or pop a balloon. It’s **sharp but quick**! 🎈💥 It’s like a surprise **poke**! 😜💫 | **Puncture** is a **sudden**, small hole—like a surprise that happens **in an instant**! A quick **poke** that leaves its mark! 🔥💨 **You didn’t see it coming!** 🎯 |"
   ]
  },
  {
   "cell_type": "markdown",
   "metadata": {},
   "source": [
    "| **📌Meaning + (level, Formality, Slang)** | **📌Synonyms** | **📌3 example sentences** |\n",
    "|---|---|---|\n",
    "| **1. A feeling of discomfort, worry, or anxiety, often without a clear reason.** 😰💭 (B2, Neutral, No Slang) | discomfort 😓, anxiety 😟, tension ⚡, apprehension 😬 | 1. A sense of **unease** crept over her as she entered the abandoned house. 🏚️😨<br>2. His smile didn’t hide the **unease** in his eyes. 😅👀<br>3. The silence around the table was filled with **unease**. 🍽️🫢 |\n",
    "| **2. A state of mild physical or mental disturbance.** 😕🌀 (C1, Formal, No Slang) | disquiet 🤯, restlessness 🛌, distress 😖, awkwardness 🧍‍♂️🧍‍♀️ | 1. The manager’s odd behavior caused **unease** among the staff. 🧑‍💼💬<br>2. There was growing **unease** about the economic situation. 📉📊<br>3. He shifted with **unease**, avoiding the question. 🪑👉🙈 |"
   ]
  },
  {
   "cell_type": "markdown",
   "metadata": {},
   "source": [
    "| **📌Meaning + (level, Formality, Slang)** | **📌Synonyms** | **📌3 example sentences** |\n",
    "|---|---|---|\n",
    "| **1. In a manner that is unclear, blurry, or not distinct, often due to fog, confusion, or lack <br> of clarity.** 🌫️🧐 (B2, Neutral, No Slang) | vaguely 🤔, indistinctly 👀, unclearly 🌫️, ambiguously ❓ | 1. He remembered the events **hazily** as if through a fog. 🌫️🧠<br>2. The details of the story were **hazily** recalled after so many years. 📖💭<br>3. Her vision was **hazily** clouded by tears. 😢👀 |"
   ]
  },
  {
   "cell_type": "markdown",
   "metadata": {},
   "source": [
    "| **📌Meaning + (level, Formality, Slang)** | **📌Synonyms** | **📌3 example sentences** |\n",
    "|---|---|---|\n",
    "| **1. Not clearly expressed or defined; lacking precision.** 🌫️🧠 (B2, Neutral, No Slang) | unclear ❓, ambiguous 🌀, imprecise 🔍, fuzzy 💭 | 1. His answer was so **vague**, I didn’t understand what he meant. 🤷‍♀️<br>2. She gave a **vague** description of the man she saw. 👀<br>3. I only have a **vague** idea of how to get there. 🗺️✨ |\n",
    "| **2. Slight or uncertain in meaning or understanding.** 🤔🌁 (C1, Formal, No Slang) | hazy 🌥️, indistinct 🌫️, shadowy 👤, doubtful 😐 | 1. There was a **vague** sense of unease in the room. 😬<br>2. He felt a **vague** memory surfacing from childhood. 👶🧠<br>3. The plan was still too **vague** to be executed. 📋❌ |"
   ]
  },
  {
   "cell_type": "markdown",
   "metadata": {},
   "source": [
    "| **📌Meaning + (level, Formality, Slang)** | **📌Synonyms** | **📌3 example sentences** |\n",
    "|---|---|---|\n",
    "| **Not well known; rare or difficult to understand.** 🕳️📉 (C1, Formal, Not slang) | Unknown ❓, Unclear 🌫️, Vague 🌀, Mysterious 🧩 | 1. The origins of the ritual remain **obscure**. 🔮🌒<br>2. He wrote about an **obscure** 18th-century philosopher. 📚⏳<br>3. Her explanation was so **obscure** that no one understood. 🧠❔ |\n",
    "| **To make something less visible or harder to understand.** 🔍🚫 (C1, Formal, Not slang) | Hide 🫥, Conceal 🧳, Blur 🖼️, Eclipse 🌘 | 1. Clouds began to **obscure** the sun. ☁️🌞<br>2. The true meaning was **obscured** by complex language. 🧾🌀<br>3. Smoke **obscured** the road, making it hard to see. 🚗🌫️ |"
   ]
  },
  {
   "cell_type": "markdown",
   "metadata": {},
   "source": [
    "| **📌Meaning + (level, Formality, Slang)** | **📌Synonyms** | **📌3 example sentences** |\n",
    "|---|---|---|\n",
    "| **1. Slightly cloudy, blurry, or unclear in vision or weather.** 🌫️👀 (B1, Neutral, No Slang) | misty 🌁, foggy 🌫️, cloudy ☁️, dim 😶‍🌫️ | 1. The mountains looked **hazy** in the distance. 🏔️👓<br>2. A **hazy** sun rose over the horizon. 🌞🌁<br>3. His vision turned **hazy** after the hit. 👊😵‍💫 |\n",
    "| **2. Vague or unclear in meaning, memory, or thought.** 🧠🤷‍♀️ (B2, Neutral, No Slang) | blurry 📸, fuzzy 🧸, unclear 🔍, vague 🌫️ | 1. I have a **hazy** memory of that night. 🍷🧠<br>2. Her explanation was a bit **hazy**, leaving us confused. 🗣️❓<br>3. The details of the plan were still **hazy**. 📝💭 |"
   ]
  },
  {
   "cell_type": "markdown",
   "metadata": {},
   "source": [
    "| **📌Meaning + (level, Formality, Slang)** | **📌Synonyms** | **📌3 example sentences** |\n",
    "|---|---|---|\n",
    "| **1. Covered with soft fine hair or fluff; texture that feels soft and downy.** 🧸✨ (A2, Neutral, No Slang) | fluffy ☁️, soft 🐑, woolly 🧶, downy 🪶 | 1. The blanket was warm and **fuzzy**. 🛌💖<br>2. He wore a **fuzzy** sweater that made him look cozy. 🧥☕<br>3. The peach had a **fuzzy** skin. 🍑✨ |\n",
    "| **2. Blurry, unclear, or indistinct in form, sound, or memory.** 🔍🌫️ (B1, Neutral, No Slang) | hazy 🌫️, blurry 📸, vague 🌀, unclear 🧠 | 1. The photo came out all **fuzzy**. 📷❌<br>2. My memory of that day is **fuzzy**. 🧠💭<br>3. The sound was **fuzzy** over the speaker. 🔊📡 |\n",
    "| **3. Confused or imprecise in logic or language.** 🧠🤯 (B2, Neutral, No Slang) | muddled 😵, ambiguous ❓, confusing 🌀, unclear 😕 | 1. His reasoning seemed a bit **fuzzy**. 🧠🧩<br>2. The report was written in **fuzzy** terms. 📄🔍<br>3. I got **fuzzy** thinking after staying up all night. 💤☕ |"
   ]
  },
  {
   "cell_type": "markdown",
   "metadata": {},
   "source": [
    "| **📌Meaning + (level, Formality, Slang)** | **📌Synonyms** | **📌3 example sentences** |\n",
    "|---|---|---|\n",
    "| **1. Soft, light, and airy in texture like a cloud or feather.** ☁️🧸 (A1, Neutral, No Slang) | fuzzy ✨, feathery 🪶, downy 🐥, light 💨 | 1. She cuddled with a **fluffy** teddy bear. 🧸💖<br>2. The pancakes were perfectly **fluffy**. 🥞✨<br>3. He wore a **fluffy** bathrobe after his shower. 🚿🛁 |\n",
    "| **2. Not serious or deep; superficial or light content.** 📺🎀 (B2, Informal, No Slang) | shallow 🌊, trivial 🎈, lighthearted 😄, breezy 🌬️ | 1. The movie was cute but kinda **fluffy**. 🎬💗<br>2. I wanted something serious, but the article felt **fluffy**. 📄😅<br>3. Her comments were mostly **fluffy** and fun. 🎤🎉 |\n",
    "| **3. Having a lot of volume or puffiness, especially hair or fabric.** 💇‍♀️🧵 (B1, Neutral, No Slang) | voluminous 💁‍♀️, puffy 🎈, thick 🌪️, airy ☁️ | 1. Her **fluffy** hair bounced as she walked. 💁‍♀️✨<br>2. The cat's **fluffy** tail twitched with excitement. 🐈💨<br>3. He wore a **fluffy** scarf that looked handmade. 🧣🧶 |"
   ]
  },
  {
   "cell_type": "markdown",
   "metadata": {},
   "source": [
    "| **📌Meaning + (level, Formality, Slang)** | **📌Synonyms** | **📌3 example sentences** |\n",
    "|---|---|---|\n",
    "| **1. Positioned or situated at a great height or elevation.** ⛰️💫 (B1, Neutral, No Slang) | elevated ⬆️, lofty 🌤️, tall 🏢, towering 🏰 | 1. The mountain peak stood **high up**, almost touching the sky. ⛰️🌌<br>2. The birds flew **high up** above the clouds. 🦅☁️<br>3. The penthouse suite was **high up**, offering a stunning view of the city. 🏙️✨ |"
   ]
  },
  {
   "cell_type": "markdown",
   "metadata": {},
   "source": [
    "| **📌Meaning + (level, Formality, Slang)** | **📌Synonyms** | **📌3 example sentences** |\n",
    "|---|---|---|\n",
    "| **1. To move back and forth or side to side, often gently.** 🌊💃 (B1, Neutral, No Slang) | swing 🎶, rock 🕺, oscillate 🔄, wave 🌊 | 1. The trees **swayed** in the wind, creating a peaceful sound. 🌳🌬️<br>2. She stood still as the boat gently **swayed** on the water. 🚤💧<br>3. The dancers began to **sway** to the rhythm of the music. 🎶💃 |\n",
    "| **2. To influence or persuade someone to change their opinion.** 🧠💭 (B2, Neutral, No Slang) | influence 🤔, persuade 💬, convince ✔️, sway 💪 | 1. He tried to **sway** the vote by presenting compelling arguments. 🗳️💬<br>2. The advertisement **swayed** many customers to buy the product. 🛍️📈<br>3. She was **swayed** by the kindness of her friend. 🤝💖 |"
   ]
  },
  {
   "cell_type": "markdown",
   "metadata": {},
   "source": [
    "| **Word** | **Meaning 🤔** (What makes it unique?) | **Meaning Difference 🔥** (How’s it different from the others?) |\n",
    "|---|---|---|\n",
    "| **Swing** 🛝🕺 | To **move back and forth** (or side to side) from a fixed point, often in a **larger, more forceful** or even **playful** motion. (Think of a kid on a swing set or Tarzan flying on vines! 🌴) | **Swing** is all about that **arc movement**, and usually has a **wider range** and feels more **intentional or energetic**. You can also *swing your arms*, *swing by a friend's place*, or *swing a bat*—so it's super versatile! 🏏🌪️ |\n",
    "| **Sway** 🌬️🌊 | To **gently move or lean** from side to side—often in a **slow, smooth, rhythmic** way. (Think of trees in the wind or someone swaying to music. 🎶🌳) | **Sway** is **softer and more passive**—it's like you're **being influenced** by an outside force (wind, music, emotion). Less action-packed than *swing*, more dreamy-vibes. 💤✨ |"
   ]
  },
  {
   "cell_type": "markdown",
   "metadata": {},
   "source": [
    "| **📌Meaning + (level, Formality, Slang)** | **📌Synonyms** | **📌3 example sentences** |\n",
    "|---|---|---|\n",
    "| **1. To become less intense or severe; to relax or reduce pressure.** 😌💆‍♂️ (B2, Neutral, No Slang) | relax 🧘‍♀️, soften 🫶, calm down 🧘, ease off 🦋 | 1. You should **ease up** on the gas pedal, we're almost there! 🚗💨<br>2. After a long week of work, I plan to **ease up** and enjoy the weekend. 🌴☀️<br>3. The teacher asked the students to **ease up** on their arguments and listen to each other. 👂💬 |\n",
    "| **2. To be less strict or harsh, often used when giving a warning.** ⚖️😅 (B2, Neutral, No Slang) | loosen up 👐, lighten up 😎, let go 🕊️, back off 🛑 | 1. The coach told the players to **ease up** on their practice routine after a hard session. 🏋️‍♂️💪<br>2. I think you should **ease up** on yourself, it’s okay to take breaks! 🌸🛋️<br>3. Don’t be so harsh, **ease up** a bit! Everyone is trying their best. 🤗💖 |"
   ]
  },
  {
   "cell_type": "markdown",
   "metadata": {},
   "source": [
    "| **📌Meaning + (level, Formality, Slang)** | **📌Synonyms** | **📌3 example sentences** |\n",
    "|---|---|---|\n",
    "| **1. A terrible fate or disaster, often inevitable or foreseen.** 💀⚠️ (C2, Neutral, No Slang) | disaster 💥, catastrophe 💣, calamity 🌀, tragedy 💔 | 1. The ship was heading straight for **doom** as the storm raged around it. 🌪️⛵<br>2. The village faced certain **doom** unless they could find a solution to the drought. 🏜️💧<br>3. Many feared that the **doom** of the planet was inevitable due to climate change. 🌍🔥 |\n",
    "| **2. To condemn someone or something to an undesirable fate.** 🚫⏳ (C1, Neutral, No Slang) | condemn 🛑, sentence ⚖️, fated ⏳, destined 🚪 | 1. The king’s decision to ignore the warnings could **doom** his kingdom. 👑💔<br>2. Her actions seemed to **doom** the project from the very beginning. 📉📚<br>3. The company’s refusal to innovate might **doom** it to failure in the long run. 💻🚨 |"
   ]
  },
  {
   "cell_type": "markdown",
   "metadata": {},
   "source": [
    "| **📌Meaning + (level, Formality, Slang)** | **📌Synonyms** | **📌3 example sentences** |\n",
    "|---|---|---|\n",
    "| **1. Extremely serious or urgent; urgent, critical.** 🚨⚠️ (C2, Neutral, No Slang) | urgent ⏰, critical ⚠️, grave 🏚️, pressing ⏳ | 1. The situation in the hospital became **dire** when the power went out during the storm. 🌧️🩺<br>2. The company is facing a **dire** financial crisis and may soon close its doors. 💸🚪<br>3. His health condition became **dire**, and immediate surgery was required. 🏥💔 |\n",
    "| **2. Involving or causing great danger or risk.** ☠️🔥 (C1, Neutral, No Slang) | dangerous ⚡, perilous 🌪️, risky ⚠️, hazardous 🛑 | 1. The explorers found themselves in a **dire** predicament in the middle of the jungle. 🌳🦎<br>2. The mission was **dire**, with very little chance of success. 🛰️💥<br>3. The **dire** consequences of ignoring safety procedures were clear after the accident. 🚧🔴 |"
   ]
  },
  {
   "cell_type": "markdown",
   "metadata": {},
   "source": [
    "| **📌Meaning + (level, Formality, Slang)** | **📌Synonyms** | **📌3 example sentences** |\n",
    "|---|---|---|\n",
    "| **1. To die, especially in a violent or untimely way.** ⚰️💀 (C1, Neutral, No Slang) | die 💀, pass away 🕊️, expire ⏳, meet one's end 👀 | 1. Many soldiers **perished** in the battle, unable to escape the enemy's attack. ⚔️💥<br>2. She feared she would **perish** from the cold if she didn't find shelter soon. ❄️🏚️<br>3. The animals **perished** in the fire, unable to escape the flames in time. 🔥🐾 |\n",
    "| **2. To suffer destruction or ruin.** ⚡🌪️ (C1, Formal, No Slang) | be destroyed 💣, be ruined 💔, be lost 🌪️, be obliterated 🔨 | 1. The ancient building **perished** in the earthquake, leaving only rubble behind. 🏚️💥<br>2. His career **perished** after the scandal broke out. 🕵️‍♂️🔥<br>3. The crops **perished** in the drought, leaving the farmers with nothing to harvest. 🌾🌞 |"
   ]
  },
  {
   "cell_type": "markdown",
   "metadata": {},
   "source": [
    "| **📌Meaning + (level, Formality, Slang)** | **📌Synonyms** | **📌3 example sentences** |\n",
    "|---|---|---|\n",
    "| **1. Continuing without interruption; unceasing.** 🔄🕓 (C1, Neutral, No Slang) | constant 🔄, unceasing ⏳, perpetual 🔁, relentless 🚀 | 1. The **incessant** rain flooded the streets, making it difficult to drive. 🌧️🚗<br>2. The **incessant** noise from the construction site kept her awake all night. 🏗️😴<br>3. His **incessant** questioning started to annoy the teacher. ❓👩‍🏫 |\n",
    "| **2. Never-ending or unrelenting in nature.** 🌪️💨 (C1, Formal, No Slang) | endless 🌀, constant 🕓, ceaseless 🌊, unrelenting 🔥 | 1. The **incessant** pursuit of perfection can sometimes lead to burnout. 🏃‍♀️🔥<br>2. The **incessant** demand for change was overwhelming for the government. 🏛️⚡<br>3. Her **incessant** commitment to her studies led to great success. 📚💡 |"
   ]
  },
  {
   "cell_type": "markdown",
   "metadata": {},
   "source": [
    "| **📌Meaning + (level, Formality, Slang)** | **📌Synonyms** | **📌3 example sentences** |\n",
    "|---|---|---|\n",
    "| **1. The act of breathing out air, typically after inhaling.** 🌬️😌 (B1, Neutral, No Slang) | breath 🌬️, exhale 🌬️, outbreath 🌪️, puff 💨 | 1. After holding his breath for a few seconds, he finally released an **exhalation**. 😤💨<br>2. The deep **exhalation** of the wind in the trees created a peaceful atmosphere. 🌳💨<br>3. She gave a slow **exhalation** as she finished her meditation session. 🧘‍♀️🌬️ |\n",
    "| **2. The release or emission of something, such as gas or vapor.** 💨🔥 (B2, Neutral, No Slang) | emission 💨, discharge 🚗, outpouring 💧, venting 🔥 | 1. The **exhalation** of smoke from the factory was visible for miles. 🏭💨<br>2. The sudden **exhalation** of steam from the kettle signaled that the water was boiling. ☕💨<br>3. The **exhalation** of gases from the volcano caused a thick cloud of ash. 🌋💨 |"
   ]
  },
  {
   "cell_type": "markdown",
   "metadata": {},
   "source": [
    "| **Word** | **Meaning 🤔** | **Meaning Difference 🔥** |\n",
    "|---|---|---|\n",
    "| **Exhale** 😮💨 | A **verb**: to **breathe out** air from your lungs. (Think: action moment—like letting go of stress! 😌💆‍♀️) | **Exhale** is the **action**, the *doing*—like “Take a deep breath… now exhale.” You’re moving air out, live in the moment. 🧘‍♂️ |\n",
    "| **Exhalation** 🧪🌬️ | A **noun**: the **process or instance** of breathing out air. (Think: the technical or poetic version of the moment! 🧠📖) | **Exhalation** is the **thing itself**, not the action. It's more **scientific/formal** or **descriptive**. Like “The exhalation was steady and calm.” 🧬 |"
   ]
  },
  {
   "cell_type": "markdown",
   "metadata": {},
   "source": [
    "| **📌Meaning + (level, Formality, Slang)** | **📌Synonyms** | **📌3 example sentences** |\n",
    "|---|---|---|\n",
    "| **1. Extremely hot or burning in nature.** 🔥🌡️ (B2, Neutral, No Slang) | burning 🔥, scorching 🔥, searing 🌞, blistering 🌶️ | 1. The **fiery** dragon breathed flames that could melt anything in its path. 🐉🔥<br>2. He touched the **fiery** stove by mistake and burned his hand! 😖🔥<br>3. The **fiery** sunset painted the sky with shades of orange and red. 🌅🔥 |\n",
    "| **2. Showing intense emotion or passion, especially anger.** 💪🔥 (B2, Neutral, No Slang) | passionate 💖, intense 🔥, fervent ❤️, zealous 💪 | 1. She gave a **fiery** speech about the importance of protecting the environment. 🌍🔥<br>2. Their **fiery** debate lasted for hours without any signs of stopping. 🗣️🔥<br>3. He had a **fiery** temper that could flare up in an instant. 😡🔥 |\n",
    "| **3. Of a reddish-orange color or appearance, like flames.** 🔥🎨 (B2, Neutral, No Slang) | flaming 🔥, crimson ❤️, amber 🍂, burnt-orange 🍊 | 1. She wore a **fiery** red dress that caught everyone's attention at the party. 👗🔥<br>2. The **fiery** leaves of autumn covered the ground like a carpet of colors. 🍁🔥<br>3. His **fiery** hair looked like it was on fire under the sun. 🔥🧑‍🦰 |"
   ]
  },
  {
   "cell_type": "markdown",
   "metadata": {},
   "source": [
    "| **📌Meaning + (level, Formality, Slang)** | **📌Synonyms** | **📌3 example sentences** |\n",
    "|---|---|---|\n",
    "| **1. To be diminished, lowered, or made smaller in size, quantity, or value.** 🐉➡️💧 (B2, Neutral, No Slang) | diminished ➖, lessened ➡️, lowered ⬇️, decreased ➖ | 1. After the storm, the water level in the river was **reduced to** a mere trickle. 🌧️💧<br>2. The company **reduced** its prices to attract more customers. 💸📉<br>3. His energy was **reduced to** nothing after the long hike. 🏞️💨 |\n",
    "| **2. To be forced into a worse or less desirable state.** 😞🔽 (B2, Neutral, No Slang) | humbled 🙇‍♂️, degraded 👎, diminished 😔, debased 🔻 | 1. He was **reduced to** begging after losing all his money. 💸😢<br>2. Her pride was **reduced to** ashes after the embarrassing incident. 😓🔥<br>3. The city was **reduced to** rubble after the earthquake. 🌍💥 |\n"
   ]
  },
  {
   "cell_type": "markdown",
   "metadata": {},
   "source": [
    "| **📌Meaning + (level, Formality, Slang)** | **📌Synonyms** | **📌3 example sentences** |\n",
    "|---|---|---|\n",
    "| **1. To make or become smaller, weaker, or less important.** 🐉➡️💨 (B2, Neutral, No Slang) | lessen ➖, decrease ➖, reduce ➡️, shrink ➖ | 1. The company’s profits **diminished** after the new competitor entered the market. 📉📊<br>2. The excitement about the event slowly **diminished** as the day went on. ⏳💫<br>3. Over time, his passion for the project **diminished**. 💡⏬ |\n",
    "| **2. To lessen in intensity or magnitude.** 🔥➡️💧 (B2, Neutral, No Slang) | fade 🔆, weaken ⬇️, wane 🌙, slacken 🌬️ | 1. The storm finally **diminished** to a light drizzle. 🌧️➡️☁️<br>2. His anger **diminished** after a calm conversation. 😠➡️🗣️<br>3. The light from the sunset **diminished** as the night took over. 🌅➡️🌙 |\n",
    "| **3. To reduce in value, importance, or quality.** 🏚️➡️🧱 (C1, Neutral, No Slang) | degrade 👎, devalue ⚖️, lessen 👀, cheapen 🪙 | 1. The constant criticism **diminished** her confidence. 💔🙅‍♀️<br>2. Overuse of plastic has **diminished** its quality. 🛍️📉<br>3. His actions **diminished** the trust his team had in him. 💔💼 |"
   ]
  },
  {
   "cell_type": "markdown",
   "metadata": {},
   "source": [
    "| **Word** | **Meaning 🤔** | **Main Difference 🔥** |\n",
    "| --- | --- | --- |\n",
    "| **Lessen** ⚖️ | To make something smaller in size, amount, degree, or intensity. It’s **general** and usually implies a **gradual** reduction. | **Lessen** is about a **gradual** or **gentle** reduction, often in something like **impact** or **intensity** (think: time, stress, or noise). It’s a more neutral word than the others. 🕰️ |\n",
    "| **Decrease** 📉 | To **reduce** in size, quantity, or degree, typically used in **measurable contexts** like numbers, amounts, or levels. | **Decrease** is more **quantifiable** and is often used for **numerical** or **statistical** reductions (e.g., temperature, prices, speed). It’s very straightforward. 🧮 |\n",
    "| **Reduce to** 🌅➡️🌙 | To lower something to a **specific or final level**, often indicating **extremes** or complete change. Like to lower in a **rang/class** (figuratively)| **Reduce to** focuses on **reaching a specific point** or **level**, often implying a more **drastic or complete** reduction (e.g., \"reduce to rubble\" or \"reduce to tears\"). 🏚️ |\n",
    "| **Diminish** 🪙➡️💨 | To **gradually** decrease in size, importance, or intensity. It carries a sense of **gradual fading** or **weakening**, often related to **value** or **effect**. | **Diminish** often implies **loss** or **weakening** in **impact** or **value**. It's typically **gradual** and can imply that something becomes less important or noticeable. 💔 |"
   ]
  },
  {
   "cell_type": "markdown",
   "metadata": {},
   "source": [
    "| **📌Meaning + (level, Formality, Slang)** | **📌Synonyms** | **📌3 example sentences** |\n",
    "|---|---|---|\n",
    "| **1. To hold royal office; to rule as king or queen.** 👑🏰 (C1, Formal, No Slang) | ruled ⚖️, governed 🏛️, presided 🎤, commanded ⚔️ | 1. He **reigned** over the kingdom for 50 years. 👑🏰<br>2. Queen Elizabeth I **reigned** during a period of great cultural expansion. 👑🎨<br>3. The emperor **reigned** with wisdom and strength. ⚔️👑 |\n",
    "| **2. To be predominant or have the greatest influence.** 🌟⚡️ (C2, Neutral, No Slang) | dominated 💥, prevailed 🏆, controlled 🛠️, excelled 🌟 | 1. The artist’s style **reigned** supreme in the 19th century. 🎨👑<br>2. Innovation **reigned** in the tech industry during the early 2000s. 💻🚀<br>3. The team **reigned** as champions for three consecutive years. 🏆⚡️ |\n",
    "| **3. To be the most important or influential in a situation.** 💯💪 (C1, Neutral, No Slang) | prevailed 🏅, dominated 💥, ruled 🌍, held sway 🎯 | 1. The music festival **reigned** as the event of the year in the city. 🎶🎤<br>2. Fashion trends **reigned** on the runway during the latest show. 👗🎬<br>3. The company **reigned** in the market for the last decade. 📈🏢 |"
   ]
  },
  {
   "cell_type": "markdown",
   "metadata": {},
   "source": [
    "| **📌Meaning + (level, Formality, Slang)** | **📌Synonyms** | **📌3 example sentences** |\n",
    "|---|---|---|\n",
    "| **1. A device with a meshed or perforated bottom, used to strain liquids from solids or sift dry ingredients.** 🧑‍🍳🍚 (B2, Neutral, No Slang) | strainer 🥄, sifter 🍰, filter 💧, mesh 🧼 | 1. She used a **sieve** to separate the flour from the lumps. 🍞<br>2. The **sieve** filtered out the rice from the water. 🌾💧<br>3. Use a **sieve** to strain the pasta after boiling it. 🍝 |\n",
    "| **2. To separate or filter something through a sieve.** 💦🧑‍🍳 (C1, Neutral, No Slang) | strain 🥣, sift 🍪, filter 🧃, sort 📊 | 1. The flour was **sieved** before adding it to the batter. 🍰<br>2. You need to **sieve** the sand to remove larger rocks. 🏖️<br>3. She **sieved** the water to remove any debris. 💧🌱 |\n",
    "| **3. A situation where something is filtered or examined carefully to remove unwanted elements.** 🔍🧐 (C2, Formal, No Slang) | filter 🕵️‍♀️, scrutinize 🧐, inspect 🔬, sift 📜 | 1. The documents were **sieved** through before being signed. 📜✍️<br>2. They **sieved** out the fake applications from the genuine ones. 🧳📋<br>3. The information was **sieved** for accuracy before being published. 📚 |"
   ]
  },
  {
   "cell_type": "markdown",
   "metadata": {},
   "source": [
    "| **📌Meaning + (level, Formality, Slang)** | **📌Synonyms** | **📌3 example sentences** |\n",
    "|---|---|---|\n",
    "| **1. To start talking freely about your feelings or thoughts.** 🗣️💖 (B2, Neutral, No Slang) | share 😌, confide 🤫, express 💬, reveal 🧠 | 1. It took him a while to **open up** about his struggles. 🥺<br>2. She finally **opened up** to her therapist. 🛋️<br>3. I wish you'd **open up** more so I can understand how you feel. 💞 |\n",
    "| **2. To make something accessible or available.** 🚪✨ (B2, Neutral, No Slang) | unlock 🔓, make available 📬, offer 🧳, allow 🌐 | 1. The company plans to **open up** new job opportunities next year. 💼<br>2. They’re **opening up** the museum for a special night tour. 🏛️<br>3. The highway project **opened up** access to remote areas. 🛣️ |\n",
    "| **3. To unfold or expand physically.** 🌸📦 (B1, Neutral, No Slang) | unfold 📖, spread 🪷, expand 🌟, stretch out 🧘 | 1. The flower **opened up** under the morning sun. 🌼<br>2. She **opened up** the package carefully. 📦<br>3. As the parachute **opened up**, he began to slow down. 🪂 |"
   ]
  },
  {
   "cell_type": "markdown",
   "metadata": {},
   "source": [
    "| **Word** | **Meaning 🤔** (What makes it unique?) | **Main Difference 🔥** (How’s it different from the other words?) |\n",
    "| --- | --- | --- |\n",
    "| **Open** 🚪 | To **allow access** or **make accessible**, or **not closed**. It’s about creating availability or a physical state of being unsealed. 💡 | **Open** is **neutral** and **used for general access**—like opening doors or windows or something being free from obstruction. It’s about **states** or **actions** of **not being closed**. 🌿 |\n",
    "| **Open up** 🔓 | To **reveal**, **express** emotions, or **make something available in a more specific or personal way**. Often used for **emotional opening** or **making something more intimate**. 💖 | **Open up** focuses on **emotional or personal** aspects—it’s about **sharing inner thoughts**, **expressing feelings**, or **making something more thorough** (e.g., opening up about feelings). It’s more **intimate** than just **open**. 💭 |"
   ]
  },
  {
   "cell_type": "markdown",
   "metadata": {},
   "source": [
    "| **📌Meaning + (level, Formality, Slang)** | **📌Synonyms** | **📌3 example sentences** |\n",
    "|---|---|---|\n",
    "| **1. To demonstrate or show that something is true or correct through evidence or action.** 🧐 (B2, Neutral, No Slang) | confirmed ✅, verified 📑, established 🔍, shown 👀 | 1. The experiment **proved to be** a success after the results came in. 🔬<br>2. His dedication **proved to be** the key to the team's victory. 🏆<br>3. The new system **proved to be** more efficient than expected. ⚙️ |\n",
    "| **2. To turn out or result in something after a process or effort.** 🔄 (B2, Neutral, No Slang) | turned out 💡, ended up 🌈, resulted in 🔚, became 💫 | 1. The dinner **proved to be** a fantastic experience for all the guests. 🍽️<br>2. Her idea **proved to be** the most innovative solution. 💡<br>3. The plan **proved to be** more complicated than we initially thought. 🧩 |"
   ]
  },
  {
   "cell_type": "markdown",
   "metadata": {},
   "source": [
    "| **Word** | **Meaning 🤔** | **Main Difference 🔥** |\n",
    "| --- | --- | --- |\n",
    "| **Turned out** 🤯 | To **result in** something after a process, usually unexpected or surprising. It’s like the final outcome was revealed, often after some time or effort. 🕒 | **Turned out** is more about the **unexpected** or **surprising** result. Like, \"I thought I’d fail, but it **turned out** I did great!\" 🎉 |\n",
    "| **Proved to be** 📚 | To **demonstrate or establish** something as true or correct through evidence or experience. It’s like showing that something is undeniably true after being tested or questioned. 💪 | **Proved to be** emphasizes the **certainty** or **evidence-based** confirmation. \"She **proved to be** the best candidate for the job!\" 🏆 |"
   ]
  },
  {
   "cell_type": "markdown",
   "metadata": {},
   "source": [
    "| **📌Meaning + (level, Formality, Slang)** | **📌Synonyms** | **📌3 example sentences** |\n",
    "|---|---|---|\n",
    "| **1. Absolutely necessary; essential.** 💡 (B2, Neutral, No Slang) | essential 🧠, crucial 🚨, vital 💖, necessary 📋 | 1. A good internet connection is **indispensable** for remote work. 💻<br>2. The teacher was **indispensable** in guiding the students through their final project. 🎓<br>3. Water is **indispensable** for survival. 💧 |\n",
    "| **2. Too important to be replaced or done without.** 🚀 (C1, Formal, No Slang) | irreplaceable 🌟, unique 🔥, critical ⚡, paramount 🌍 | 1. His leadership has proven **indispensable** to the success of the team. 🏆<br>2. She is an **indispensable** member of our research team. 🔬<br>3. The **indispensable** role of technology in modern life is undeniable. 📱 |"
   ]
  },
  {
   "cell_type": "markdown",
   "metadata": {
    "tags": [
     "lol"
    ]
   },
   "source": [
    "| **Word**            | **Meaning 🤔**                                                                                  | **Main Difference 🔥**                                                                                                                                       |\n",
    "|---------------------|------------------------------------------------------------------------------------------------|-----------------------------------------------------------------------------------------------------------------------------------------------------------|\n",
    "| **Inherent** 🧠     | Something **naturally** existing in someone or something, often in a **deeply ingrained** way.    | **Inherent** is about a quality that's **intrinsic** or **natural** to the thing or person. It’s **part of the essence**—not something that can be added or removed! 🌱    |\n",
    "| **Indispensable** 💡| Something **absolutely necessary**—you can’t do without it! (Think: can't go on without it!) 🏆    | **Indispensable** focuses on **something vital for functionality**. It’s about **practical necessity**—without it, things **don’t work** properly! 🛠️                                            |\n",
    "| **Irreplaceable** 💎 | Something that **can’t be replaced**—it's **unique**, often in an emotional or special way! 💖    | **Irreplaceable** is all about **uniqueness**. If you lose it, you can’t find **another exactly like it**—it's one of a kind! **Sentimental or unique** value! 🌟                                               |\n",
    "| **Essential** ⚡     | Something **absolutely needed** for something to function or exist. **Super important**! 🌍         | **Essential** is the **basic foundation** of something—it’s **necessary for survival or existence**. Without it, the whole thing could **collapse or not exist**. 🚨                                          |"
   ]
  },
  {
   "cell_type": "markdown",
   "metadata": {},
   "source": [
    "| **📌Meaning + (level, Formality, Slang)** | **📌Synonyms** | **📌3 example sentences** |\n",
    "|---|---|---|\n",
    "| **1. Able to move quickly and easily; physically nimble and light on one's feet.** <br> 🏃‍♂️🐆 (B2, Neutral, No Slang) | nimble ⚡, spry 🐿️, limber 🤸, quick 🏎️ | 1. The cat was so **agile**, it leaped from roof to roof! 🐱🏠<br>2. She’s incredibly **agile** for her age. 🧘‍♀️💪<br>3. The gymnast showed off his **agile** moves on the mat. 🤸‍♂️✨ |\n",
    "| **2. Mentally quick and adaptable; able <br> to think and react fast.** 🧠⚡<br> (C1, Neutral, No Slang) | sharp 🧊, quick-witted 🧠, flexible 🔁, clever 🧞 | 1. You need an **agile** mind to solve these puzzles. 🧩🧠<br>2. Her **agile** thinking helped us avoid disaster. 🚀🛑<br>3. He's known for his **agile** responses in debates. 🎤🔥 |"
   ]
  },
  {
   "cell_type": "markdown",
   "metadata": {},
   "source": [
    "| **📌Meaning + (level, Formality, Slang)** | **📌Synonyms** | **📌3 example sentences** |\n",
    "|---|---|---|\n",
    "| **To manage to fit something or someone into <br> a tight space or schedule.** 🧃📆 (B2, Informal, Not slang) | Fit in 🔩, Cram in 📚, Slot in 🧩, Pack in 🎒 | 1. I can **squeeze in** a quick workout before dinner. 🏋️‍♂️⏰<br>2. Can we **squeeze in** one more person at the table? 🍽️🪑<br>3. She **squeezed in** a call during her lunch break. 📞🥪 |\n",
    "| **To force or gently push into a small or tight area.** 🧼🚪 (B1, Neutral, Not slang) | Stuff in 🎒, Push in 🤏, Tuck in 🎀, Jam in 🧈 | 1. He **squeezed in** through the half-open door. 🚪🕵️‍♂️<br>2. I **squeezed** the bottle into the already full bag. 🧴👜<br>3. She barely **squeezed in** beside me on the bench. 🪑🤝 |"
   ]
  },
  {
   "cell_type": "markdown",
   "metadata": {},
   "source": [
    "| **📌Meaning + (level, Formality, Slang)** | **📌Synonyms** | **📌3 example sentences** |\n",
    "|---|---|---|\n",
    "| **1. To get involved in a situation to help, stop, or change something.** 🛑🦸 (B2, Neutral, No Slang) | step in 🦶, intercede 🕊️, mediate 🤝, interfere 🙅 | 1. The teacher had to **intervene** to stop the fight. 🧑‍🏫✋<br>2. He **intervened** just in time to prevent disaster. 🕒💥<br>3. Should we **intervene**, or let them solve it themselves? 🤷‍♀️🧩 |\n",
    "| **2. To occur as an interruption between events or periods.** ⏳📉 (C1, Formal, No Slang) | interrupt ⛔, interpose 🧱, insert 📎, break in ⏸️ | 1. A loud noise **intervened** during the ceremony. 🔊👰<br>2. Several weeks **intervened** before we met again. 🗓️🕓<br>3. Nothing should **intervene** with our plans. ✈️📋<br>4. A sudden storm **intervened**, forcing them to cancel the match. 🌩️⚽<br>5. Only a few hours **intervened** between the warning and the disaster. 🚨🌪️<br>6. No major events **intervened** during the peaceful decades. 🕊️📜 |"
   ]
  },
  {
   "cell_type": "markdown",
   "metadata": {},
   "source": [
    "| **📌Meaning + (level, Formality, Slang)** | **📌Synonyms** | **📌3 example sentences** |\n",
    "|---|---|---|\n",
    "| **Secret or hidden, not openly shown or declared.** 🕵️‍♂️🌫️ (C1, Formal, Not slang) | Hidden 🫥, Secret 🤫, Stealthy 🐾, Undercover 🎭 | 1. They carried out a **covert** operation to gather intelligence. 🛰️🔍<br>2. Her **covert** glance told me everything I needed to know. 👀💌<br>3. The agent remained **covert** to avoid detection. 🕶️🛑 |\n",
    "| **Done in a way that is not openly acknowledged or displayed.** 🎩🚫 (C1, Formal, Not slang) | Disguised 🧥, Concealed 🧳, Camouflaged 🌿, Surreptitious 🐍 | 1. He made a **covert** attempt to sabotage the plan. 🧨🕳️<br>2. Their **covert** relationship eventually came to light. 💔👁️<br>3. She offered **covert** support to the resistance group. ✊🕊️ |"
   ]
  },
  {
   "cell_type": "markdown",
   "metadata": {},
   "source": [
    "| **Word** | **Meaning 🤔** | **Main Difference 🔥** |\n",
    "|---|---|---|\n",
    "| **Hidden** 🫥🗝️ | Something that is **placed or kept out of sight**. It’s not visible because it’s *tucked away* or *intentionally obscured*. (Think: Peek-a-boo vibes! 😏) | Super general! 🔄 “Hidden” works for **ANYTHING outta sight**, from your snacks 🍫 to feelings 💔. No special intent, just… not visible. 🕳️ |\n",
    "| **Concealed** 🧳🎩 | Means **intentionally hidden**, often with **purpose or care**—someone doesn’t *want* you to see it! (Think: secret weapons, forbidden letters 🕵️‍♀️📨) | Sounds a bit more **deliberate and crafty** 🧠✨ than “hidden”. You’re **trying to hide it** carefully, like a magician’s trick. 🎩✨ |\n",
    "| **Covert** 🕶️🔒 | **Secret, undercover, and meant to stay unknown**, often for **strategic or sneaky reasons**. (Think: spy ops, double agents, ninja stuff! 🥷) | Way more **formal and mission-style** 😤—used for **plans, operations, or actions**, not just objects. Always has that *stealth mode* energy. 🛰️💣 |"
   ]
  },
  {
   "cell_type": "markdown",
   "metadata": {},
   "source": [
    "| **📌Meaning + (level, Formality, Slang)** | **📌Synonyms** | **📌3 example sentences** |\n",
    "|---|---|---|\n",
    "| **To feel uncertain about something or not trust its truth or reliability.** 🤔🚫 (B2, Neutral, Not slang) | Distrust ❌, Suspect 🕵️, Question ❓, Disbelieve 🧠 | 1. I **doubt** his story actually happened. 🤨📖<br>2. She **doubted** whether she made the right decision. 🛤️😟<br>3. Do you **doubt** my abilities? 💪🔥 |\n",
    "| **To lack confidence in someone or something.** 😕📉 (B2, Neutral, Not slang) | Mistrust 🧪, Be unsure 🌀, Discredit 🚫, Waver 🌫️ | 1. He **doubted** himself before the big game. 🏀💭<br>2. I never **doubted** your loyalty. 🫂✨<br>3. They **doubt** the project's success without more funding. 💸📉 |"
   ]
  },
  {
   "cell_type": "markdown",
   "metadata": {},
   "source": [
    "| **Word** | **Meaning 🤔** (What makes it unique?) | **Meaning Difference 🔥** (How’s it different from the others?) |\n",
    "|---|---|---|\n",
    "| **Doubt** 🤔🚫 | To **feel uncertain about the truth or reliability** of something. It’s all about **mistrust** or **not believing fully**. Think: mental \"Hmm, I don’t buy this...\" 🧠🔍 | **Doubt** lives in your **mind**, questioning stuff like: “Is this real? Will this work? Can I trust this?” It’s deeper and more **skeptical**. 🧪🔬 |\n",
    "| **Hesitate** ⏸️😬 | To **pause or delay before doing something**, usually cuz you're **unsure, scared, or nervous**. Think: physical \"I wanna move but I’m stuck!\" 🐢💥 | **Hesitate** is about **action delay** — you’re standing at the edge ready to jump but your knees are like “nah bro…” 😬🦵💨 Unlike **doubt**, it’s more about reacting or moving, not just thinking. 🕺⏳ |"
   ]
  },
  {
   "cell_type": "markdown",
   "metadata": {},
   "source": [
    "| **Word** | **Meaning 🤔** (What makes it unique?) | **Meaning Difference 🔥** (How’s it different from the others?) |\n",
    "|---|---|---|\n",
    "| **Assume** 💭🔒 | To **accept something as true without proof**, based on your **belief, logic, or experience**. It’s like making a **logical leap** or **presuming** something. 🧠💡 | **Assume** is about **making an educated guess**, usually based on **existing knowledge** or past patterns. It’s more like **a calculated judgment** with some reasoning. 🧩🎯 |\n",
    "| **Guess** 🎲❓ | To **make a prediction or choice** without enough information, often with **uncertainty or randomness**. Think: **total blind shot** or **wild guess**! 😬🤷 | **Guess** is **spontaneous and uncertain**, not grounded in evidence like **assume**. It’s like picking a random card from the deck! 🃏🤔 |"
   ]
  },
  {
   "cell_type": "markdown",
   "metadata": {},
   "source": [
    "| **📌Meaning + (level, Formality, Slang)** | **📌Synonyms** | **📌3 example sentences** |\n",
    "|---|---|---|\n",
    "| **A rope, chain, or strap used to control and guide an animal (usually a dog).** 🐶🔗 (A2, Neutral, Not slang) | Lead 🦴, Tether 🪢, Strap 👜, Restraint 🚫 | 1. Please keep your dog on a **leash** in the park. 🌳🐾<br>2. She grabbed the **leash** before taking her pup for a walk. 🐕🚶‍♀️<br>3. The dog pulled hard on the **leash**, eager to run. 🏃‍♂️🐕 |\n",
    "| **(Figurative) Control or hold back something powerful or wild.** 🧠🕹️ (C1, Formal, Not slang) | Restrain ✋, Suppress 🔒, Control 🧠, Repress 💭 | 1. He struggled to keep his anger on a **leash**. 😤🔗<br>2. The government keeps the media on a short **leash**. 📺✂️<br>3. She barely kept her excitement **leashed** during the surprise. 🎁💓 |"
   ]
  },
  {
   "cell_type": "markdown",
   "metadata": {},
   "source": [
    "| **📌Meaning + (level, Formality, Slang)** | **📌Synonyms** | **📌3 example sentences** |\n",
    "|---|---|---|\n",
    "| **To suddenly release or let something powerful flow freely (like emotion, energy, or force).** 💥🐉 (B2, Neutral, Not slang) | Release 🎇, Let loose 🕊️, Discharge ⚡, Set free 🔓 | 1. The song **unleashed** a wave of emotions in the crowd. 🎶😭<br>2. He **unleashed** his anger after staying silent too long. 😡🔥<br>3. The team **unleashed** their full potential in the final match. ⚽🚀 |\n",
    "| **To free something that was controlled, often with wild or intense effects.** 🧨🦁 (B2, Neutral, Not slang) | Liberate 🗽, Trigger 💣, Activate 🕹️, Unchain ⛓️ | 1. Scientists fear the experiment might **unleash** unknown consequences. 🧪😨<br>2. She **unleashed** her creativity during the project. 🎨✨<br>3. That joke **unleashed** a storm of laughter. 😂🌪️ |"
   ]
  },
  {
   "cell_type": "markdown",
   "metadata": {},
   "source": [
    "| **Word** | **Meaning 🤔** (What makes it unique?) | **Meaning Difference 🔥** (How’s it different from the others?) |\n",
    "|---|---|---|\n",
    "| **Release** 🕊️📤 | To **let something go**, whether it's physical (like a balloon 🎈), emotional (like stress 😮‍💨), or digital (like a new track 🎵). It’s a chill and **controlled** action. 🎛️💆 | **Release** is usually **calm** and **intentional** — like gently setting something free. You’re the chill parent letting the kid go play. 🧘‍♂️✨ Not always dramatic, often peaceful. 🐢🌤️ |\n",
    "| **Unleash** 🔥🐉 | To **set something wild or powerful free**, often suddenly and with intensity. Think: emotion tsunami 🌊, full beast mode 🦁, or chaos drop 🎭💣. | **Unleash** is the **power move** — like letting the wolves out 🐺🐺. It’s high-energy, less chill, more “WHOAAAA it’s happening!!!” ⚡⚔️⚠️ |"
   ]
  },
  {
   "cell_type": "markdown",
   "metadata": {},
   "source": [
    "| **📌Meaning + (level, Formality, Slang)** | **📌Synonyms** | **📌3 example sentences** |\n",
    "|---|---|---|\n",
    "| **To be careful or watchful, especially for danger.** 👀⚠️ (B1, Informal, Not slang) | Watch out 🚨, Be careful 🛑, Stay alert 🔍, Beware 😬 | 1. **Look out!** There’s a car coming! 🚗💨<br>2. Always **look out** for snakes on this trail. 🐍🌲<br>3. You gotta **look out** when crossing the street at night. 🌙🚦 |\n",
    "| **To try to notice or find something (used with ‘for’).** 🔎🧠 (B1, Informal, Not slang) | Keep an eye out 👁️, Search for 🧭, Spot 👀, Scan 🔭 | 1. **Look out for** falling rocks along the path. 🪨🧗‍♀️<br>2. We’re **looking out for** new talent in the community. 🌟🎤<br>3. **Look out for** her at the party—she’s wearing red. 🎈👗 |"
   ]
  },
  {
   "cell_type": "markdown",
   "metadata": {},
   "source": [
    "| **📌Meaning + (level, Formality, Slang)** | **📌Synonyms** | **📌3 example sentences** |\n",
    "|---|---|---|\n",
    "| **To accidentally drop or pour liquid out of a container.** 🧃💦 (A2, Neutral, Not slang) | Slosh 💧, Splash 🌊, Tip over 🫙, Drip 💦 | 1. I **spilled** coffee all over my notes. 📚☕<br>2. Be careful not to **spill** the juice. 🍹🚫<br>3. She **spilled** water on the laptop! 😱💻 |\n",
    "| **(Slang)** To reveal secret or personal info, often unexpectedly. 🗣️🫣 (B2, Informal, Slang) | Confess 😬, Reveal 🕵️, Blurt 🤐, Dish 🥄 | 1. Okay, **spill** the tea—what happened last night? ☕👀<br>2. He accidentally **spilled** the surprise party plans. 🎉🙊<br>3. Don’t **spill** anything until she gets here! 🤫🚪 |"
   ]
  },
  {
   "cell_type": "markdown",
   "metadata": {},
   "source": [
    "| **📌Meaning + (level, Formality, Slang)** | **📌Synonyms** | **📌3 example sentences** |\n",
    "|---|---|---|\n",
    "| **To go back to an earlier point in time, especially in audio, video, or events.** ⏪🕰️ (B1, Neutral, Not slang) | Reverse 🔁, Go back ⬅️, Revisit 🧠, Replay 🎥 | 1. Can we **rewind** the movie? I missed that part. 🎬👂<br>2. She wished she could **rewind** and fix her mistake. 🧍‍♀️💭<br>3. I love to **rewind** old songs and vibe again. 🎶💫 |\n",
    "| **To mentally or emotionally go back to a past moment.** 🧠💭 (B2, Neutral, Not slang) | Reflect 🪞, Recall 🔍, Re-experience 🔄, Flashback 🔦 | 1. His mind **rewound** to that summer night. 🌌😌<br>2. I keep **rewinding** that convo in my head. 😵‍💫📞<br>3. Sometimes I wanna **rewind** to the good old days. 📼🌅 |"
   ]
  },
  {
   "cell_type": "markdown",
   "metadata": {},
   "source": [
    "| **📌Meaning + (level, Formality, Slang)** | **📌Synonyms** | **📌3 example sentences** |\n",
    "|---|---|---|\n",
    "| **To consider or think about someone/something in a particular way.** 🧠👀 (B2, Formal, Not slang) | Consider 🤔, View 🧐, Think of 🧠, See as 👁️ | 1. They **regard** her as a genius. 🧪🌟<br>2. I **regard** honesty as the most important value. 🫱💎<br>3. The film is widely **regarded** as a classic. 🎥🏆 |\n",
    "| **To pay attention to something, especially with respect or seriousness.** ⚠️🧠 (C1, Formal, Not slang) | Heed 🚨, Respect 🙇, Notice 👁️, Acknowledge 📌 | 1. He acted without **regarding** the consequences. 😬⚖️<br>2. She never **regards** my suggestions. 🙄📄<br>3. Please **regard** this as urgent. 🔥📢 |"
   ]
  },
  {
   "cell_type": "markdown",
   "metadata": {},
   "source": [
    "| **📌Meaning + (level, Formality, Slang)** | **📌Synonyms** | **📌3 example sentences** |\n",
    "|---|---|---|\n",
    "| **To breathe in air or another substance into your lungs.** 🌬️💨 (A1, Neutral, Not slang) | Breathe in 🌬️, Suck in 🫁, Inhale deeply 🧘, Gasp for air 😤 | 1. **Inhale** deeply to relax your mind. 🧘‍♂️🌿<br>2. He **inhaled** the fresh air and smiled. 😌🍃<br>3. Don't **inhale** smoke—it's bad for your health! 🚭😷 |\n",
    "| **To take in or absorb something, often figuratively.** 📚👀 (B2, Neutral, Not slang) | Absorb 🧠, Soak up 🧠, Take in 📖, Drink in 🍷 | 1. She **inhaled** the knowledge from the book. 📖💡<br>2. I love to **inhale** the beauty of nature. 🌳🌅<br>3. He **inhales** every word when someone talks about history. 📜💬 |"
   ]
  },
  {
   "cell_type": "markdown",
   "metadata": {},
   "source": [
    "| **Word** | **Meaning 🤔** | **Main Difference 🔥** |\n",
    "|---|---|---|\n",
    "| **Flicker** 🕯️ | A quick, irregular light that shines briefly, like the little wobbles in a candle's flame. 🕯️💨 | **Flicker** is often **irregular**, like a light that's unstable or faint. It’s like when something **barely** catches your attention. 💡 |\n",
    "| **Glimmer** ✨ | A faint or soft light, usually flickering a little but still visible. 🌌🌟 | **Glimmer** is a **gentle, subtle** shine. It's a quiet light, more like a **whisper** than a shout. 🧚‍♂️ |\n",
    "| **Glitter** 💖 | Small, shiny particles that reflect light, often creating a full-on shimmering effect! 💎✨ | **Glitter** is often **sparkly** because of tiny pieces—think: **glimmering in your face**. It's an all-out glow show! 🎆 |\n",
    "| **Twinkle** 🌠 | A **small, quick flash** of light that’s almost like a playful wink—usually refers to stars or lights in the sky. 🌟👀 | **Twinkle** is playful and **quick**, often used for something that feels magical or cute. It's a **little flash of brightness** that **appears and disappears** fast! 🌟🎇 |\n",
    "| **Sparkle** ✨ | A bright, continuous, and noticeable shining effect that **catches your attention**—like diamonds or the sun on water! 💎🌞 | **Sparkle** is a consistent, **radiant glow** that can fill a space. It’s the **full-on bling**, whereas the others tend to be more subtle. ✨🔥 |\n",
    "| **Radiate** 🌞 | To **emit** light or energy in all directions, often with intensity. **Full-on glowing** like the sun! 🌈💥 | **Radiate** is the most **intense**, giving off a **steady**, bright, and **powerful** light. It's not just about **flickering** but **spreading** light all over! 🌟⚡ |\n",
    "| **Gleam** 💫 | A **soft, steady glow or shine**, often reflecting off something clean or smooth—like a shiny car or spark in someone's eyes. 🚗👀 | **Gleam** is **clean, sleek, and smooth**—less sparkly than glitter, more **polished** and refined, like a cool **glow-up moment**. 💅✨ |\n",
    "| **Shimmer** 🌟 | A **soft, wavering light** that moves or changes—often used for water or objects with a reflective surface. 🌊💫 | **Shimmer** is **subtle, fluctuating** light—think of it like a gentle **undulating glow**, more like the light playing on a surface rather than coming from a single point. 🌞🌈 |"
   ]
  },
  {
   "cell_type": "markdown",
   "metadata": {},
   "source": [
    "| **📌Meaning + (level, Formality, Slang)** | **📌Synonyms** | **📌3 example sentences** |\n",
    "|---|---|---|\n",
    "| **To wave or flap quickly and lightly, like a bird's wings or a flag.** 🦋🌬️ (B2, Neutral, Not slang) | Flap 🦅, Wave 👋, Flicker 🔥, Tremble 💨 | 1. The butterfly **fluttered** its wings before flying away. 🦋🌸<br>2. She felt her heart **flutter** when he walked in. 💓👀<br>3. The flag **fluttered** in the wind. 🌬️🇺🇸 |\n",
    "| **To move or behave in a nervous or excited way.** 😬💖 (B2, Neutral, Not slang) | Fidget 👐, Tremble 🤭, Quiver 😳, Flicker 🕯️ | 1. I could feel my stomach **flutter** with excitement before the concert. 🎤🎶<br>2. His hands **fluttered** nervously during the interview. 🧠🖋️<br>3. She had a **fluttering** feeling in her chest when he smiled. 😍🔥 |"
   ]
  },
  {
   "cell_type": "markdown",
   "metadata": {},
   "source": [
    "| **📌Meaning + (level, Formality, Slang)** | **📌Synonyms** | **📌3 example sentences** |\n",
    "|---|---|---|\n",
    "| **To move your head up and down, <br> usually to show agreement, approval, <br> or acknowledgment.** 👇👍 (A2, Neutral, Not slang) | Acknowledge 👋, Agree ✅, Approve 👍, Bow 🦸 | 1. He **nodded** in agreement when she asked if they should go. ✅💬<br>2. She **nodded** to show she understood the instructions. 🧠🔄<br>3. I **nodded** as he spoke, showing that I was paying attention. 👂💭 |\n",
    "| **To move your head in a slight way, <br> often as a greeting or sign of respect.** 🙏👀 (B2, Neutral, Not slang) | Bow 🙇‍♀️, Acknowledge 👁️, Tip head 🎩, Incline 🧠 | 1. He **nodded** to the crowd as he entered the room. 🎤🌟<br>2. She **nodded** her head when they passed each other in the hall. 🚶‍♀️👋<br>3. The teacher **nodded** at the student to encourage them to answer. 🍎📚 |"
   ]
  },
  {
   "cell_type": "markdown",
   "metadata": {},
   "source": [
    "| **📌Meaning + (level, Formality, Slang)** | **📌Synonyms** | **📌3 example sentences** |\n",
    "|---|---|---|\n",
    "| **To speak in a rough, raspy, or strained voice,<br> often due to a sore throat or tiredness.**<br> 😷🎤 (C1, Neutral, Not slang) | Raspy 🥴, Gravelly 🌑, Rough 🏞️, Hoarse 🗣️ | 1. He spoke **hoarsely** after shouting at the concert all night. 🎤💥<br>2. She tried to whisper, but her voice came out **hoarsely**. 😬👂<br>3. The coach **hoarsely** gave directions to the team. 🏀💨 |"
   ]
  },
  {
   "cell_type": "markdown",
   "metadata": {},
   "source": [
    "| **📌Meaning + (level, Formality, Slang)** | **📌Synonyms** | **📌3 example sentences** |\n",
    "|---|---|---|\n",
    "| **To do something in the opposite order or direction.** 🔄↩️ (B2, Neutral, Not slang) | Reversed 🔄, Switched ↔️, Inverted 🔄, Opposite way 🔁 | 1. He meant to turn left, but he went **the other way around**. 🚗⬅️<br>2. I thought the instructions were for the front door, but they were for the back—**the other way around**. 🚪🔄<br>3. She placed the book **the other way around**, so the cover was upside down. 📚❌ |"
   ]
  },
  {
   "cell_type": "markdown",
   "metadata": {},
   "source": [
    "| **📌Meaning + (level, Formality, Slang)** | **📌Synonyms** | **📌3 example sentences** |\n",
    "|---|---|---|\n",
    "| **To look like or be similar to someone <br> or something in appearance, character, or qualities.**<br> 🔍👀 (B2, Neutral, Not slang) | Mirror 🪞, Look like 👯, Take after 🧬, Be similar to 🧑‍🤝‍🧑 | 1. She **resembles** her mother in both appearance and personality. 👩‍👧💖<br>2. The two paintings **resembled** each other, both showing a similar landscape. 🖼️🌄<br>3. He **resembles** a famous actor, which always gets him noticed! 🎬👀 |"
   ]
  },
  {
   "cell_type": "markdown",
   "metadata": {},
   "source": [
    "| **📌Meaning + (level, Formality, Slang)** | **📌Synonyms** | **📌3 example sentences** |\n",
    "|---|---|---|\n",
    "| **To decrease in level, intensity, or amount.** ⬇️📉 (A2, Neutral, Not slang) | Drop ⬇️, Decline 📉, Lower 🔽, Reduce 🔻 | 1. The temperature **went down** rapidly as the sun set. 🌅❄️<br>2. Sales **went down** after the holidays. 📉💸<br>3. His energy **went down** after the long run. 🏃‍♂️💤 |\n",
    "| **To move or travel from a higher position to a lower one.** ⬇️🏞️ (A2, Neutral, Not slang) | Descend ⬇️, Drop 🏞️, Fall 🏃, Sink 🏊‍♂️ | 1. We **went down** the stairs to the basement. 🏠⛪<br>2. The boat **went down** the river smoothly. 🚣‍♀️🌊<br>3. She **went down** to the store for some snacks. 🏪🍫 | \n",
    "| **To be accepted, received, or remembered in a particular way.** 🧠👀 (C1, Neutral, Not slang) | Be remembered 🧠, Be received 📩, Be perceived 👀, Be taken 🧩 | 1. His speech **went down** well with the audience. 🎤👏<br>2. The surprise announcement **went down** as a huge success. 🎉🚀<br>3. The news **went down** like a bomb at the meeting. 💣⚡ |"
   ]
  },
  {
   "cell_type": "markdown",
   "metadata": {},
   "source": [
    "| **📌Meaning + (level, Formality, Slang)** | **📌Synonyms** | **📌3 example sentences** |\n",
    "|---|---|---|\n",
    "| **To come out or appear from a hidden or unknown place.** 🌅🕵️ (B2, Neutral, Not slang) | Appear 🌟, Surface 🌊, Show up 👀, Come out 🏁 | 1. The sun **emerged** from behind the clouds. 🌞☁️<br>2. She **emerged** from the dark alley and into the light. 🌆💡<br>3. New evidence **emerged** during the investigation. 🕵️‍♂️🔎 |\n",
    "| **To become known or important after being hidden or unknown.** 🌍✨ (C1, Neutral, Not slang) | Rise up 🔥, Surface 💥, Come to light 🌟, Appear 💡 | 1. A new leader **emerged** to guide the group through the crisis. 🌱🌍<br>2. The truth finally **emerged** after years of silence. 🤐💬<br>3. Technology **emerged** as a driving force in the global economy. 💻📈 |"
   ]
  },
  {
   "cell_type": "markdown",
   "metadata": {},
   "source": [
    "| **📌Meaning + (level, Formality, Slang)** | **📌Synonyms** | **📌3 example sentences** |\n",
    "|---|---|---|\n",
    "| **To arrive or appear at a place.** 🚶‍♂️📍 (A2, Neutral, Not slang) | Arrive 🚗, Turn up 🔥, Appear 👀, Come 💨 | 1. He **showed up** late to the party, but it was still fun! 🎉🕺<br>2. She **showed up** at the meeting just in time. ⏰💼<br>3. We didn’t expect him to **show up** at the concert! 🎶🙌 |\n",
    "| **To be visible or noticeable in a particular situation.** 👀✨ (B2, Neutral, Not slang) | Appear 🧚‍♂️, Surface 🌊, Emerge 🌱, Come forward 🏃 | 1. The truth **showed up** after a long investigation. 🔍💡<br>2. The answer finally **showed up** in the last chapter of the book. 📚🔑<br>3. When the challenge was tough, his true skills **showed up**. 🏅🔥 |"
   ]
  },
  {
   "cell_type": "markdown",
   "metadata": {},
   "source": [
    "| **Word** | **Meaning 🤔** | **Main Difference 🔥** |\n",
    "|---|---|---|\n",
    "| **Appear** 👀 | To come into view, to become visible or noticeable. Usually a **neutral** way of saying something **shows itself**. 🌅 | **Appear** is the **general word** for anything becoming visible. It’s like the **basic** level of things showing themselves. 💥 |\n",
    "| **Emerge** 🌱 | To **come out** of something hidden or unknown, often after a period of obscurity. **A process of becoming visible**. 🕵️ | **Emerge** has that **dramatic feel**—it's not just about showing up, but coming out **after being hidden** or **starting to rise**. Think: **\"I was in the shadows, and now I’m out!\"** 🔥 |\n",
    "| **Show up** 🚶‍♂️ | To **arrive** or **appear** at a place, typically used in the context of events, gatherings, or meetings. ✨ | **Show up** is **arriving at a location**—like when you're expected somewhere! It's less about the **mystery** and more about **timing** or **presence**. 💥 |"
   ]
  },
  {
   "cell_type": "markdown",
   "metadata": {},
   "source": [
    "| **📌Meaning + (level, Formality, Slang)** | **📌Synonyms** | **📌3 example sentences** |\n",
    "|---|---|---|\n",
    "| **To treat or eliminate an illness or condition, restoring health.** 💊🌿 (B2, Neutral, Not slang) | Heal 🌱, Remedy 💉, Treat 🩺, Restore 🌟 | 1. The doctor prescribed medicine to **cure** my cold. 🤧💊<br>2. The treatment helped to **cure** the disease completely. 🏥🩹<br>3. She was hoping to **cure** her headache with some rest and water. 💦😌 |\n",
    "| **To improve or fix a problem or situation.**<br> 🛠️🔧 (C1, Neutral, Not slang) | Fix 🛠️, Solve 🔍, Resolve ⚡, Address 🔄 | 1. The new policy is designed to **cure** the traffic congestion in the city. 🚗🚦<br>2. They came up with a solution to **cure** the environmental issues. 🌍💡<br>3. The company is working hard to **cure** the issue with their product. 🔧💼 |"
   ]
  },
  {
   "cell_type": "markdown",
   "metadata": {},
   "source": [
    "| **📌Meaning + (level, Formality, Slang)** | **📌Synonyms** | **📌3 example sentences** |\n",
    "|---|---|---|\n",
    "| **To succeed in doing something difficult or unexpected.** <br>🎯💥 (B2, Neutral, Not slang) | Achieve 🏆, Accomplish 🎯, Manage 💪, Succeed 🌟 | 1. She **pulled off** an amazing performance at the talent show. 🎤🔥<br>2. They managed to **pull off** the heist without anyone noticing! 🕵️‍♂️💎<br>3. I can't believe we **pulled off** such an incredible surprise party. 🎉🎂 |\n",
    "| **To remove something, usually with effort.**<br> ✨🧹 (B2, Neutral, Not slang) | Take off 🚀, Remove 🧼, Strip off 🔥, Detach 🔧 | 1. He **pulled off** his jacket as he entered the room. 🧥🚶‍♂️<br>2. She **pulled off** her shoes after a long day. 👠🦶<br>3. I couldn't get the sticker to **pull off** without tearing. 🏷️💔 |"
   ]
  },
  {
   "cell_type": "markdown",
   "metadata": {},
   "source": [
    "| **📌Meaning + (level, Formality, Slang)** | **📌Synonyms** | **📌3 example sentences** |\n",
    "|---|---|---|\n",
    "| **Making a series of short, sharp sounds, like something being broken or burning.** 🔥💥 (B2, Neutral, Not slang) | Popping 💥, Rustling 🌿, Hissing 🌬️, Snapping 🦵 | 1. The fire was **crackling** in the fireplace, creating a cozy atmosphere. 🔥🏠<br>2. The sound of **crackling** leaves underfoot was so satisfying during the autumn walk. 🍂🍁<br>3. He heard a **crackling** noise coming from the old radio. 📻✨ |\n",
    "| **Having a rough, crisp texture or quality.** 🧀🦻 (C1, Neutral, Not slang) | Crispy 🍟, Crunchy 🍿, Brittle 🥨, Crunchy 🥕 | 1. The chips were so **crackling** and fresh, they were irresistible! 🥔🍽️<br>2. I love the **crackling** sound when biting into a caramelized crust. 🍮🍬<br>3. The **crackling** texture of the fabric made it sound ancient. 🧵👗 |"
   ]
  },
  {
   "cell_type": "markdown",
   "metadata": {},
   "source": [
    "| **📌Meaning + (level, Formality, Slang)** | **📌Synonyms** | **📌3 example sentences** |\n",
    "|---|---|---|\n",
    "| **To tremble or shake suddenly, often from fear, cold, or disgust.** ❄️😨 (B2, Neutral, Not slang) | Shiver 🌬️, Quiver 🍂, Tremble 🌪️, Flutter 🦋 | 1. She **shuddered** at the thought of walking alone in the dark. 🌙👻<br>2. I felt a **shudder** down my spine when the music suddenly changed. 🎶😱<br>3. The cold wind made him **shudder** as he stepped outside. 🧥❄️ |\n",
    "| **To react with a feeling of discomfort or repulsion.** 🤢😖 (C1, Neutral, Not slang) | Cringe 😬, Winch 😣, Shrink 😧, Recoil 💥 | 1. He **shuddered** at the thought of eating raw meat. 🍖😷<br>2. She **shuddered** when she saw the horror movie trailer. 🎥💀<br>3. I **shuddered** at the idea of being trapped in an elevator. 🏢🚪 |"
   ]
  },
  {
   "cell_type": "markdown",
   "metadata": {},
   "source": [
    "| **📌Meaning + (level, Formality, Slang)** | **📌Synonyms** | **📌3 example sentences** |\n",
    "|---|---|---|\n",
    "| **To make a low, continuous sound, often like thunder or a distant noise.** 🌩️🔊 (B2, Neutral, Not slang) | Growl 🐾, Roar 🦁, Thunder 🌩️, Boom 💥 | 1. The storm was approaching, and we could hear the thunder **rumbling** in the distance. ⚡🌧️<br>2. His stomach **rumbled** after not eating all day. 🍔😅<br>3. The train's engines **rumbled** as it passed by the station. 🚂💨 |\n",
    "| **To move with a low, deep, rolling sound or vibration.** 🚗🔊 (C1, Neutral, Not slang) | Roll 🌍, Rattle 🚗, Vibrate 🔋, Reverberate 🌌 | 1. The car's engine **rumbled** as it started up. 🚘🔊<br>2. The motorcycle **rumbled** down the street, drawing attention. 🏍️💨<br>3. The floor **rumbled** beneath them as the earthquake started. 🌍🌪️ |\n",
    "| **To express dissatisfaction or complaint in a low, continuous manner.** 😤🔊 (C1, Neutral, Not slang) | Grumble 😡, Murmur 🗣️, Complain 📢, Moan 😩 | 1. The workers **rumbled** about the poor working conditions. 🛠️💬<br>2. He **rumbled** under his breath about the unfair treatment. 😠👀<br>3. She **rumbled** in frustration as she looked for her lost keys. 🔑🙄 |"
   ]
  },
  {
   "cell_type": "markdown",
   "metadata": {},
   "source": [
    "| **📌Meaning + (level, Formality, Slang)** | **📌Synonyms** | **📌3 example sentences** |\n",
    "|---|---|---|\n",
    "| **In addition to; apart from.** ➕ (B2, Neutral, Not slang) | Furthermore 💬, Moreover 📢, Besides that 📝, Also ➕ | 1. **Besides** playing guitar, she also loves to sing. 🎸🎤<br>2. There are many activities to do in the park, **besides** walking trails, like biking and kayaking. 🚶‍♂️🚲<br>3. **Besides** the obvious reasons, we should also consider the environmental impact. 🌍💚 |\n",
    "| **Except for; excluding.** ❌ (C1, Neutral, Not slang) | Except 👀, Other than 🚫, Aside from 🌟, But 🛑 | 1. **Besides** her, everyone else in the class passed the exam. 🎓📚<br>2. **Besides** the weather, the trip was perfect. 🌧️✈️<br>3. **Besides** the occasional mistake, his performance was flawless. 🎤👌 |"
   ]
  },
  {
   "cell_type": "markdown",
   "metadata": {},
   "source": [
    "| **📌Meaning + (level, Formality, Slang)** | **📌Synonyms** | **📌3 example sentences** |\n",
    "|---|---|---|\n",
    "| **To leave or depart quickly, especially in a vehicle or plane.** ✈️🚗 (A2, Neutral, Not slang) | Leave 🏃‍♂️, Depart 🚀, Fly away 🕊️, Take flight 🛫 | 1. The plane **took off** from the runway right on time. 🛫⏰<br>2. The car **took off** so fast, I could barely keep up! 🚗💨<br>3. The helicopter **took off** from the rooftop and disappeared into the sky. 🚁🌤️ |\n",
    "| **To become successful or popular quickly.** 🚀💥 (B2, Neutral, Not slang) | Boom 💥, Explode 💥, Surge ⚡, Skyrocket 📈 | 1. The new app **took off** within days of its release. 📱💡<br>2. Her career **took off** after she won the competition. 🏆✨<br>3. The band's new song **took off** and became an instant hit. 🎶🔥 |\n",
    "| **To remove something quickly, like clothes or an object.** 🧥👚 (A2, Neutral, Not slang) | Take off 🧳, Strip off 🔥, Remove 🧼, Peel off 🧣 | 1. He **took off** his jacket when he entered the warm room. 🧥🔥<br>2. She **took off** her shoes as soon as she walked in the door. 👠🚪<br>3. I **took off** my glasses to get a better look at the picture. 👓👀 |"
   ]
  },
  {
   "cell_type": "markdown",
   "metadata": {},
   "source": [
    "| **📌Meaning + (level, Formality, Slang)** | **📌Synonyms** | **📌3 example sentences** |\n",
    "|---|---|---|\n",
    "| **Without any mistakes or imperfections; perfect.** 🌟✨ (C1, Neutral, Not slang) | Perfect 🌟, Impeccable 🌈, Spotless 🧼, Unblemished 💎 | 1. Her performance was **flawless**, earning her a standing ovation. 👏🎤<br>2. The diamond was **flawless**, with no visible imperfections. 💎✨<br>3. The chef's dish was **flawless**, with every element cooked to perfection. 🍽️🔥 |\n",
    "| **Having no visible flaws or damages.** 💎🧼 (B2, Neutral, Not slang) | Clean 🧽, Pristine 🏝️, Untouched 🌿, Clear 👀 | 1. The car was in **flawless** condition, looking brand new. 🚗✨<br>2. The white walls were **flawless**, with no stains or marks. 🖼️🎨<br>3. His skin was **flawless**, glowing with health. 🧴💖 |"
   ]
  },
  {
   "cell_type": "markdown",
   "metadata": {},
   "source": [
    "| **📌Meaning + (level, Formality, Slang)** | **📌Synonyms** | **📌3 example sentences** |\n",
    "|---|---|---|\n",
    "| **To say something as a comment or observation.** 💬🔍 (B2, Neutral, Not slang) | Comment 📝, Mention 🗣️, State 🗯️, Observe 👀 | 1. He **remarked** on how beautiful the sunset looked. 🌅✨<br>2. She **remarked** that the meeting was running late. ⏰🗣️<br>3. They **remarked** that the food was delicious and well-presented. 🍽️👌 |\n",
    "| **A statement or comment made about something.** 📣 (B2, Neutral, Not slang) | Observation 👀, Note 📝, Statement 🗣️, Comment 🖋️ | 1. The professor made an interesting **remark** about the evolution of technology. 📚💡<br>2. His **remark** about the weather made everyone laugh. 🌞😂<br>3. The guest made a **remark** about the venue being much smaller than expected. 🏢🤔 |\n",
    "| **To notice or pay attention to something.** 👀✨ (C1, Neutral, Not slang) | Observe 👀, Notice 🔍, Perceive 🧠, Detect 🕵️‍♂️ | 1. She **remarked** that the painting looked different in the new light. 🎨💡<br>2. I **remarked** how quickly he had solved the problem. 🧑‍💻💡<br>3. He **remarked** on the quietness of the street at night. 🌙🛣️ |"
   ]
  },
  {
   "cell_type": "markdown",
   "metadata": {},
   "source": [
    "| **📌Meaning + (level, Formality, Slang)** | **📌Synonyms** | **📌3 example sentences** |\n",
    "|---|---|---|\n",
    "| **To fill something tightly or to put something inside something else.** 🧳💼 (A2, Neutral, Not slang) | Pack 🧳, Fill 🔲, Cram 🏋️‍♂️, Load 🚗 | 1. She **stuffed** her clothes into the suitcase until it barely closed. 🧳👚<br>2. He **stuffed** the envelope with cash before mailing it. 💌💸<br>3. I had to **stuff** all the books into my backpack for the trip. 📚🎒 |"
   ]
  },
  {
   "cell_type": "markdown",
   "metadata": {},
   "source": [
    "| **📌Meaning + (level, Formality, Slang)** | **📌Synonyms** | **📌3 example sentences** |\n",
    "|---|---|---|\n",
    "| **To leave or depart quickly, especially in a vehicle or plane.** ✈️🚗 (A2, Neutral, Not slang) | Leave 🏃‍♂️, Depart 🚀, Fly away 🕊️, Take flight 🛫 | 1. The plane **took off** from the runway right on time. 🛫⏰<br>2. The car **took off** so fast, I could barely keep up! 🚗💨<br>3. The helicopter **took off** from the rooftop and disappeared into the sky. 🚁🌤️ |\n",
    "| **To become successful or popular quickly.** 🚀💥 (B2, Neutral, Not slang) | Boom 💥, Explode 💥, Surge ⚡, Skyrocket 📈 | 1. The new app **took off** within days of its release. 📱💡<br>2. Her career **took off** after she won the competition. 🏆✨<br>3. The band's new song **took off** and became an instant hit. 🎶🔥 |\n",
    "| **To remove something quickly, like clothes or an object.** 🧥👚 (A2, Neutral, Not slang) | Take off 🧳, Strip off 🔥, Remove 🧼, Peel off 🧣 | 1. He **took off** his jacket when he entered the warm room. 🧥🔥<br>2. She **took off** her shoes as soon as she walked in the door. 👠🚪<br>3. I **took off** my glasses to get a better look at the picture. 👓👀 |"
   ]
  },
  {
   "cell_type": "markdown",
   "metadata": {},
   "source": [
    "| **Word** | **Meaning 🤔** (What makes it unique?) | **Meaning Difference 🔥** (How’s it different from the others?) |\n",
    "| --- | --- | --- |\n",
    "| **Fog** 🌫️ | A thick **cloud** of water droplets suspended in the air, **reducing visibility**. 😳❄️ It forms when the air near the ground cools and condenses. 🌬️💧 **(Think: Thick, low-lying clouds!)** 🌫️ | **Fog** is **heavier** than mist and **seriously reduces visibility** (sometimes less than 1km). 🚗❗️ It’s like a blanket that wraps everything in a hazy mystery. 👀🌙 |\n",
    "| **Mist** 💨 | A thin, light **cloud** of water droplets in the air that **reduces visibility slightly**. 🌸✨ It's usually less intense and doesn’t affect visibility as much as fog. 🌿💦 **(Think: Gentle, almost like steam!)** 🍃💭 | **Mist** is **lighter**, and while it can reduce visibility, it’s not as **dense** or **intense** as fog. 🌦️💧 It's like the soft, magical veil in the morning. 🌞💖 |"
   ]
  },
  {
   "cell_type": "markdown",
   "metadata": {},
   "source": [
    "| **📌Meaning + (level, Formality, Slang)** | **📌Synonyms** | **📌3 example sentences** |\n",
    "|---|---|---|\n",
    "| **To speak softly or quietly, often expressing something in a low voice.** 🗣️💬 (B2, Neutral, Not slang) | Whisper 🫣, Murmur 🧘‍♂️, Mutter 🤫, Hum 🎶 | 1. She **murmured** a gentle greeting as she entered the room. 👋💭<br>2. He **murmured** his apologies, barely audible. 😔🗣️<br>3. The crowd **murmured** with excitement as the concert began. 🎤🎶 |"
   ]
  },
  {
   "cell_type": "markdown",
   "metadata": {},
   "source": [
    "| **📌Meaning + (level, Formality, Slang)** | **📌Synonyms** | **📌3 example sentences** |\n",
    "|---|---|---|\n",
    "| **To speak in a low, indistinct way, often expressing dissatisfaction or annoyance.** 😤💬 (B2, Neutral, Not slang) | Grumble 🐸, Murmur 🤫, Whine 🐾, Complain 🗣️ | 1. He **muttered** something under his breath when he didn’t get his way. 😒🤐<br>2. She **muttered** a few words of frustration as she walked away. 😤👣<br>3. The students **muttered** about the difficult test. 📝😬 |"
   ]
  },
  {
   "cell_type": "markdown",
   "metadata": {},
   "source": [
    "| **📌Meaning + (level, Formality, Slang)** | **📌Synonyms** | **📌3 example sentences** |\n",
    "|---|---|---|\n",
    "| **To complain or express dissatisfaction, often in a low, muttered way.** 😤💬 (B2, Neutral, Not slang) | Complain 🗣️, Whine 🐾, Murmur 🤫, Protest ✊ | 1. He began to **grumble** about the poor service at the restaurant. 🍽️😒<br>2. She couldn’t stop **grumbling** about the weather. 🌧️🌥️<br>3. They **grumbled** when they had to wait in line for hours. ⏳😞 |"
   ]
  },
  {
   "cell_type": "markdown",
   "metadata": {},
   "source": [
    "| **Word** | **Meaning 🤔** | **Main Difference 🔥** |\n",
    "|---|---|---|\n",
    "| **Mutter** 🤫 | To speak in a **low, unclear voice**, often with **discontent** or while **complaining quietly**. 🗣️ | **Mutter** is usually a **soft, indistinct sound**, often conveying **displeasure** or **annoyance**, and it’s typically **hard to hear**. 😒 |\n",
    "| **Murmur** 🧘‍♂️ | To speak **softly** or in a **gentle tone**, often **in a peaceful or affectionate way**. 💖 | **Murmur** has a **softer**, more **calm** connotation, like **whispering sweet things**. It’s often **soothing**. 🌸 |\n",
    "| **Grumble** 🐸 | To **complain or mutter** in a **low, rumbling voice**, often with **discontent or dissatisfaction**. 😤 | **Grumble** is usually **louder** and more **expressive of frustration** than murmuring, like when someone’s **fed up** and not afraid to show it. 🎯 |"
   ]
  },
  {
   "cell_type": "markdown",
   "metadata": {},
   "source": [
    "| **📌Meaning + (level, Formality, Slang)** | **📌Synonyms** | **📌3 example sentences** |\n",
    "|---|---|---|\n",
    "| **To make a low, sound of discomfort, pain, or pleasure.** 😩💬 (B2, Neutral, Not slang) | Groan 😖, Whine 🐾, Complain 🗣️, Murmur 🤫 | 1. She let out a loud **moan** after hitting her foot on the table. 😖👣<br>2. He **moaned** in frustration when he lost the game. 🎮😩<br>3. The tired workers **moaned** about the long hours. ⏰😔 |"
   ]
  },
  {
   "cell_type": "markdown",
   "metadata": {},
   "source": [
    "| **📌Meaning + (level, Formality, Slang)** | **📌Synonyms** | **📌3 example sentences** |\n",
    "|---|---|---|\n",
    "| **To complain or express discomfort in a high-pitched, petulant way.** 😩💬 <br>(B2, Neutral, Not slang) | Complain 🗣️, Moan 😖, Grumble 🐸, Whinge 🐾 | 1. The dog started to **whine** when it saw its leash. 🐕🚶‍♀️<br>2. He began to **whine** about the long wait at the airport. ✈️😤<br>3. She always **whines** when things don’t go her way. 😩💭 |"
   ]
  },
  {
   "cell_type": "markdown",
   "metadata": {},
   "source": [
    "| **📌Meaning + (level, Formality, Slang)** | **📌Synonyms** | **📌3 example sentences** |\n",
    "|---|---|---|\n",
    "| **To make a loud, prolonged sound of pain, <br>grief, or anger, often in a high-pitched tone.** 🐺😱<br> (B2, Neutral, Not slang) | Yell 📢, Scream 😱, Shout 🗣️, Roar 🦁 | 1. The wolf **howled** at the full moon, its voice echoing through the night. 🌕🐺<br>2. He **howled** in frustration when he lost the game. 🎮😤<br>3. The wind **howled** through the trees during the storm. 🌬️🌲 |"
   ]
  },
  {
   "cell_type": "markdown",
   "metadata": {},
   "source": [
    "| **📌Meaning + (level, Formality, Slang)** | **📌Synonyms** | **📌3 example sentences** |\n",
    "|---|---|---|\n",
    "| **To let out a long breath, often expressing frustration, relief, or sadness.** <br> 😔💨 (B2, Neutral, Not slang) | Exhale 💨, Groan 😩, Grumble 🤫, Moan 😓 | 1. She **sighed** deeply after hearing the bad news. 😔💔<br>2. He **sighed** in relief when the test was over. 📝💆‍♂️<br>3. I could hear him **sighing** as he thought about the long day ahead. 🌅😩 |\n",
    "| **To express disappointment or sadness in a vocal or physical way.** <br>😞💭 (B2, Neutral, Not slang) | Resign 😞, Reluctant exhale 💔, Express sadness 💧 | 1. He **sighed** when he realized he had missed the bus again. 🚌😔<br>2. She **sighed** at the thought of returning to work on Monday. 🖥️💼<br>3. I could hear her **sighing** as she thought about the missed opportunity. 😓🎯 |"
   ]
  },
  {
   "cell_type": "markdown",
   "metadata": {},
   "source": [
    "| **📌Meaning + (level, Formality, Slang)** | **📌Synonyms** | **📌3 example sentences** |\n",
    "|---|---|---|\n",
    "| **To expel air from your lungs with <br> a sudden, sharp sound, often <br> to clear your throat or because<br> of illness.**<br> 🤧💨 (A2, Neutral, Not slang) | Hack 🤒, Clear your throat 😤, Wheeze 😷, Choke 😩 | 1. He **coughed** loudly after inhaling some dust. 🌫️😷<br>2. She had to **cough** because of the dry air in the room. 🌬️💨<br>3. The child **coughed** throughout the night, waking up his parents. 🛏️😞 | \n",
    "| **To cause a fit of coughing.** 💨 (B2, Neutral, Not slang) | Cough out 😵, Hack up 🤧, Choke out 🥵 | 1. The cold air made him **cough** uncontrollably. 🥶💨<br>2. He **coughed** so hard, he almost lost his breath. 😣💨<br>3. I could hear her **coughing** in the other room, it sounded awful! 😷💔 |"
   ]
  },
  {
   "cell_type": "markdown",
   "metadata": {},
   "source": [
    "| **📌Meaning + (level, Formality, Slang)** | **📌Synonyms** | **📌3 example sentences** |\n",
    "|---|---|---|\n",
    "| **To have difficulty breathing, usually due to a blockage in the throat.** 😤🚫 (B2, Neutral, Not slang) | Gag 🤮, Suffocate 🌬️, Strangle 🚨, Stifle 🛑 | 1. He started to **choke** on his food and had to be helped. 🍔😱<br>2. She **choked** when she accidentally swallowed wrong. 🥤😣<br>3. The smoke made me **choke**, and I had to leave the room. 💨🚪 |"
   ]
  },
  {
   "cell_type": "markdown",
   "metadata": {},
   "source": [
    "| **📌Meaning + (level, Formality, Slang)** | **📌Synonyms** | **📌3 example sentences** |\n",
    "|---|---|---|\n",
    "| **To cause someone to stop breathing or to have difficulty breathing, usually by blocking airflow.** 🌬️🚫 (C1, Neutral, Not slang) | Smother 🛑, Asphyxiate 💀, Strangle ⚠️, Choke 😤 | 1. The thick smoke made it hard to breathe, and I felt like I was going to **suffocate**. 💨😵<br>2. He almost **suffocated** from the heat during the summer hike. 🥵🏞️<br>3. Don't let the plastic bag **suffocate** the kitten! 🐱❌ |"
   ]
  },
  {
   "cell_type": "markdown",
   "metadata": {},
   "source": [
    "| **📌Meaning + (level, Formality, Slang)** | **📌Synonyms** | **📌3 example sentences** |\n",
    "|---|---|---|\n",
    "| **To choke or constrict someone’s neck, usually with force, to stop them from breathing.** 😮‍💨🔒 (C1, Neutral, Not slang) | Choke 😤, Throttle 🖤, Strangulate 💀, Squeeze 🤲 | 1. The villain tried to **strangle** the hero, but they escaped just in time! 💥🦸<br>2. She **strangled** the flower’s stem so tightly it wilted instantly. 🌸🔪<br>3. The tight collar felt like it was going to **strangle** me. 👚😖 |"
   ]
  },
  {
   "cell_type": "code",
   "execution_count": null,
   "metadata": {},
   "outputs": [],
   "source": []
  },
  {
   "cell_type": "code",
   "execution_count": null,
   "metadata": {},
   "outputs": [],
   "source": []
  },
  {
   "cell_type": "markdown",
   "metadata": {},
   "source": [
    "| **📌Meaning + (level, Formality, Slang)** | **📌Synonyms** | **📌3 example sentences** |\n",
    "|---|---|---|\n",
    "| **To force someone or something<br> to leave a place or position.** 🦵🚪<br> (B2, Neutral, Not slang) | Expel ❌, Remove 🧼, Kick out 👢, Throw out 🗑️ | 1. The bouncer **ejected** the rude guest from the club. 🕺🚫<br>2. The referee **ejected** the player for aggressive behavior. ⚽🔴<br>3. Anyone caught stealing will be immediately **ejected**. 🚨🛒❗ |\n",
    "| **To release something, <br>especially from a machine or container.** 📤💿<br> (B1, Neutral, Not slang) | Release 🎯, Emit 💨, Discharge 🧯, Pop out 🎉 | 1. Please **eject** the USB drive safely. 💻🔌<br>2. The CD **ejected** from the player with a click. 💿🎵<br>3. The pilot had to **eject** from the aircraft during the emergency. ✈️💥🪂 |"
   ]
  },
  {
   "cell_type": "markdown",
   "metadata": {},
   "source": [
    "| **📌Meaning + (level, Formality, Slang)** | **📌Synonyms** | **📌3 example sentences** |\n",
    "|---|---|---|\n",
    "| **To send out light, sound, gas, heat,<br> or another form of energy.** 💡🔊💨 <br>(B2, Neutral, Not slang) | Release 🔓, Radiate 🌟, Discharge ⚡, Give off 🌬️ | 1. The lamp **emits** a soft glow in the evening. 🛋️✨<br>2. Volcanoes can **emit** dangerous gases. 🌋☠️<br>3. The machine **emitted** a loud buzzing noise. 🧃🔊 |\n",
    "| **To express or produce a reaction or sound.** 🗣️😮 <br>(C1, Formal, Not slang) | Utter 💬, Voice 🎙️, Produce 🎶, Deliver 📢 | 1. He **emitted** a sigh of frustration. 😤💨<br>2. She **emitted** a tiny giggle after the joke. 😆🌸<br>3. The baby **emitted** a high-pitched cry. 👶🔊 |"
   ]
  },
  {
   "cell_type": "markdown",
   "metadata": {},
   "source": [
    "| **📌Meaning + (level, Formality, Slang)** | **📌Synonyms** | **📌3 example sentences** |\n",
    "|---|---|---|\n",
    "| **To send or convey something (such as information, signals, or energy) from one place to another.** 📡🌍 (B2, Neutral, Not slang) | Send 📤, Transfer 🔄, Convey 📩, Broadcast 📻 | 1. The radio station **transmits** signals across the country. 📡🌐<br>2. She **transmitted** the files to her colleague in another office. 💻📤<br>3. The virus can **transmit** from person to person. 🦠➡️🧑 |"
   ]
  },
  {
   "cell_type": "markdown",
   "metadata": {},
   "source": [
    "| **Word** | **Meaning 🤔** (What makes it unique?) | **Meaning Difference 🔥** (How’s it different from the others?) |\n",
    "|---|---|---|\n",
    "| **Eject** 💿🚪 | To **forcefully throw out** someone or something — like a person from a room or a CD from a player. 🚀💥 | **Eject** is all about **quick, physical removal**—like something being **launched out**! 🎯💨 |\n",
    "| **Emit** 🌟💨 | To **send out** things like **light, sound, heat, smoke**—stuff that spreads through the air. 🌈🔊 | **Emit** is about **energy or substances** coming out from a source — not objects or people. ⚡💫 |\n",
    "| **Release** 🔓🎈 | To **let something go**—could be an object (a balloon), a feeling (a sigh), or even a new song. 🎵📤 | **Release** is more **gentle and intentional** — you're **letting it out** freely, not pushing it. 🕊️✨ |\n",
    "| **Transmit** 📡🌍 | To **send or convey something**, like information, signals, or energy, from one place to another. 📲🔊 | **Transmit** focuses on the **delivery or communication** of something, especially **over distance**, like signals or messages. 🌐🔗 |"
   ]
  },
  {
   "cell_type": "markdown",
   "metadata": {},
   "source": [
    "| **📌Meaning + (level, Formality, Slang)** | **📌Synonyms** | **📌3 example sentences** |\n",
    "|---|---|---|\n",
    "| **To force someone to leave a place <br> or organization officially and permanently.** 🚪❌ <br>(C1, Formal, Not slang) | Banish 🚫, Dismiss 🛑, Eject 🧯, Oust 🪓 | 1. The student was **expelled** from school for cheating. 🏫📄❌<br>2. He was **expelled** from the club due to bad behavior. 🚷👎<br>3. They threatened to **expel** any members who broke the rules. 📜⚠️ |\n",
    "| **To push or drive something out from <br>the body or another space.** 💨🤢 <br>(B2, Neutral, Not slang) | Discharge 💥, Emit 💨, Release 🔓, Eject 🔥 | 1. The volcano suddenly **expelled** a huge cloud of ash. 🌋💨<br>2. He **expelled** air from his lungs after holding his breath. 😮‍💨🌬️<br>3. The body **expels** waste naturally. 🚽🧻 |"
   ]
  },
  {
   "cell_type": "markdown",
   "metadata": {},
   "source": [
    "| **📌Meaning + (level, Formality, Slang)** | **📌Synonyms** | **📌3 example sentences** |\n",
    "|---|---|---|\n",
    "| **To force someone to leave a place or group.** 🚪💥 (B2, Neutral, Not slang) | Eject 🚫, Expel ❌, Remove 🧼, Oust 🪓 | 1. The bouncer **kicked out** the troublemaker from the bar. 🍻🚷<br>2. She was **kicked out** of the party for causing drama. 🎉❌<br>3. The team decided to **kick out** the player for not following the rules. ⚽📜 |"
   ]
  },
  {
   "cell_type": "code",
   "execution_count": null,
   "metadata": {},
   "outputs": [],
   "source": []
  },
  {
   "cell_type": "markdown",
   "metadata": {},
   "source": [
    "| **📌Meaning + (level, Formality, Slang)** | **📌Synonyms** | **📌3 example sentences** |\n",
    "|---|---|---|\n",
    "| **To cause something <br>(like light, sound, signals, etc.)<br> to go outward from a source.** 📡🌟 <br> (B2, Neutral, Not slang) | Emit 💨, Radiate 🌞, Disperse 🌬️, Transmit 📻 | 1. The tower **sends out** radio waves across the region. 📡🎶<br>2. The machine **sent out** a loud beep when it finished. 🔊✅<br>3. The candle **sent out** a soft, warm glow. 🕯️✨ |\n",
    "| **To distribute something to a group, like information or items.** 📤📩 <br>(B2, Neutral, Not slang) | Dispatch 📦, Mail ✉️, Distribute 🗞️, Broadcast 📢 | 1. They **sent out** invitations for the party. 🎉💌<br>2. The company **sends out** newsletters every week. 📰📤<br>3. We **sent out** the package yesterday. 📦🚚 |"
   ]
  },
  {
   "cell_type": "markdown",
   "metadata": {},
   "source": [
    "| **📌Meaning + (level, Formality, Slang)** | **📌Synonyms** | **📌3 example sentences** |\n",
    "|---|---|---|\n",
    "| **To send something or someone to a particular place for a purpose.** 📦🚚 (B2, Neutral, Not slang) | Send ✉️, Deliver 📦, Forward 🔜, Ship 🚢 | 1. The company **dispatched** the packages to customers worldwide. 🌍📦<br>2. He **dispatched** the letter first thing in the morning. 📬⏰<br>3. The police **dispatched** a team to handle the emergency. 🚓🔔 |\n",
    "| **To deal with something quickly and efficiently.** 🏃‍♂️⚡ (B2, Neutral, Not slang) | Handle 🛠️, Complete ✅, Finish 🔥, Address 📝 | 1. She **dispatched** the issue in no time. 🏃‍♀️⚡<br>2. The team **dispatched** the task within the deadline. 🗓️✅<br>3. He quickly **dispatched** the paperwork. 📑✍️ |\n",
    "| **To kill or destroy something.** 💥 (C2, Formal, Not slang) | Eliminate ❌, Terminate ⚰️, Exterminate ☠️, Destroy 💥 | 1. The soldier **dispatched** the enemy with a single blow. 💣⚔️<br>2. The exterminator **dispatched** the pests from the house. 🐜🚫<br>3. He **dispatched** the intruder without hesitation. 👊🏠 |"
   ]
  },
  {
   "cell_type": "markdown",
   "metadata": {},
   "source": [
    "| **Word** | **Meaning 🤔** | **Main Difference 🔥** |\n",
    "|---|---|---|\n",
    "| **Dispatch** 🚚 | To send something or someone to a particular place for a purpose, often quickly or with urgency. 📦 | **Dispatch** implies **speed** and **organization**, often used in more formal or urgent contexts. It's like sending something out with purpose and precision! 🏃‍♀️💨 |\n",
    "| **Send out** 📤 | To send something to multiple recipients or distribute something. 📬 | **Send out** is more **general** and can apply to a **large group** of people or items. It's less about urgency and more about the act of distributing! 📦✨ |"
   ]
  },
  {
   "cell_type": "markdown",
   "metadata": {},
   "source": [
    "| **📌Meaning + (level, Formality, Slang)** | **📌Synonyms** | **📌3 example sentences** |\n",
    "|---|---|---|\n",
    "| **To begin something in a lively, <br> energetic, or exciting way.** 🎉🚀 <br> Kick off has a fun, dynamic vibe!<br> It’s like saying \"Let’s get this party started!\" <br> 🥳🎉 (B2, Neutral, Not slang) | Begin 🏁, Commence 📝, Start 🎬, Initiate 💥 | 1. The concert will **kick off** at 8 PM sharp. 🎶🎸<br>2. They **kicked off** the meeting with a brief introduction. 🗣️💼<br>3. The soccer game will **kick off** in 10 minutes. ⚽⏰ |\n",
    "| **To become angry or upset, often suddenly.** 😤🔥 (B2, Informal, Slang) | Blow up 💣, Freak out 😱, Lose it 🤯, Go off 💥 | 1. He **kicked off** when he found out the news. 😡📱<br>2. She **kicked off** over the tiny mistake. 🙄💥<br>3. They **kicked off** during the argument about the project. 🗣️💢 |"
   ]
  },
  {
   "cell_type": "markdown",
   "metadata": {},
   "source": [
    "| **📌Meaning + (level, Formality, Slang)** | **📌Synonyms** | **📌3 example sentences** |\n",
    "|---|---|---|\n",
    "| **To speak to or direct your words to someone or a group.** 🎤👥 (B2, Neutral, Not slang) | Speak to 🗣️, Talk to 💬, Mention 🗨️, Direct 📢 | 1. The president **addressed** the nation in a live broadcast. 📺🌍<br>2. She **addressed** the team with a motivational speech. 🎤🔥<br>3. He **addressed** the crowd with a heartfelt message. ❤️🙋‍♂️ |\n",
    "| **To deal with or handle a particular issue or situation.** 🛠️📝 (B2, Neutral, Not slang) | Handle 🧠, Tackle 🔥, Resolve 🧩, Manage 💪 | 1. The company will **address** the customer complaints by next week. 📋🕒<br>2. She **addressed** the concerns during the meeting. 🤝📅<br>3. We need to **address** the lack of communication within the team. 🗣️📉 |\n",
    "| **To write a name or an address on an envelope or package.** ✉️🖋️ (B2, Neutral, Not slang) | Label 🏷️, Inscribe ✍️, Mark 🖊️, Write on ✍️ | 1. I need to **address** the envelopes before sending them. 📬📝<br>2. He **addressed** the package to the wrong recipient. 📦✉️<br>3. Don't forget to **address** the letter before mailing it! 📮💌 |"
   ]
  },
  {
   "cell_type": "markdown",
   "metadata": {},
   "source": [
    "| **📌Meaning + (level, Formality, Slang)** | **📌Synonyms** | **📌3 example sentences** |\n",
    "|---|---|---|\n",
    "| **To confront or deal with a challenge, task, or problem.** 💪💥 (B2, Neutral, Not slang) | Address 📝, Handle 🧠, Deal with 🛠️, Confront 🛡️ | 1. He needs to **tackle** the problem head-on. ⚔️💡<br>2. She **tackled** the project with enthusiasm. 🔥📈<br>3. We will **tackle** the issue during the meeting. 🗣️🔍 |\n",
    "| **To physically take down or stop someone, often used in sports.** 🏈💨 (B2, Neutral, Not slang) | Take down 🥋, Bring down 🔨, Knock over 🚶‍♂️, Subdue 🛑 | 1. The defender **tackled** the opposing player during the game. 🏈🔥<br>2. He **tackled** the robber to stop him from escaping. 🚔💪<br>3. She **tackled** the challenge with determination. 🏆💪 |"
   ]
  },
  {
   "cell_type": "markdown",
   "metadata": {},
   "source": [
    "| **📌Meaning + (level, Formality, Slang)** | **📌Synonyms** | **📌3 example sentences** |\n",
    "|---|---|---|\n",
    "| **To manage, control, or deal with something, especially in a calm and effective way.** 🧠💼 (B2, Neutral, Not slang) | Manage 🛠️, Deal with 📝, Address 🗣️, Oversee 🧐 | 1. She knows how to **handle** stressful situations with grace. 🌸💪<br>2. He was asked to **handle** the project and make sure everything runs smoothly. 🔥📈<br>3. I’ll help you **handle** this issue—don’t worry! 🧑‍🤝‍🧑💖 |\n",
    "| **To physically touch or manipulate something with your hands.** ✋🔧 (B2, Neutral, Not slang) | Touch 👋, Grip ✊, Hold 👐, Manipulate 🎮 | 1. Be careful how you **handle** those fragile items. 🧳📦<br>2. She **handled** the tools with great precision. 🛠️👩‍🔧<br>3. He **handled** the book carefully to avoid tearing the pages. 📚👀 |\n",
    "| **To take care of or resolve a situation or problem.** 🏃‍♂️💥 (B2, Neutral, Not slang) | Resolve ✅, Address 📝, Solve 🧩, Tackle 🔥 | 1. We’ll **handle** everything before the deadline. ⏰⚡<br>2. She quickly **handled** the complaints from customers. 📞💬<br>3. Can you **handle** the extra work this week? 💼🎯 |"
   ]
  },
  {
   "cell_type": "markdown",
   "metadata": {},
   "source": [
    "| **📌Meaning + (level, Formality, Slang)** | **📌Synonyms** | **📌3 example sentences** |\n",
    "|---|---|---|\n",
    "| **To resolve a disagreement or issue, bringing it to a conclusion.** ⚖️🕊️ (B2, Neutral, Not slang) | Resolve ✅, Conclude 🏁, End 🛑, Close 🔒 | 1. We need to **settle** this dispute before it gets worse. ⚖️💬<br>2. They **settled** their differences and became friends again. 👫💖<br>3. Let’s **settle** the argument and move on. 🤝✨ |\n",
    "| **To decide or make a final choice about something.** 🧠✅ (B2, Neutral, Not slang) | Decide 🧠, Agree 📝, Choose 🎯, Conclude 🏁 | 1. After thinking about it for a while, they **settled** on the blue option. 🎨💙<br>2. He finally **settled** on the perfect solution. 💡🔧<br>3. Let’s **settle** on a time for the meeting. 🕓💬 |\n",
    "| **To establish or place something in a particular position or state.** 🛋️📍 (B2, Neutral, Not slang) | Arrange 🪑, Position 📍, Place 📦, Set up 🏗️ | 1. She **settled** the book on the table carefully. 📚🧑‍🏫<br>2. They **settled** in their new home last week. 🏡🔑<br>3. After the move, it took some time to **settle** everything into place. 🛋️💭 |"
   ]
  },
  {
   "cell_type": "markdown",
   "metadata": {},
   "source": [
    "| **📌Meaning + (level, Formality, Slang)** | **📌Synonyms** | **📌3 example sentences** |\n",
    "|---|---|---|\n",
    "| **To find a solution to a problem or issue, making it clear or settled.** 🧠🔍 (B2, Neutral, Not slang) | Solve 🧩, Fix 🛠️, Settle 🕊️, Clarify 🔎 | 1. We need to **resolve** this issue before the deadline. ⏰📈<br>2. After hours of discussion, they finally **resolved** the problem. 🕵️‍♂️💬<br>3. It took time, but we **resolved** the conflict peacefully. 🕊️🌟 |\n",
    "| **To decide firmly on a course of action or make a firm choice.** 🗣️✅ (B2, Neutral, Not slang) | Decide 🧠, Commit 📝, Choose 🎯, Determine 🕹️ | 1. She **resolved** to start working out every day. 🏋️‍♀️💪<br>2. They **resolved** to finish the project together as a team. 🤝🔥<br>3. I **resolved** that it was time to change my career path. 🌟🛤️ |"
   ]
  },
  {
   "cell_type": "markdown",
   "metadata": {},
   "source": [
    "| **📌Meaning + (level, Formality, Slang)** | **📌Synonyms** | **📌3 example sentences** |\n",
    "|---|---|---|\n",
    "| **To engage in physical exercise or training, <br> especially to improve fitness.** 🏋️‍♀️💪 <br>(B2, Neutral, Not slang) | Exercise 🏃‍♂️, Train 🎯, Lift 🏋️‍♂️, Sweat 💦 | 1. I try to **work out** every morning to stay healthy. 🌅💪<br>2. She’s been **working out** at the gym for years to build strength. 💥🏋️‍♀️<br>3. They’re going to **work out** together after school. 👯‍♂️🏃‍♀️ |\n",
    "| **To resolve or figure out a problem, <br>usually with effort or calculation.** 🧠🧐 <br>(B2, Neutral, Not slang) | Solve 🧩, Figure out 🧠, Resolve ✅, Work through 🔄 | 1. We need to **work out** a solution for this issue. 🤔💡<br>2. She’s trying to **work out** the math problem. ➗📐<br>3. We’ll **work out** the details of the plan later. 📅📝 |\n",
    "| **To come to an agreement or settle on something.** 📝🤝 <br>(B2, Neutral, Not slang) | Agree 🧠, Settle 🕊️, Conclude 🏁, Negotiate 💬 | 1. We need to **work out** the terms before moving forward. 📝🔑<br>2. They **worked out** the best way to handle the situation. 🔄💬<br>3. After hours of discussion, they finally **worked out** a deal. 📑💼 |"
   ]
  },
  {
   "cell_type": "markdown",
   "metadata": {},
   "source": [
    "| **📌Meaning + (level, Formality, Slang)** | **📌Synonyms** | **📌3 example sentences** |\n",
    "|---|---|---|\n",
    "| **To understand or solve something,<br> often after thinking about it.** 🧠💡 <br> (B2, Neutral, Not slang) | Solve 🧩, Understand 💭, Decipher 🔎, Unravel 🧵 | 1. I need to **figure out** how to fix my phone. 📱🔧<br>2. She **figured out** the math problem in no time! ➗✨<br>3. They’re still trying to **figure out** the best way to organize the event. 📅💥 |\n",
    "| **To plan or decide on something, <br>especially after considering options.** 📝🤔 <br>(B2, Neutral, Not slang) | Decide 🗣️, Plan 🗓️, Work out 🔄, Organize 🗂️ | 1. We need to **figure out** the logistics for the trip. 🧳🌍<br>2. After much discussion, they **figured out** the perfect solution. 🧠💡<br>3. I’m still trying to **figure out** my schedule for next week. 📅⏳ |\n",
    "| **To come to a conclusion or <br>find a solution to a challenge.** ✅🔍<br> (B2, Neutral, Not slang) | Resolve ✅, Conclude 🏁, Settle 🕊️, Work through 🔄 | 1. I think we **figured out** what went wrong with the project. ⚙️🛠️<br>2. It took a while, but we finally **figured out** how to fix it. 🔧💡<br>3. After hours of brainstorming, they **figured out** the best approach. 🧠💥 |"
   ]
  },
  {
   "cell_type": "markdown",
   "metadata": {},
   "source": [
    "| **Word** | **Meaning 🤔** | **Main Difference 🔥** |\n",
    "|---|---|---|\n",
    "| **Handle** 🛠️ | To **manage** or **deal with** something, especially in a calm and efficient manner. 🧠💼 | **Handle** suggests **careful management** or **control**, often implying ongoing attention. It’s about maintaining control! 🧐✨ |\n",
    "| **Tackle** ⚡ | To **confront** or **take on** a problem or task, often with energy or enthusiasm. 💥 | **Tackle** implies a **more active** or **energetic approach**, especially in challenging situations. It’s like diving into the problem! 💪🔥 |\n",
    "| **Address** 📝 | To **deal with** or **take action on** a situation, problem, or concern. 📢 | **Address** is more about **formally recognizing** and **taking action** on something. It’s about giving **attention** to an issue. 💼📍 |\n",
    "| **Solve** 🧩 | To **find a solution** or **fix** a problem. 🔍 | **Solve** focuses on **finding the right answer** or **resolution**. It’s the end goal after **handling**, **tackling**, or **addressing** a situation. 🎯💡 |\n",
    "| **Settle** 🕊️ | To **resolve** or **bring to a conclusion**, often with compromise. 🧠✨ | **Settle** implies **finality**, often after negotiation or discussion. It’s about reaching a peaceful resolution. 🌿🔑 |\n",
    "| **Figure Out** 🧠 | To **understand** or **solve** something, often through effort and thought. 💡 | **Figure out** focuses on the **process** of working through a problem mentally. It’s more about coming to an understanding. 🔎📚 |\n",
    "| **Work Out** 🏋️‍♂️ | To **resolve**, **figure out**, or **engage in exercise**. 🧠💪 | **Work out** can refer to both **mental problem-solving** and **physical exercise**. It’s versatile, focusing on improvement and resolution! 💥💡 |\n",
    "| **Resolve** ✅ | To **find a solution** or **settle** a problem, often after some effort. 🧩 | **Resolve** is often about making a **definitive decision** or **solution**, focusing on clarity and closure. It’s about fixing things once and for all! 🏁💬 |"
   ]
  },
  {
   "cell_type": "markdown",
   "metadata": {},
   "source": [
    "| **📌Meaning + (level, Formality, Slang)** | **📌Synonyms** | **📌3 example sentences** |\n",
    "|---|---|---|\n",
    "| **To cause people or things to move in different directions.** 🏃‍♂️🌪️ (B2, Neutral, Not slang) | Scatter 💨, Break up 💥, Dissipate 💨, Separate 🔑 | 1. The wind **dispersed** the leaves across the yard. 🍂🍃<br>2. The teachers told the students to **disperse** after class. 📚🧑‍🏫<br>3. The group started to **disperse** after the meeting ended. 🧑‍🤝‍🧑👋 |\n",
    "| **To cause something to lose its concentration or to break apart.** 💥💨 (B2, Neutral, Not slang) | Dissipate 🌪️, Break apart 💔, Scatter 💥, Fade 🌫️ | 1. The storm clouds began to **disperse** by late afternoon. 🌤️🌧️<br>2. His anger **dispersed** as he calmed down. 😤➡️😌<br>3. The crowd **dispersed** once the show was over. 🎤🎉 |"
   ]
  },
  {
   "cell_type": "markdown",
   "metadata": {},
   "source": [
    "| **📌Meaning + (level, Formality, Slang)** | **📌Synonyms** | **📌3 example sentences** |\n",
    "|---|---|---|\n",
    "| **To throw or spread things in various directions, often in a random way.** 🌪️💨 (B2, Neutral, Not slang) | Disperse 🌍, Spread 🌱, Toss 🎯, Scatter about 🌀 | 1. The children **scattered** their toys all over the room. 🧸🏠<br>2. He **scattered** the seeds across the garden. 🌱🌾<br>3. The crowd **scattered** when the fire alarm went off. 🚨🏃 |\n",
    "| **To distribute things randomly over an area.** 🌍✨ (B2, Neutral, Not slang) | Distribute 📦, Spread 🌍, Dispense 🍽️, Break up 💥 | 1. The leaves **scattered** across the yard after the storm. 🍂🌧️<br>2. The workers **scattered** to their different stations. 🛠️🏢<br>3. She **scattered** the flour on the counter. 🍞✨ |\n"
   ]
  },
  {
   "cell_type": "markdown",
   "metadata": {},
   "source": [
    "| **📌Meaning + (level, Formality, Slang)** | **📌Synonyms** | **📌3 example sentences** |\n",
    "|---|---|---|\n",
    "| **To divide something and give it out among a group of people.** 📊🫂 (B2, Neutral, Not slang) | Share 🫶, Parcel out 📦, Spread 🌍, Portion 🍽️ | 1. The funds were **distributed** equally among the team members. 💵🤝<br>2. He **distributed** the tasks according to everyone's strengths. 💪📋<br>3. The charity **distributes** donations to families in need. 🏠❤️ |\n",
    "| **To spread or disperse something over a larger area.** 🌍💨 (B2, Neutral, Not slang) | Spread 🌎, Scatter 💨, Disperse 🌪️, Broadcast 📡 | 1. The snow **distributed** evenly across the town. ❄️🏙️<br>2. The wind **distributed** the seeds across the field. 🌾🍃<br>3. The sunlight **distributed** warmth across the garden. 🌞🌻 |"
   ]
  },
  {
   "cell_type": "markdown",
   "metadata": {},
   "source": [
    "| **📌Meaning + (level, Formality, Slang)** | **📌Synonyms** | **📌3 example sentences** |\n",
    "|---|---|---|\n",
    "| **To extend or distribute something over a larger area or between people.** 🌍💨 (B2, Neutral, Not slang) | Distribute 📤, Expand 📈, Scatter 💫, Propagate 🌱 | 1. She **spread** the blanket out on the grass for a picnic. 🧺🌳<br>2. The news quickly **spread** across town. 📰🌟<br>3. They **spread** the paint over the wall evenly. 🎨🚪 |\n",
    "| **To cause something to reach more people or places.** 📢🌎 (B2, Neutral, Not slang) | Broadcast 📡, Share 📤, Circulate 🔄, Promote 📣 | 1. The company plans to **spread** its product to international markets. 🌍📦<br>2. The virus **spread** rapidly throughout the city. 🦠🏙️<br>3. He wanted to **spread** awareness about the charity. 💖🎗️ |\n",
    "| **To move apart or open something that was closed.** 🚪✨ (B2, Neutral, Not slang) | Open 🚪, Unfold 📝, Separate ✂️, Unwrap 🎁 | 1. The flower began to **spread** its petals in the sunlight. 🌸☀️<br>2. She **spread** her arms wide in a warm hug. 🤗❤️<br>3. He **spread** the cards out on the table. 🃏🎴 |"
   ]
  },
  {
   "cell_type": "markdown",
   "metadata": {},
   "source": [
    "| **📌Meaning + (level, Formality, Slang)** | **📌Synonyms** | **📌3 example sentences** |\n",
    "|---|---|---|\n",
    "| **To spread or promote something, like information, ideas, or beliefs.** 📢💬 (C1, Neutral, Not slang) | Spread 🌍, Disseminate 📡, Circulate 🔄, Promote 📣 | 1. The organization aims to **propagate** knowledge about climate change. 🌍🌱<br>2. They used social media to **propagate** their new business ideas. 📱💡<br>3. He tried to **propagate** the benefits of a plant-based diet. 🥦🍎 |\n",
    "| **To reproduce or cause to multiply, like plants or organisms.** 🌱🌿 (C1, Neutral, Not slang) | Reproduce ♻️, Multiply 🔄, Breed 🐾, Grow 🌾 | 1. Certain plants **propagate** through cuttings. ✂️🌿<br>2. Bacteria can **propagate** rapidly in the right conditions. 🦠⚡<br>3. The company is working on ways to **propagate** crops more efficiently. 🌾🌞 |\n",
    "| **To spread or grow over time, often used for something gradual or natural.** 🌳🍃 (C1, Neutral, Not slang) | Expand 🚀, Increase 📈, Flourish 🌸, Spread 🌍 | 1. The idea began to **propagate** within the community. 🌟💬<br>2. The disease **propagated** over several months. 🦠⏳<br>3. This plant can **propagate** in both water and soil. 🌱💧 |"
   ]
  },
  {
   "cell_type": "markdown",
   "metadata": {},
   "source": [
    "| **Word** | **Meaning 🤔** | **Main Difference 🔥** |\n",
    "|---|---|---|\n",
    "| **Spread** 🌍 | To extend or distribute something over a larger area or among people. 🌍💨 | **Spread** is the most general and can apply to **anything** expanding or reaching further, whether physical or abstract. 💡🌱 It’s the all-purpose term! 💖🌍 |\n",
    "| **Propagate** 🌱 | To promote, spread, or reproduce something (like ideas, plants, or organisms). 🌿🌱 | **Propagate** has a more **gradual** and **deliberate** sense, often associated with growth, reproduction, or spreading **over time**. 🌱💚 It’s like planting seeds and watching them grow! 🌸🌾✨ |\n",
    "| **Distribute** 📦 | To give, allocate, or deliver something to multiple people or places. 📬💨 | **Distribute** focuses on the **act of giving out** or **delivering** something to multiple recipients, often with a sense of **equal division** or **organization**. 🎉🎁 It’s like passing out party favors! 💖🎉 |\n",
    "| **Scatter** 🌪️ | To throw or spread things in various directions, often in a random way. 💨 | **Scatter** implies **randomness** and **lack of control**—things are spread in different directions, without careful organization. 🎉💥 It’s like throwing confetti! 💃✨ |\n",
    "| **Disperse** 🌍💨 | To spread or distribute something over a wide area or among a group. | **Disperse** suggests **movement in different directions** with more of a **controlled** or **purposeful** spread.🔥🤔 It often implies something being spread out in a more organized way, like dispersing a crowd. 🚶‍♂️💥 |"
   ]
  }
 ],
 "metadata": {
  "kernelspec": {
   "display_name": ".venv",
   "language": "python",
   "name": "python3"
  },
  "language_info": {
   "codemirror_mode": {
    "name": "ipython",
    "version": 3
   },
   "file_extension": ".py",
   "mimetype": "text/x-python",
   "name": "python",
   "nbconvert_exporter": "python",
   "pygments_lexer": "ipython3",
   "version": "3.13.1"
  }
 },
 "nbformat": 4,
 "nbformat_minor": 2
}
