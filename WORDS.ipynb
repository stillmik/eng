{
 "cells": [
  {
   "cell_type": "markdown",
   "metadata": {},
   "source": [
    "| **📌Meaning + (level, Formality, Slang)** | **📌Synonyms** | **📌3 example sentences** |\n",
    "|---|---|---|\n",
    "| **1. The top layer of the earth in which plants grow.** 🌱🌍 (A1, Neutral, No Slang) | ground 🌍, earth 🌏, dirt 🧑‍🌾, terrain 🌄 | 1. The farmer tilled the **soil** to prepare it for planting. 🌾🚜<br>2. The soil in this area is very rich and perfect for growing vegetables. 🥕🌿<br>3. The tree's roots spread deep into the **soil**. 🌳🪴 |\n",
    "| **2. To make something dirty or unclean, especially by touching or contaminating.** 🧼💩 (B2, Neutral, No Slang) | dirty 🧹, stain 💧, smudge 🌚, pollute 🌫️ | 1. The kids **soiled** their clothes while playing in the mud. 🏃‍♂️🌧️<br>2. He **soiled** the tablecloth with ink. 🖋️🧻<br>3. The accident caused oil to **soil** the water. 🌊🛢️ |\n",
    "| **3. To corrupt or dishonor something, like a reputation.** 🚫💔 (C1, Formal, No Slang) | taint ☣️, degrade ⬇️, defile ⚠️, dishonor 🚷 | 1. The scandal **soiled** the company's reputation. 💼💩<br>2. Her actions **soiled** the trust between them. 💔🤫<br>3. The rumors began to **soil** his image in the public eye. 🎭🗣️ |"
   ]
  },
  {
   "cell_type": "markdown",
   "metadata": {},
   "source": [
    "| **📌Meaning + (level, Formality, Slang)** | **📌Synonyms** | **📌3 example sentences** |\n",
    "|---|---|---|\n",
    "| **1. As a result of that or because of that.** ➡️💡 (C1, Formal, No Slang) | thus ⬇️, as a result 🏁, consequently 🎯, hence 🏅 | 1. He forgot to set the alarm, **thereby** missing his appointment. ⏰❌<br>2. The company reduced its costs, **thereby** increasing its profits. 💸📈<br>3. She studied hard, **thereby** passing the exam with top marks. 📚🎓 <br>4. She broke the window, thereby letting cold air into the room. ❄️🪟 |"
   ]
  },
  {
   "cell_type": "markdown",
   "metadata": {},
   "source": [
    "| **📌Meaning + (level, Formality, Slang)** | **📌Synonyms** | **📌3 example sentences** |\n",
    "|---|---|---|\n",
    "| **1. Lack of interest, concern, or sympathy.** 😶‍🌫️💤<br> **When someone simply doesn't care or feel emotionally involved.** 🚫❤️(B2, Neutral, No Slang) | apathy 😴, detachment 💤, unconcern 🙄, disregard 🚫 | 1. His **indifference** to the project was clear from his actions. 🚶‍♂️📉<br>2. The teacher was frustrated by the students' **indifference** to the subject. 📚😑<br>3. She showed complete **indifference** to the outcome of the meeting. 💤🤷‍♀️ |\n"
   ]
  },
  {
   "cell_type": "markdown",
   "metadata": {},
   "source": [
    "| **📌Meaning + (level, Formality, Slang)** | **📌Synonyms** | **📌3 example sentences** |\n",
    "|---|---|---|\n",
    "| **1. To be or form something; to make up a whole.** 🧩🏗️ (B2, Formal, No Slang) | compose 📝, comprise 🧱, form 🛠️, represent 🎭 | 1. Twelve players **constitute** a team. ⚽📋<br>2. Women **constitute** half the population. 👩🌍<br>3. These actions do not **constitute** a crime. 🚫⚖️ |\n",
    "| **2. To be considered or viewed as.** 🔎📜 (C1, Formal, No Slang) | amount to 📊, equate to ➗, be regarded as 👀, count as 🧮 | 1. His refusal to help **constitutes** a serious betrayal. 🗡️💔<br>2. Missing a deadline can **constitute** a violation of the agreement. ⏳📑<br>3. Does this **constitute** harassment under the law? ⚖️❓ |"
   ]
  },
  {
   "cell_type": "markdown",
   "metadata": {},
   "source": [
    "| **📌Meaning + (level, Formality, Slang)** | **📌Synonyms** | **📌3 example sentences** |\n",
    "|---|---|---|\n",
    "| **1. Extreme behavior that goes beyond what is reasonable or acceptable.** 😵🔥 (C1, Formal, No Slang) | indulgence 🍰, extravagance 💸, overindulgence 🛒, intemperance 🥂 | 1. The movie exposed the **excesses** of the rich and powerful. 💰🎭<br>2. She later regretted the **excesses** of her youth. 😬🕺<br>3. They were punished for their **excesses** during the regime. 🚨🏛️ |\n",
    "| **2. An amount that is more than necessary or allowed.** 📦📈 (B2, Neutral, No Slang) | surplus ➕, overflow 🌊, glut 🛍️, redundancy 🔁 | 1. Any **excesses** of food were donated to charity. 🍽️❤️<br>2. The **excesses** in the budget were immediately cut. ✂️📊<br>3. His luggage was charged for **excesses** in weight. 🧳⚖️ |"
   ]
  },
  {
   "cell_type": "markdown",
   "metadata": {},
   "source": [
    "| **📌Meaning + (level, Formality, Slang)** | **📌Synonyms** | **📌3 example sentences** |\n",
    "|---|---|---|\n",
    "| **1. To use or spend something (like time, money, or resources) carelessly or inefficiently.** 💸🕒 (B2, Neutral, No Slang) | squander 💸, misuse ❌, dissipate 💨, throw away 🗑️ | 1. She didn’t want to **waste** any more time on the project. ⏳🚫<br>2. They **wasted** money on things they didn’t need. 💵❌<br>3. Don’t **waste** your talents on things that don’t matter. 🎯 |\n",
    "| **2. Something that is useless or thrown away, often something that has been discarded.** 🗑️👋 (B1, Neutral, No Slang) | trash 🗑️, rubbish 🗑️, refuse 🚮, junk 🏚️ | 1. The backyard was filled with **waste** from the renovation. 🏚️💥<br>2. He’s tired of dealing with all the **waste** from the construction site. 🏗️🚧<br>3. We need to figure out how to reduce **waste** in our daily lives. ♻️💡 |\n",
    "| **3. A barren or desolate area, often used to describe land or a place that is unused or unproductive.** 🌵 (C1, Formal, No Slang) | desert 🌵, wasteland 🏜️, ruin 🏚️, void 💀 | 1. The **waste** land stretched for miles with nothing but dust and rocks. 🏜️<br>2. The abandoned factory had become a **waste** of space. 🏚️❌<br>3. He wandered through the **waste** land, searching for survivors. 🌍💀 |"
   ]
  },
  {
   "cell_type": "markdown",
   "metadata": {},
   "source": [
    "| **📌Meaning + (level, Formality, Slang)** | **📌Synonyms** | **📌3 example sentences** |\n",
    "|---|---|---|\n",
    "| **1. Physical strength and good health; energy and force.** 💪✨ (B2, Neutral, No Slang) | energy ⚡, vitality 🌞, strength 🏋️, robustness 🧱 | 1. He attacked the project with **vigor**, finishing in record time. 🏁🔥<br>2. The young athlete radiated **vigor** and confidence. 🏃‍♂️🌟<br>3. Despite his age, he still hikes with surprising **vigor**. 🏔️💥 |\n",
    "| **2. Intensity or forcefulness in action or expression.** 🗣️💥 (C1, Formal, No Slang) | passion ❤️‍🔥, intensity 🚀, enthusiasm 🎉, fervor 🔥 | 1. She defended her beliefs with **vigor**. ⚔️🧠<br>2. The speech was delivered with great **vigor**, moving the entire crowd. 🎤🌊<br>3. He threw the ball with such **vigor** that it broke the window. ⚾🪟 |"
   ]
  },
  {
   "cell_type": "markdown",
   "metadata": {},
   "source": [
    "| **📌Meaning + (level, Formality, Slang)** | **📌Synonyms** | **📌3 example sentences** |\n",
    "|---|---|---|\n",
    "| **1. Covered in plants or vegetation that has grown wild and uncontrolled.** 🌿🌱 (B2, Neutral, No Slang) | unkempt 🌾, weedy 🌵, wild 🌳, tangled 🌬️ | 1. The garden was completely **overgrown** after a month of rain. 🌧️🌿<br>2. Vines had **overgrown** the old building, hiding its walls. 🏚️🍃<br>3. The path was barely visible under the **overgrown** grass. 🚶🌾 |\n",
    "| **2. Grown too large or beyond the normal or suitable size.** 🔼📏 (C1, Neutral, No Slang) | oversized 🐘, huge 🦍, bulky 💼, swollen 🧠 | 1. That **overgrown** puppy still thinks he’s small enough to sit on laps. 🐶🪑<br>2. The boy wore an **overgrown** coat that reached his knees. 🧥👖<br>3. These **overgrown** bushes block the view from the window. 🌳🚫 |"
   ]
  },
  {
   "cell_type": "markdown",
   "metadata": {},
   "source": [
    "| **📌Meaning + (level, Formality, Slang)** | **📌Synonyms** | **📌3 example sentences** |\n",
    "|---|---|---|\n",
    "| **1. To control and make use of something, especially a natural force or resource.** 🔌🌪️ (B2, Neutral, No Slang) | utilize 🧠, exploit 💼, channel 🔄, employ ⚙️ | 1. Scientists are working to **harness** solar energy more efficiently. ☀️🔋<br>2. We need to **harness** the power of technology to solve this problem. 💻🧩<br>3. She tried to **harness** her emotions and stay calm. 💓🧘‍♀️ |\n",
    "| **2. To put a harness (a set of straps) on an animal, especially a horse.** 🐎🪢 (A2, Neutral, No Slang) | strap in 🪢, gear up ⚙️, fasten 🔗, equip 🧰 | 1. He **harnessed** the horse before the ride. 🐴🌄<br>2. The farmer **harnessed** the oxen to plow the field. 🌾🚜<br>3. She carefully **harnessed** the dog for its pulling competition. 🐕🏋️ |"
   ]
  },
  {
   "cell_type": "markdown",
   "metadata": {},
   "source": [
    "| **📌Meaning + (level, Formality, Slang)** | **📌Synonyms** | **📌3 example sentences** |\n",
    "|---|---|---|\n",
    "| **1. To limit or restrict something within boundaries—physically, mentally, or abstractly.** 🚪⛓️ (B2, Formal, No Slang) | restrict 🚫, imprison 🏚️, enclose 🧱, contain 📦 | 1. Please **confine** your answers to one paragraph. ✍️📄<br>2. He was **confined** to his room after the surgery. 🛏️🏥<br>3. Her creativity couldn’t be **confined** by tradition. 🎨🔥 |"
   ]
  },
  {
   "cell_type": "markdown",
   "metadata": {},
   "source": [
    "| **📌Meaning + (level, Formality, Slang)** | **📌Synonyms** | **📌3 example sentences** |\n",
    "|---|---|---|\n",
    "| **1. To have or own something.** 🧳✨ (A2, Neutral, No Slang) | own 💼, have 👐, hold 🤲, carry 🎒 | 1. She **possesses** great artistic talent. 🎨🔥<br>2. Do you **possess** a valid ID? 🪪📋<br>3. The island **possesses** natural beauty and rich culture. 🏝️💖 |\n",
    "| **2. (Of a quality or feeling) to take control of someone.** 🧠💫 (B2, Formal, No Slang) | overtake 🌪️, seize 🧲, control 🎮, consume 🔥 | 1. A sudden fear **possessed** him. 😱👻<br>2. What **possessed** you to say that?! 🤷‍♂️😬<br>3. She was **possessed** by jealousy. 🧿💚 |\n",
    "| **3. (Archaic/rare) To keep or occupy a space.** 🏠🗝️ (C2, Formal, Rare Use) | inhabit 🛏️, reside 🧳, dwell 🏡, lodge 🕰️ | 1. The spirit is said to **possess** the old house. 🏚️👻<br>2. They **possessed** the land for generations. 🌾📜<br>3. The knight **possessed** the castle after victory. 🏰⚔️ |"
   ]
  },
  {
   "cell_type": "markdown",
   "metadata": {},
   "source": [
    "| **📌Meaning + (level, Formality, Slang)** | **📌Synonyms** | **📌3 example sentences** |\n",
    "|---|---|---|\n",
    "| **1. In a way that shows no emotion, expression, or reaction.** 🥶🧊 (B2, Neutral, No Slang) | expressionlessly 😐, vacantly 🪟, emotionlessly 🧘, indifferently 🙄 | 1. She stared **blankly** at the screen, unable to process what just happened. 💻😵‍💫<br>2. He looked **blankly** at me when I asked the question. ❓👀<br>3. The student sat **blankly**, clearly lost during the lecture. 🎓😶 |\n",
    "| **2. Without any clear purpose, aim, or direction.** 🌀🚶 (C1, Neutral, No Slang) | aimlessly 🚫🎯, vaguely 🌫️, pointlessly 🔄, randomly 🎲 | 1. He wandered **blankly** through the empty hallway. 🏢🚶‍♂️<br>2. She scrolled **blankly** through her phone, not really reading anything. 📱🫥<br>3. They drove **blankly** for hours, trying to escape the stress. 🚗💭 |"
   ]
  },
  {
   "cell_type": "markdown",
   "metadata": {},
   "source": [
    "| **Word** | **Meaning 🤔** | **Meaning Difference 🔥** |\n",
    "|---|---|---|\n",
    "| **Toss out** 🗑️💨 | To casually or quickly throw something away, often without much thought or care. (Can also mean suggesting ideas casually!) 💬🎯 | It’s the most **chill and slangy** 😎—like “meh, who needs this?” You’d “toss out” trash **or** ideas in a group chat 😆🧃 |\n",
    "| **Discard** ❌📤 | To **intentionally get rid** of something no longer useful or desired, often in a more **formal** or careful context. 🧾📦 | Sounds **clean and proper**—like “I discarded the outdated files” 🗃️🗑️ Not casual, def more serious than \"toss out.\" 🎓 |\n",
    "| **Throw away** 🪣🚮 | To **put something in the trash** with the intention of removing it permanently. Common and neutral 💼 | Super **everyday and basic**—the middle ground. Not slangy like “toss out,” not formal like “discard.” It’s your go-to move for actual garbage 🗑️✨ |\n",
    "| **Dispose (of)** ⚠️♻️ | To **get rid of something properly**, especially when it requires care or specific steps (hazards, waste, etc). 🧪🔋 | Most **formal and technical**. You “dispose of chemicals” or “dispose of the evidence.” It’s not just trash—it’s **handled with purpose**! 🧤📜 |"
   ]
  },
  {
   "cell_type": "markdown",
   "metadata": {},
   "source": [
    "| **📌Meaning + (level, Formality, Slang)** | **📌Synonyms** | **📌3 example sentences** |\n",
    "|---|---|---|\n",
    "| **1. Completely lacking or empty of something.** 🚫😶 (C1, Formal, No Slang) | lacking ❌, barren 🏜️, empty 🕳️, stripped 🔓 | 1. His voice was **devoid of** any emotion. 🎤🧊<br>2. The desert is almost completely **devoid of** life. 🌵🐫<br>3. Her eyes were **devoid of** hope. 👁️😢 |\n",
    "| **2. Not possessing a quality, feature, or element expected or needed.** ❌📉 (C1, Formal, No Slang) | absent 💨, void 🌌, free from 🚫, destitute of 🧾 | 1. The film was **devoid of** originality. 🎬💤<br>2. His argument was **devoid of** logic. 🧠🚫<br>3. The city’s outer districts were **devoid of** proper infrastructure. 🏗️📉 |"
   ]
  },
  {
   "cell_type": "markdown",
   "metadata": {},
   "source": [
    "| **📌Meaning + (level, Formality, Slang)** | **📌Synonyms** | **📌3 example sentences** |\n",
    "|---|---|---|\n",
    "| **1. Land covered with grass and other low plants, suitable for grazing animals.** 🐄🌿 (A2, Neutral, No Slang) | meadow 🌼, grassland 🌾, field 🌻, range 🐑 | 1. The sheep grazed peacefully in the green **pastures**. 🐑🌿<br>2. They own several acres of rich **pasture** near the farm. 🚜🌾<br>3. The cows are taken out to **pasture** every morning. 🐄🌞 |\n",
    "| **2. A place offering rest, peace, or a new phase in life (often plural).** 🧘‍♂️🌄 (B2, Neutral, Slightly Figurative) | retirement 🧓, retreat 🏞️, haven 🛶, refuge 🛐 | 1. After decades in the industry, she moved on to **greener pastures**. 🍃💼<br>2. He left the city in search of **pastures new**. 🌍🚶<br>3. They decided to seek **pastures** abroad for a better life. ✈️🗺️ |"
   ]
  },
  {
   "cell_type": "markdown",
   "metadata": {},
   "source": [
    "| **📌Meaning + (level, Formality, Slang)** | **📌Synonyms** | **📌3 example sentences** |\n",
    "|---|---|---|\n",
    "| **1. To begin a journey or trip.** 🧳🚶‍♂️ (B1, Neutral, No Slang) | depart 🛫, embark ⛴️, leave 🏃‍♂️, head out 🧭 | 1. They **set out** early to avoid traffic. 🌅🚗<br>2. We **set out** for the mountains at dawn. 🏔️🌄<br>3. She **set out** on a new adventure. 🎒🌍 |\n",
    "| **2. To start doing something with a particular aim.** 🎯💪 (B2, Neutral, No Slang) | aim 🎯, strive 🔥, endeavor 🚀, intend 💡 | 1. He **set out** to improve his health. 🏋️‍♂️🍎<br>2. She **set out** to write a novel. 📖✍️<br>3. They **set out** to build their dream home. 🏠🛠️ |\n",
    "| **3. To arrange or display something clearly.** 📄🧾 (C1, Formal, No Slang) | present 🎁, outline 🖊️, lay out 📋, structure 🧱 | 1. The lawyer **set out** the terms of the contract. ⚖️📜<br>2. He **set out** his ideas clearly. 🧠💬<br>3. The rules were **set out** in the manual. 📘📏 |"
   ]
  },
  {
   "cell_type": "markdown",
   "metadata": {},
   "source": [
    "| **📌Meaning + (level, Formality, Slang)** | **📌Synonyms** | **📌3 example sentences** |\n",
    "|---|---|---|\n",
    "| **1. To have or own something, especially as a quality or property.** 🧠💎 (B2, Formal, No Slang) | own 🏠, hold 👐, retain 💼, carry 🎒 | 1. She **possessed** great intelligence and charm. 🧠✨<br>2. He **possessed** the skills necessary for the job. 🔧📋<br>3. The island **possessed** a rare beauty. 🏝️🌅 |\n",
    "| **2. (Of a spirit) To take control of someone’s body or mind.** 👻🧠 (C1, Formal, No Slang) | control 🧲, haunt 👻, consume 🔥, dominate 🧬 | 1. Legend says the house is **possessed** by ghosts. 🏚️👻<br>2. A strange fury **possessed** him. 😤💢<br>3. She seemed **possessed** by fear. 😨🕳️ |"
   ]
  },
  {
   "cell_type": "markdown",
   "metadata": {},
   "source": [
    "| **📌Meaning + (level, Formality, Slang)** | **📌Synonyms** | **📌3 example sentences** |\n",
    "|---|---|---|\n",
    "| **1. Surrounded or completely covered in something, usually for protection or containment.** 🛡️📦 (B2, Neutral, No Slang) | enclosed 📪, wrapped 🎁, sheathed 🗡️, embedded 💎 | 1. The ancient artifact was **encased** in glass. 🏺🪟<br>2. His leg was **encased** in a plaster cast. 🦵🩹<br>3. The dessert was **encased** in a chocolate shell. 🍫🍰 |\n",
    "| **2. Trapped or fixed tightly within something.** 🔒🪨 (C1, Formal, No Slang) | imprisoned 🚪, locked in 🔐, encapsulated 🧬, sealed 🧴 | 1. The town was **encased** in thick fog. 🌫️🏘️<br>2. Her feelings were **encased** beneath a cold exterior. 🧊💔<br>3. The fossils were **encased** in layers of stone. 🦴🪨 |"
   ]
  },
  {
   "cell_type": "markdown",
   "metadata": {},
   "source": [
    "| **Word**  | **Meaning 🤔** (What makes it unique?)  | **Meaning Difference 🔥** (How’s it different from the others?) |\n",
    "|---|---|---|\n",
    "| **Penetrate** 🔑🕳️ | To **enter deeply** into something, whether it’s physical, emotional, or intellectual. It’s all about **going deep**, getting thorough, and being **involved**! 😎💡 Oh, and you’re definitely not staying on the surface! 💦✨ | **Penetrate** is like a deep dive, whether you’re slicing through armor or diving into a tough problem. It’s **gradual** and **thorough**—totally not about rushing! 🚀💭 |\n",
    "| **Pierce** 🗡️💥 | To **break through** something with **force** and **precision**, like an arrow hitting its mark or a needle through fabric. **Sharp, clear, and decisive!** 🎯✨ It’s all about the **strike**! 💥 | **Pierce** is super **forceful** and **intentional**—think of that sharp object making a **direct path**. It’s **not messing around**, it’s direct! 😈⚡ |\n",
    "| **Puncture** 🧷💨 | To **make a small hole** quickly, often **accidentally**—like when you step on a nail or pop a balloon. It’s **sharp but quick**! 🎈💥 It’s like a surprise **poke**! 😜💫 | **Puncture** is a **sudden**, small hole—like a surprise that happens **in an instant**! A quick **poke** that leaves its mark! 🔥💨 **You didn’t see it coming!** 🎯 |"
   ]
  },
  {
   "cell_type": "markdown",
   "metadata": {},
   "source": [
    "| **📌Meaning + (level, Formality, Slang)** | **📌Synonyms** | **📌3 example sentences** |\n",
    "|---|---|---|\n",
    "| **1. A feeling of discomfort, worry, or anxiety, often without a clear reason.** 😰💭 (B2, Neutral, No Slang) | discomfort 😓, anxiety 😟, tension ⚡, apprehension 😬 | 1. A sense of **unease** crept over her as she entered the abandoned house. 🏚️😨<br>2. His smile didn’t hide the **unease** in his eyes. 😅👀<br>3. The silence around the table was filled with **unease**. 🍽️🫢 |\n",
    "| **2. A state of mild physical or mental disturbance.** 😕🌀 (C1, Formal, No Slang) | disquiet 🤯, restlessness 🛌, distress 😖, awkwardness 🧍‍♂️🧍‍♀️ | 1. The manager’s odd behavior caused **unease** among the staff. 🧑‍💼💬<br>2. There was growing **unease** about the economic situation. 📉📊<br>3. He shifted with **unease**, avoiding the question. 🪑👉🙈 |"
   ]
  },
  {
   "cell_type": "markdown",
   "metadata": {},
   "source": [
    "| **📌Meaning + (level, Formality, Slang)** | **📌Synonyms** | **📌3 example sentences** |\n",
    "|---|---|---|\n",
    "| **1. In a manner that is unclear, blurry, or not distinct, often due to fog, confusion, or lack <br> of clarity.** 🌫️🧐 (B2, Neutral, No Slang) | vaguely 🤔, indistinctly 👀, unclearly 🌫️, ambiguously ❓ | 1. He remembered the events **hazily** as if through a fog. 🌫️🧠<br>2. The details of the story were **hazily** recalled after so many years. 📖💭<br>3. Her vision was **hazily** clouded by tears. 😢👀 |"
   ]
  },
  {
   "cell_type": "markdown",
   "metadata": {},
   "source": [
    "| **📌Meaning + (level, Formality, Slang)** | **📌Synonyms** | **📌3 example sentences** |\n",
    "|---|---|---|\n",
    "| **1. Not clearly expressed or defined; lacking precision.** 🌫️🧠 (B2, Neutral, No Slang) | unclear ❓, ambiguous 🌀, imprecise 🔍, fuzzy 💭 | 1. His answer was so **vague**, I didn’t understand what he meant. 🤷‍♀️<br>2. She gave a **vague** description of the man she saw. 👀<br>3. I only have a **vague** idea of how to get there. 🗺️✨ |\n",
    "| **2. Slight or uncertain in meaning or understanding.** 🤔🌁 (C1, Formal, No Slang) | hazy 🌥️, indistinct 🌫️, shadowy 👤, doubtful 😐 | 1. There was a **vague** sense of unease in the room. 😬<br>2. He felt a **vague** memory surfacing from childhood. 👶🧠<br>3. The plan was still too **vague** to be executed. 📋❌ |"
   ]
  },
  {
   "cell_type": "markdown",
   "metadata": {},
   "source": [
    "| **📌Meaning + (level, Formality, Slang)** | **📌Synonyms** | **📌3 example sentences** |\n",
    "|---|---|---|\n",
    "| **Not well known; rare or difficult to understand.** 🕳️📉 (C1, Formal, Not slang) | Unknown ❓, Unclear 🌫️, Vague 🌀, Mysterious 🧩 | 1. The origins of the ritual remain **obscure**. 🔮🌒<br>2. He wrote about an **obscure** 18th-century philosopher. 📚⏳<br>3. Her explanation was so **obscure** that no one understood. 🧠❔ |\n",
    "| **To make something less visible or harder to understand.** 🔍🚫 (C1, Formal, Not slang) | Hide 🫥, Conceal 🧳, Blur 🖼️, Eclipse 🌘 | 1. Clouds began to **obscure** the sun. ☁️🌞<br>2. The true meaning was **obscured** by complex language. 🧾🌀<br>3. Smoke **obscured** the road, making it hard to see. 🚗🌫️ |"
   ]
  },
  {
   "cell_type": "markdown",
   "metadata": {},
   "source": [
    "| **📌Meaning + (level, Formality, Slang)** | **📌Synonyms** | **📌3 example sentences** |\n",
    "|---|---|---|\n",
    "| **1. Slightly cloudy, blurry, or unclear in vision or weather.** 🌫️👀 (B1, Neutral, No Slang) | misty 🌁, foggy 🌫️, cloudy ☁️, dim 😶‍🌫️ | 1. The mountains looked **hazy** in the distance. 🏔️👓<br>2. A **hazy** sun rose over the horizon. 🌞🌁<br>3. His vision turned **hazy** after the hit. 👊😵‍💫 |\n",
    "| **2. Vague or unclear in meaning, memory, or thought.** 🧠🤷‍♀️ (B2, Neutral, No Slang) | blurry 📸, fuzzy 🧸, unclear 🔍, vague 🌫️ | 1. I have a **hazy** memory of that night. 🍷🧠<br>2. Her explanation was a bit **hazy**, leaving us confused. 🗣️❓<br>3. The details of the plan were still **hazy**. 📝💭 |"
   ]
  },
  {
   "cell_type": "markdown",
   "metadata": {},
   "source": [
    "| **📌Meaning + (level, Formality, Slang)** | **📌Synonyms** | **📌3 example sentences** |\n",
    "|---|---|---|\n",
    "| **1. Covered with soft fine hair or fluff; texture that feels soft and downy.** 🧸✨ (A2, Neutral, No Slang) | fluffy ☁️, soft 🐑, woolly 🧶, downy 🪶 | 1. The blanket was warm and **fuzzy**. 🛌💖<br>2. He wore a **fuzzy** sweater that made him look cozy. 🧥☕<br>3. The peach had a **fuzzy** skin. 🍑✨ |\n",
    "| **2. Blurry, unclear, or indistinct in form, sound, or memory.** 🔍🌫️ (B1, Neutral, No Slang) | hazy 🌫️, blurry 📸, vague 🌀, unclear 🧠 | 1. The photo came out all **fuzzy**. 📷❌<br>2. My memory of that day is **fuzzy**. 🧠💭<br>3. The sound was **fuzzy** over the speaker. 🔊📡 |\n",
    "| **3. Confused or imprecise in logic or language.** 🧠🤯 (B2, Neutral, No Slang) | muddled 😵, ambiguous ❓, confusing 🌀, unclear 😕 | 1. His reasoning seemed a bit **fuzzy**. 🧠🧩<br>2. The report was written in **fuzzy** terms. 📄🔍<br>3. I got **fuzzy** thinking after staying up all night. 💤☕ |"
   ]
  },
  {
   "cell_type": "markdown",
   "metadata": {},
   "source": [
    "| **📌Meaning + (level, Formality, Slang)** | **📌Synonyms** | **📌3 example sentences** |\n",
    "|---|---|---|\n",
    "| **1. Soft, light, and airy in texture like a cloud or feather.** ☁️🧸 (A1, Neutral, No Slang) | fuzzy ✨, feathery 🪶, downy 🐥, light 💨 | 1. She cuddled with a **fluffy** teddy bear. 🧸💖<br>2. The pancakes were perfectly **fluffy**. 🥞✨<br>3. He wore a **fluffy** bathrobe after his shower. 🚿🛁 |\n",
    "| **2. Not serious or deep; superficial or light content.** 📺🎀 (B2, Informal, No Slang) | shallow 🌊, trivial 🎈, lighthearted 😄, breezy 🌬️ | 1. The movie was cute but kinda **fluffy**. 🎬💗<br>2. I wanted something serious, but the article felt **fluffy**. 📄😅<br>3. Her comments were mostly **fluffy** and fun. 🎤🎉 |\n",
    "| **3. Having a lot of volume or puffiness, especially hair or fabric.** 💇‍♀️🧵 (B1, Neutral, No Slang) | voluminous 💁‍♀️, puffy 🎈, thick 🌪️, airy ☁️ | 1. Her **fluffy** hair bounced as she walked. 💁‍♀️✨<br>2. The cat's **fluffy** tail twitched with excitement. 🐈💨<br>3. He wore a **fluffy** scarf that looked handmade. 🧣🧶 |"
   ]
  },
  {
   "cell_type": "markdown",
   "metadata": {},
   "source": [
    "| **📌Meaning + (level, Formality, Slang)** | **📌Synonyms** | **📌3 example sentences** |\n",
    "|---|---|---|\n",
    "| **1. Positioned or situated at a great height or elevation.** ⛰️💫 (B1, Neutral, No Slang) | elevated ⬆️, lofty 🌤️, tall 🏢, towering 🏰 | 1. The mountain peak stood **high up**, almost touching the sky. ⛰️🌌<br>2. The birds flew **high up** above the clouds. 🦅☁️<br>3. The penthouse suite was **high up**, offering a stunning view of the city. 🏙️✨ |"
   ]
  },
  {
   "cell_type": "markdown",
   "metadata": {},
   "source": [
    "| **📌Meaning + (level, Formality, Slang)** | **📌Synonyms** | **📌3 example sentences** |\n",
    "|---|---|---|\n",
    "| **1. To move back and forth or side to side, often gently.** 🌊💃 (B1, Neutral, No Slang) | swing 🎶, rock 🕺, oscillate 🔄, wave 🌊 | 1. The trees **swayed** in the wind, creating a peaceful sound. 🌳🌬️<br>2. She stood still as the boat gently **swayed** on the water. 🚤💧<br>3. The dancers began to **sway** to the rhythm of the music. 🎶💃 |\n",
    "| **2. To influence or persuade someone to change their opinion.** 🧠💭 (B2, Neutral, No Slang) | influence 🤔, persuade 💬, convince ✔️, sway 💪 | 1. He tried to **sway** the vote by presenting compelling arguments. 🗳️💬<br>2. The advertisement **swayed** many customers to buy the product. 🛍️📈<br>3. She was **swayed** by the kindness of her friend. 🤝💖 |"
   ]
  },
  {
   "cell_type": "markdown",
   "metadata": {},
   "source": [
    "| **Word** | **Meaning 🤔** (What makes it unique?) | **Meaning Difference 🔥** (How’s it different from the others?) |\n",
    "|---|---|---|\n",
    "| **Swing** 🛝🕺 | To **move back and forth** (or side to side) from a fixed point, often in a **larger, more forceful** or even **playful** motion. (Think of a kid on a swing set or Tarzan flying on vines! 🌴) | **Swing** is all about that **arc movement**, and usually has a **wider range** and feels more **intentional or energetic**. You can also *swing your arms*, *swing by a friend's place*, or *swing a bat*—so it's super versatile! 🏏🌪️ |\n",
    "| **Sway** 🌬️🌊 | To **gently move or lean** from side to side—often in a **slow, smooth, rhythmic** way. (Think of trees in the wind or someone swaying to music. 🎶🌳) | **Sway** is **softer and more passive**—it's like you're **being influenced** by an outside force (wind, music, emotion). Less action-packed than *swing*, more dreamy-vibes. 💤✨ |"
   ]
  },
  {
   "cell_type": "markdown",
   "metadata": {},
   "source": [
    "| **📌Meaning + (level, Formality, Slang)** | **📌Synonyms** | **📌3 example sentences** |\n",
    "|---|---|---|\n",
    "| **1. To become less intense or severe; to relax or reduce pressure.** 😌💆‍♂️ (B2, Neutral, No Slang) | relax 🧘‍♀️, soften 🫶, calm down 🧘, ease off 🦋 | 1. You should **ease up** on the gas pedal, we're almost there! 🚗💨<br>2. After a long week of work, I plan to **ease up** and enjoy the weekend. 🌴☀️<br>3. The teacher asked the students to **ease up** on their arguments and listen to each other. 👂💬 |\n",
    "| **2. To be less strict or harsh, often used when giving a warning.** ⚖️😅 (B2, Neutral, No Slang) | loosen up 👐, lighten up 😎, let go 🕊️, back off 🛑 | 1. The coach told the players to **ease up** on their practice routine after a hard session. 🏋️‍♂️💪<br>2. I think you should **ease up** on yourself, it’s okay to take breaks! 🌸🛋️<br>3. Don’t be so harsh, **ease up** a bit! Everyone is trying their best. 🤗💖 |"
   ]
  },
  {
   "cell_type": "markdown",
   "metadata": {},
   "source": [
    "| **📌Meaning + (level, Formality, Slang)** | **📌Synonyms** | **📌3 example sentences** |\n",
    "|---|---|---|\n",
    "| **1. A terrible fate or disaster, often inevitable or foreseen.** 💀⚠️ (C2, Neutral, No Slang) | disaster 💥, catastrophe 💣, calamity 🌀, tragedy 💔 | 1. The ship was heading straight for **doom** as the storm raged around it. 🌪️⛵<br>2. The village faced certain **doom** unless they could find a solution to the drought. 🏜️💧<br>3. Many feared that the **doom** of the planet was inevitable due to climate change. 🌍🔥 |\n",
    "| **2. To condemn someone or something to an undesirable fate.** 🚫⏳ (C1, Neutral, No Slang) | condemn 🛑, sentence ⚖️, fated ⏳, destined 🚪 | 1. The king’s decision to ignore the warnings could **doom** his kingdom. 👑💔<br>2. Her actions seemed to **doom** the project from the very beginning. 📉📚<br>3. The company’s refusal to innovate might **doom** it to failure in the long run. 💻🚨 |"
   ]
  },
  {
   "cell_type": "markdown",
   "metadata": {},
   "source": [
    "| **📌Meaning + (level, Formality, Slang)** | **📌Synonyms** | **📌3 example sentences** |\n",
    "|---|---|---|\n",
    "| **1. Extremely serious or urgent; urgent, critical.** 🚨⚠️ (C2, Neutral, No Slang) | urgent ⏰, critical ⚠️, grave 🏚️, pressing ⏳ | 1. The situation in the hospital became **dire** when the power went out during the storm. 🌧️🩺<br>2. The company is facing a **dire** financial crisis and may soon close its doors. 💸🚪<br>3. His health condition became **dire**, and immediate surgery was required. 🏥💔 |\n",
    "| **2. Involving or causing great danger or risk.** ☠️🔥 (C1, Neutral, No Slang) | dangerous ⚡, perilous 🌪️, risky ⚠️, hazardous 🛑 | 1. The explorers found themselves in a **dire** predicament in the middle of the jungle. 🌳🦎<br>2. The mission was **dire**, with very little chance of success. 🛰️💥<br>3. The **dire** consequences of ignoring safety procedures were clear after the accident. 🚧🔴 |"
   ]
  },
  {
   "cell_type": "markdown",
   "metadata": {},
   "source": [
    "| **📌Meaning + (level, Formality, Slang)** | **📌Synonyms** | **📌3 example sentences** |\n",
    "|---|---|---|\n",
    "| **1. To die, especially in a violent or untimely way.** ⚰️💀 (C1, Neutral, No Slang) | die 💀, pass away 🕊️, expire ⏳, meet one's end 👀 | 1. Many soldiers **perished** in the battle, unable to escape the enemy's attack. ⚔️💥<br>2. She feared she would **perish** from the cold if she didn't find shelter soon. ❄️🏚️<br>3. The animals **perished** in the fire, unable to escape the flames in time. 🔥🐾 |\n",
    "| **2. To suffer destruction or ruin.** ⚡🌪️ (C1, Formal, No Slang) | be destroyed 💣, be ruined 💔, be lost 🌪️, be obliterated 🔨 | 1. The ancient building **perished** in the earthquake, leaving only rubble behind. 🏚️💥<br>2. His career **perished** after the scandal broke out. 🕵️‍♂️🔥<br>3. The crops **perished** in the drought, leaving the farmers with nothing to harvest. 🌾🌞 |"
   ]
  },
  {
   "cell_type": "markdown",
   "metadata": {},
   "source": [
    "| **📌Meaning + (level, Formality, Slang)** | **📌Synonyms** | **📌3 example sentences** |\n",
    "|---|---|---|\n",
    "| **1. Continuing without interruption; unceasing.** 🔄🕓 (C1, Neutral, No Slang) | constant 🔄, unceasing ⏳, perpetual 🔁, relentless 🚀 | 1. The **incessant** rain flooded the streets, making it difficult to drive. 🌧️🚗<br>2. The **incessant** noise from the construction site kept her awake all night. 🏗️😴<br>3. His **incessant** questioning started to annoy the teacher. ❓👩‍🏫 |\n",
    "| **2. Never-ending or unrelenting in nature.** 🌪️💨 (C1, Formal, No Slang) | endless 🌀, constant 🕓, ceaseless 🌊, unrelenting 🔥 | 1. The **incessant** pursuit of perfection can sometimes lead to burnout. 🏃‍♀️🔥<br>2. The **incessant** demand for change was overwhelming for the government. 🏛️⚡<br>3. Her **incessant** commitment to her studies led to great success. 📚💡 |"
   ]
  },
  {
   "cell_type": "markdown",
   "metadata": {},
   "source": [
    "| **📌Meaning + (level, Formality, Slang)** | **📌Synonyms** | **📌3 example sentences** |\n",
    "|---|---|---|\n",
    "| **1. The act of breathing out air, typically after inhaling.** 🌬️😌 (B1, Neutral, No Slang) | breath 🌬️, exhale 🌬️, outbreath 🌪️, puff 💨 | 1. After holding his breath for a few seconds, he finally released an **exhalation**. 😤💨<br>2. The deep **exhalation** of the wind in the trees created a peaceful atmosphere. 🌳💨<br>3. She gave a slow **exhalation** as she finished her meditation session. 🧘‍♀️🌬️ |\n",
    "| **2. The release or emission of something, such as gas or vapor.** 💨🔥 (B2, Neutral, No Slang) | emission 💨, discharge 🚗, outpouring 💧, venting 🔥 | 1. The **exhalation** of smoke from the factory was visible for miles. 🏭💨<br>2. The sudden **exhalation** of steam from the kettle signaled that the water was boiling. ☕💨<br>3. The **exhalation** of gases from the volcano caused a thick cloud of ash. 🌋💨 |"
   ]
  },
  {
   "cell_type": "markdown",
   "metadata": {},
   "source": [
    "| **Word** | **Meaning 🤔** | **Meaning Difference 🔥** |\n",
    "|---|---|---|\n",
    "| **Exhale** 😮💨 | A **verb**: to **breathe out** air from your lungs. (Think: action moment—like letting go of stress! 😌💆‍♀️) | **Exhale** is the **action**, the *doing*—like “Take a deep breath… now exhale.” You’re moving air out, live in the moment. 🧘‍♂️ |\n",
    "| **Exhalation** 🧪🌬️ | A **noun**: the **process or instance** of breathing out air. (Think: the technical or poetic version of the moment! 🧠📖) | **Exhalation** is the **thing itself**, not the action. It's more **scientific/formal** or **descriptive**. Like “The exhalation was steady and calm.” 🧬 |"
   ]
  },
  {
   "cell_type": "markdown",
   "metadata": {},
   "source": [
    "| **📌Meaning + (level, Formality, Slang)** | **📌Synonyms** | **📌3 example sentences** |\n",
    "|---|---|---|\n",
    "| **1. Extremely hot or burning in nature.** 🔥🌡️ (B2, Neutral, No Slang) | burning 🔥, scorching 🔥, searing 🌞, blistering 🌶️ | 1. The **fiery** dragon breathed flames that could melt anything in its path. 🐉🔥<br>2. He touched the **fiery** stove by mistake and burned his hand! 😖🔥<br>3. The **fiery** sunset painted the sky with shades of orange and red. 🌅🔥 |\n",
    "| **2. Showing intense emotion or passion, especially anger.** 💪🔥 (B2, Neutral, No Slang) | passionate 💖, intense 🔥, fervent ❤️, zealous 💪 | 1. She gave a **fiery** speech about the importance of protecting the environment. 🌍🔥<br>2. Their **fiery** debate lasted for hours without any signs of stopping. 🗣️🔥<br>3. He had a **fiery** temper that could flare up in an instant. 😡🔥 |\n",
    "| **3. Of a reddish-orange color or appearance, like flames.** 🔥🎨 (B2, Neutral, No Slang) | flaming 🔥, crimson ❤️, amber 🍂, burnt-orange 🍊 | 1. She wore a **fiery** red dress that caught everyone's attention at the party. 👗🔥<br>2. The **fiery** leaves of autumn covered the ground like a carpet of colors. 🍁🔥<br>3. His **fiery** hair looked like it was on fire under the sun. 🔥🧑‍🦰 |"
   ]
  },
  {
   "cell_type": "markdown",
   "metadata": {},
   "source": [
    "| **📌Meaning + (level, Formality, Slang)** | **📌Synonyms** | **📌3 example sentences** |\n",
    "|---|---|---|\n",
    "| **1. To be diminished, lowered, or made smaller in size, quantity, or value.** 🐉➡️💧 (B2, Neutral, No Slang) | diminished ➖, lessened ➡️, lowered ⬇️, decreased ➖ | 1. After the storm, the water level in the river was **reduced to** a mere trickle. 🌧️💧<br>2. The company **reduced** its prices to attract more customers. 💸📉<br>3. His energy was **reduced to** nothing after the long hike. 🏞️💨 |\n",
    "| **2. To be forced into a worse or less desirable state.** 😞🔽 (B2, Neutral, No Slang) | humbled 🙇‍♂️, degraded 👎, diminished 😔, debased 🔻 | 1. He was **reduced to** begging after losing all his money. 💸😢<br>2. Her pride was **reduced to** ashes after the embarrassing incident. 😓🔥<br>3. The city was **reduced to** rubble after the earthquake. 🌍💥 |\n"
   ]
  },
  {
   "cell_type": "markdown",
   "metadata": {},
   "source": [
    "| **📌Meaning + (level, Formality, Slang)** | **📌Synonyms** | **📌3 example sentences** |\n",
    "|---|---|---|\n",
    "| **1. To make or become smaller, weaker, or less important.** 🐉➡️💨 (B2, Neutral, No Slang) | lessen ➖, decrease ➖, reduce ➡️, shrink ➖ | 1. The company’s profits **diminished** after the new competitor entered the market. 📉📊<br>2. The excitement about the event slowly **diminished** as the day went on. ⏳💫<br>3. Over time, his passion for the project **diminished**. 💡⏬ |\n",
    "| **2. To lessen in intensity or magnitude.** 🔥➡️💧 (B2, Neutral, No Slang) | fade 🔆, weaken ⬇️, wane 🌙, slacken 🌬️ | 1. The storm finally **diminished** to a light drizzle. 🌧️➡️☁️<br>2. His anger **diminished** after a calm conversation. 😠➡️🗣️<br>3. The light from the sunset **diminished** as the night took over. 🌅➡️🌙 |\n",
    "| **3. To reduce in value, importance, or quality.** 🏚️➡️🧱 (C1, Neutral, No Slang) | degrade 👎, devalue ⚖️, lessen 👀, cheapen 🪙 | 1. The constant criticism **diminished** her confidence. 💔🙅‍♀️<br>2. Overuse of plastic has **diminished** its quality. 🛍️📉<br>3. His actions **diminished** the trust his team had in him. 💔💼 |"
   ]
  },
  {
   "cell_type": "markdown",
   "metadata": {},
   "source": [
    "| **Word** | **Meaning 🤔** | **Main Difference 🔥** |\n",
    "| --- | --- | --- |\n",
    "| **Lessen** ⚖️ | To make something smaller in size, amount, degree, or intensity. It’s **general** and usually implies a **gradual** reduction. | **Lessen** is about a **gradual** or **gentle** reduction, often in something like **impact** or **intensity** (think: time, stress, or noise). It’s a more neutral word than the others. 🕰️ |\n",
    "| **Decrease** 📉 | To **reduce** in size, quantity, or degree, typically used in **measurable contexts** like numbers, amounts, or levels. | **Decrease** is more **quantifiable** and is often used for **numerical** or **statistical** reductions (e.g., temperature, prices, speed). It’s very straightforward. 🧮 |\n",
    "| **Reduce to** 🌅➡️🌙 | To lower something to a **specific or final level**, often indicating **extremes** or complete change. Like to lower in a **rang/class** (figuratively)| **Reduce to** focuses on **reaching a specific point** or **level**, often implying a more **drastic or complete** reduction (e.g., \"reduce to rubble\" or \"reduce to tears\"). 🏚️ |\n",
    "| **Diminish** 🪙➡️💨 | To **gradually** decrease in size, importance, or intensity. It carries a sense of **gradual fading** or **weakening**, often related to **value** or **effect**. | **Diminish** often implies **loss** or **weakening** in **impact** or **value**. It's typically **gradual** and can imply that something becomes less important or noticeable. 💔 |"
   ]
  },
  {
   "cell_type": "markdown",
   "metadata": {},
   "source": [
    "| **📌Meaning + (level, Formality, Slang)** | **📌Synonyms** | **📌3 example sentences** |\n",
    "|---|---|---|\n",
    "| **1. To hold royal office; to rule as king or queen.** 👑🏰 (C1, Formal, No Slang) | ruled ⚖️, governed 🏛️, presided 🎤, commanded ⚔️ | 1. He **reigned** over the kingdom for 50 years. 👑🏰<br>2. Queen Elizabeth I **reigned** during a period of great cultural expansion. 👑🎨<br>3. The emperor **reigned** with wisdom and strength. ⚔️👑 |\n",
    "| **2. To be predominant or have the greatest influence.** 🌟⚡️ (C2, Neutral, No Slang) | dominated 💥, prevailed 🏆, controlled 🛠️, excelled 🌟 | 1. The artist’s style **reigned** supreme in the 19th century. 🎨👑<br>2. Innovation **reigned** in the tech industry during the early 2000s. 💻🚀<br>3. The team **reigned** as champions for three consecutive years. 🏆⚡️ |\n",
    "| **3. To be the most important or influential in a situation.** 💯💪 (C1, Neutral, No Slang) | prevailed 🏅, dominated 💥, ruled 🌍, held sway 🎯 | 1. The music festival **reigned** as the event of the year in the city. 🎶🎤<br>2. Fashion trends **reigned** on the runway during the latest show. 👗🎬<br>3. The company **reigned** in the market for the last decade. 📈🏢 |"
   ]
  },
  {
   "cell_type": "markdown",
   "metadata": {},
   "source": [
    "| **📌Meaning + (level, Formality, Slang)** | **📌Synonyms** | **📌3 example sentences** |\n",
    "|---|---|---|\n",
    "| **1. A device with a meshed or perforated bottom, used to strain liquids from solids or sift dry ingredients.** 🧑‍🍳🍚 (B2, Neutral, No Slang) | strainer 🥄, sifter 🍰, filter 💧, mesh 🧼 | 1. She used a **sieve** to separate the flour from the lumps. 🍞<br>2. The **sieve** filtered out the rice from the water. 🌾💧<br>3. Use a **sieve** to strain the pasta after boiling it. 🍝 |\n",
    "| **2. To separate or filter something through a sieve.** 💦🧑‍🍳 (C1, Neutral, No Slang) | strain 🥣, sift 🍪, filter 🧃, sort 📊 | 1. The flour was **sieved** before adding it to the batter. 🍰<br>2. You need to **sieve** the sand to remove larger rocks. 🏖️<br>3. She **sieved** the water to remove any debris. 💧🌱 |\n",
    "| **3. A situation where something is filtered or examined carefully to remove unwanted elements.** 🔍🧐 (C2, Formal, No Slang) | filter 🕵️‍♀️, scrutinize 🧐, inspect 🔬, sift 📜 | 1. The documents were **sieved** through before being signed. 📜✍️<br>2. They **sieved** out the fake applications from the genuine ones. 🧳📋<br>3. The information was **sieved** for accuracy before being published. 📚 |"
   ]
  },
  {
   "cell_type": "markdown",
   "metadata": {},
   "source": [
    "| **📌Meaning + (level, Formality, Slang)** | **📌Synonyms** | **📌3 example sentences** |\n",
    "|---|---|---|\n",
    "| **1. To start talking freely about your feelings or thoughts.** 🗣️💖 (B2, Neutral, No Slang) | share 😌, confide 🤫, express 💬, reveal 🧠 | 1. It took him a while to **open up** about his struggles. 🥺<br>2. She finally **opened up** to her therapist. 🛋️<br>3. I wish you'd **open up** more so I can understand how you feel. 💞 |\n",
    "| **2. To make something accessible or available.** 🚪✨ (B2, Neutral, No Slang) | unlock 🔓, make available 📬, offer 🧳, allow 🌐 | 1. The company plans to **open up** new job opportunities next year. 💼<br>2. They’re **opening up** the museum for a special night tour. 🏛️<br>3. The highway project **opened up** access to remote areas. 🛣️ |\n",
    "| **3. To unfold or expand physically.** 🌸📦 (B1, Neutral, No Slang) | unfold 📖, spread 🪷, expand 🌟, stretch out 🧘 | 1. The flower **opened up** under the morning sun. 🌼<br>2. She **opened up** the package carefully. 📦<br>3. As the parachute **opened up**, he began to slow down. 🪂 |"
   ]
  },
  {
   "cell_type": "markdown",
   "metadata": {},
   "source": [
    "| **Word** | **Meaning 🤔** (What makes it unique?) | **Main Difference 🔥** (How’s it different from the other words?) |\n",
    "| --- | --- | --- |\n",
    "| **Open** 🚪 | To **allow access** or **make accessible**, or **not closed**. It’s about creating availability or a physical state of being unsealed. 💡 | **Open** is **neutral** and **used for general access**—like opening doors or windows or something being free from obstruction. It’s about **states** or **actions** of **not being closed**. 🌿 |\n",
    "| **Open up** 🔓 | To **reveal**, **express** emotions, or **make something available in a more specific or personal way**. Often used for **emotional opening** or **making something more intimate**. 💖 | **Open up** focuses on **emotional or personal** aspects—it’s about **sharing inner thoughts**, **expressing feelings**, or **making something more thorough** (e.g., opening up about feelings). It’s more **intimate** than just **open**. 💭 |"
   ]
  },
  {
   "cell_type": "markdown",
   "metadata": {},
   "source": [
    "| **📌Meaning + (level, Formality, Slang)** | **📌Synonyms** | **📌3 example sentences** |\n",
    "|---|---|---|\n",
    "| **1. To demonstrate or show that something is true or correct through evidence or action.** 🧐 (B2, Neutral, No Slang) | confirmed ✅, verified 📑, established 🔍, shown 👀 | 1. The experiment **proved to be** a success after the results came in. 🔬<br>2. His dedication **proved to be** the key to the team's victory. 🏆<br>3. The new system **proved to be** more efficient than expected. ⚙️ |\n",
    "| **2. To turn out or result in something after a process or effort.** 🔄 (B2, Neutral, No Slang) | turned out 💡, ended up 🌈, resulted in 🔚, became 💫 | 1. The dinner **proved to be** a fantastic experience for all the guests. 🍽️<br>2. Her idea **proved to be** the most innovative solution. 💡<br>3. The plan **proved to be** more complicated than we initially thought. 🧩 |"
   ]
  },
  {
   "cell_type": "markdown",
   "metadata": {},
   "source": [
    "| **Word** | **Meaning 🤔** | **Main Difference 🔥** |\n",
    "| --- | --- | --- |\n",
    "| **Turned out** 🤯 | To **result in** something after a process, usually unexpected or surprising. It’s like the final outcome was revealed, often after some time or effort. 🕒 | **Turned out** is more about the **unexpected** or **surprising** result. Like, \"I thought I’d fail, but it **turned out** I did great!\" 🎉 |\n",
    "| **Proved to be** 📚 | To **demonstrate or establish** something as true or correct through evidence or experience. It’s like showing that something is undeniably true after being tested or questioned. 💪 | **Proved to be** emphasizes the **certainty** or **evidence-based** confirmation. \"She **proved to be** the best candidate for the job!\" 🏆 |"
   ]
  },
  {
   "cell_type": "markdown",
   "metadata": {},
   "source": [
    "| **📌Meaning + (level, Formality, Slang)** | **📌Synonyms** | **📌3 example sentences** |\n",
    "|---|---|---|\n",
    "| **1. Absolutely necessary; essential.** 💡 (B2, Neutral, No Slang) | essential 🧠, crucial 🚨, vital 💖, necessary 📋 | 1. A good internet connection is **indispensable** for remote work. 💻<br>2. The teacher was **indispensable** in guiding the students through their final project. 🎓<br>3. Water is **indispensable** for survival. 💧 |\n",
    "| **2. Too important to be replaced or done without.** 🚀 (C1, Formal, No Slang) | irreplaceable 🌟, unique 🔥, critical ⚡, paramount 🌍 | 1. His leadership has proven **indispensable** to the success of the team. 🏆<br>2. She is an **indispensable** member of our research team. 🔬<br>3. The **indispensable** role of technology in modern life is undeniable. 📱 |"
   ]
  },
  {
   "cell_type": "markdown",
   "metadata": {
    "tags": [
     "lol"
    ]
   },
   "source": [
    "| **Word**            | **Meaning 🤔**                                                                                  | **Main Difference 🔥**                                                                                                                                       |\n",
    "|---------------------|------------------------------------------------------------------------------------------------|-----------------------------------------------------------------------------------------------------------------------------------------------------------|\n",
    "| **Inherent** 🧠     | Something **naturally** existing in someone or something, often in a **deeply ingrained** way.    | **Inherent** is about a quality that's **intrinsic** or **natural** to the thing or person. It’s **part of the essence**—not something that can be added or removed! 🌱    |\n",
    "| **Indispensable** 💡| Something **absolutely necessary**—you can’t do without it! (Think: can't go on without it!) 🏆    | **Indispensable** focuses on **something vital for functionality**. It’s about **practical necessity**—without it, things **don’t work** properly! 🛠️                                            |\n",
    "| **Irreplaceable** 💎 | Something that **can’t be replaced**—it's **unique**, often in an emotional or special way! 💖    | **Irreplaceable** is all about **uniqueness**. If you lose it, you can’t find **another exactly like it**—it's one of a kind! **Sentimental or unique** value! 🌟                                               |\n",
    "| **Essential** ⚡     | Something **absolutely needed** for something to function or exist. **Super important**! 🌍         | **Essential** is the **basic foundation** of something—it’s **necessary for survival or existence**. Without it, the whole thing could **collapse or not exist**. 🚨                                          |"
   ]
  },
  {
   "cell_type": "markdown",
   "metadata": {},
   "source": [
    "| **📌Meaning + (level, Formality, Slang)** | **📌Synonyms** | **📌3 example sentences** |\n",
    "|---|---|---|\n",
    "| **1. Able to move quickly and easily; physically nimble and light on one's feet.** <br> 🏃‍♂️🐆 (B2, Neutral, No Slang) | nimble ⚡, spry 🐿️, limber 🤸, quick 🏎️ | 1. The cat was so **agile**, it leaped from roof to roof! 🐱🏠<br>2. She’s incredibly **agile** for her age. 🧘‍♀️💪<br>3. The gymnast showed off his **agile** moves on the mat. 🤸‍♂️✨ |\n",
    "| **2. Mentally quick and adaptable; able <br> to think and react fast.** 🧠⚡<br> (C1, Neutral, No Slang) | sharp 🧊, quick-witted 🧠, flexible 🔁, clever 🧞 | 1. You need an **agile** mind to solve these puzzles. 🧩🧠<br>2. Her **agile** thinking helped us avoid disaster. 🚀🛑<br>3. He's known for his **agile** responses in debates. 🎤🔥 |"
   ]
  },
  {
   "cell_type": "markdown",
   "metadata": {},
   "source": [
    "| **📌Meaning + (level, Formality, Slang)** | **📌Synonyms** | **📌3 example sentences** |\n",
    "|---|---|---|\n",
    "| **To manage to fit something or someone into <br> a tight space or schedule.** 🧃📆 (B2, Informal, Not slang) | Fit in 🔩, Cram in 📚, Slot in 🧩, Pack in 🎒 | 1. I can **squeeze in** a quick workout before dinner. 🏋️‍♂️⏰<br>2. Can we **squeeze in** one more person at the table? 🍽️🪑<br>3. She **squeezed in** a call during her lunch break. 📞🥪 |\n",
    "| **To force or gently push into a small or tight area.** 🧼🚪 (B1, Neutral, Not slang) | Stuff in 🎒, Push in 🤏, Tuck in 🎀, Jam in 🧈 | 1. He **squeezed in** through the half-open door. 🚪🕵️‍♂️<br>2. I **squeezed** the bottle into the already full bag. 🧴👜<br>3. She barely **squeezed in** beside me on the bench. 🪑🤝 |"
   ]
  },
  {
   "cell_type": "markdown",
   "metadata": {},
   "source": [
    "| **📌Meaning + (level, Formality, Slang)** | **📌Synonyms** | **📌3 example sentences** |\n",
    "|---|---|---|\n",
    "| **1. To get involved in a situation to help, stop, or change something.** 🛑🦸 (B2, Neutral, No Slang) | step in 🦶, intercede 🕊️, mediate 🤝, interfere 🙅 | 1. The teacher had to **intervene** to stop the fight. 🧑‍🏫✋<br>2. He **intervened** just in time to prevent disaster. 🕒💥<br>3. Should we **intervene**, or let them solve it themselves? 🤷‍♀️🧩 |\n",
    "| **2. To occur as an interruption between events or periods.** ⏳📉 (C1, Formal, No Slang) | interrupt ⛔, interpose 🧱, insert 📎, break in ⏸️ | 1. A loud noise **intervened** during the ceremony. 🔊👰<br>2. Several weeks **intervened** before we met again. 🗓️🕓<br>3. Nothing should **intervene** with our plans. ✈️📋<br>4. A sudden storm **intervened**, forcing them to cancel the match. 🌩️⚽<br>5. Only a few hours **intervened** between the warning and the disaster. 🚨🌪️<br>6. No major events **intervened** during the peaceful decades. 🕊️📜 |"
   ]
  },
  {
   "cell_type": "markdown",
   "metadata": {},
   "source": [
    "| **📌Meaning + (level, Formality, Slang)** | **📌Synonyms** | **📌3 example sentences** |\n",
    "|---|---|---|\n",
    "| **Secret or hidden, not openly shown or declared.** 🕵️‍♂️🌫️ (C1, Formal, Not slang) | Hidden 🫥, Secret 🤫, Stealthy 🐾, Undercover 🎭 | 1. They carried out a **covert** operation to gather intelligence. 🛰️🔍<br>2. Her **covert** glance told me everything I needed to know. 👀💌<br>3. The agent remained **covert** to avoid detection. 🕶️🛑 |\n",
    "| **Done in a way that is not openly acknowledged or displayed.** 🎩🚫 (C1, Formal, Not slang) | Disguised 🧥, Concealed 🧳, Camouflaged 🌿, Surreptitious 🐍 | 1. He made a **covert** attempt to sabotage the plan. 🧨🕳️<br>2. Their **covert** relationship eventually came to light. 💔👁️<br>3. She offered **covert** support to the resistance group. ✊🕊️ |"
   ]
  },
  {
   "cell_type": "markdown",
   "metadata": {},
   "source": [
    "| **Word** | **Meaning 🤔** | **Main Difference 🔥** |\n",
    "|---|---|---|\n",
    "| **Hidden** 🫥🗝️ | Something that is **placed or kept out of sight**. It’s not visible because it’s *tucked away* or *intentionally obscured*. (Think: Peek-a-boo vibes! 😏) | Super general! 🔄 “Hidden” works for **ANYTHING outta sight**, from your snacks 🍫 to feelings 💔. No special intent, just… not visible. 🕳️ |\n",
    "| **Concealed** 🧳🎩 | Means **intentionally hidden**, often with **purpose or care**—someone doesn’t *want* you to see it! (Think: secret weapons, forbidden letters 🕵️‍♀️📨) | Sounds a bit more **deliberate and crafty** 🧠✨ than “hidden”. You’re **trying to hide it** carefully, like a magician’s trick. 🎩✨ |\n",
    "| **Covert** 🕶️🔒 | **Secret, undercover, and meant to stay unknown**, often for **strategic or sneaky reasons**. (Think: spy ops, double agents, ninja stuff! 🥷) | Way more **formal and mission-style** 😤—used for **plans, operations, or actions**, not just objects. Always has that *stealth mode* energy. 🛰️💣 |"
   ]
  }
 ],
 "metadata": {
  "kernelspec": {
   "display_name": ".venv",
   "language": "python",
   "name": "python3"
  },
  "language_info": {
   "codemirror_mode": {
    "name": "ipython",
    "version": 3
   },
   "file_extension": ".py",
   "mimetype": "text/x-python",
   "name": "python",
   "nbconvert_exporter": "python",
   "pygments_lexer": "ipython3",
   "version": "3.13.1"
  }
 },
 "nbformat": 4,
 "nbformat_minor": 2
}
